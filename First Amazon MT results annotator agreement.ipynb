{
 "cells": [
  {
   "cell_type": "markdown",
   "metadata": {},
   "source": [
    "# First Amazon MT results annotator agreement\n",
    "\n",
    "First Amazon HITs, done for the 1000 images, filtered to be public domain and having IIIF data, stratified sample of 250 items per `object_names` *blyant*, *maleri*, *pen* and *akvarel*.\n",
    "\n",
    "![](https://upload.wikimedia.org/wikipedia/commons/thumb/6/6e/Racknitz_-_The_Turk_3.jpg/659px-Racknitz_-_The_Turk_3.jpg)"
   ]
  },
  {
   "cell_type": "code",
   "execution_count": 2,
   "metadata": {},
   "outputs": [],
   "source": [
    "import pandas as pd\n",
    "import altair as alt\n",
    "import shutil\n",
    "from tqdm import tqdm"
   ]
  },
  {
   "cell_type": "code",
   "execution_count": 3,
   "metadata": {},
   "outputs": [],
   "source": [
    "pd.options.display.max_columns = 90"
   ]
  },
  {
   "cell_type": "markdown",
   "metadata": {},
   "source": [
    "Random seed."
   ]
  },
  {
   "cell_type": "code",
   "execution_count": 4,
   "metadata": {},
   "outputs": [],
   "source": [
    "SEED = 2019"
   ]
  },
  {
   "cell_type": "markdown",
   "metadata": {},
   "source": [
    "## Read data"
   ]
  },
  {
   "cell_type": "markdown",
   "metadata": {},
   "source": [
    "### SMK image data"
   ]
  },
  {
   "cell_type": "code",
   "execution_count": 5,
   "metadata": {},
   "outputs": [
    {
     "name": "stdout",
     "output_type": "stream",
     "text": [
      "CPU times: user 8.71 s, sys: 1.24 s, total: 9.95 s\n",
      "Wall time: 10.6 s\n"
     ]
    },
    {
     "data": {
      "text/plain": [
       "(79004, 52)"
      ]
     },
     "execution_count": 5,
     "metadata": {},
     "output_type": "execute_result"
    }
   ],
   "source": [
    "%%time\n",
    "smk = pd.read_json('data/smk/smk_all_artworks.json').set_index('id')\n",
    "smk.shape"
   ]
  },
  {
   "cell_type": "code",
   "execution_count": 10,
   "metadata": {},
   "outputs": [
    {
     "data": {
      "text/html": [
       "<div>\n",
       "<style scoped>\n",
       "    .dataframe tbody tr th:only-of-type {\n",
       "        vertical-align: middle;\n",
       "    }\n",
       "\n",
       "    .dataframe tbody tr th {\n",
       "        vertical-align: top;\n",
       "    }\n",
       "\n",
       "    .dataframe thead th {\n",
       "        text-align: right;\n",
       "    }\n",
       "</style>\n",
       "<table border=\"1\" class=\"dataframe\">\n",
       "  <thead>\n",
       "    <tr style=\"text-align: right;\">\n",
       "      <th></th>\n",
       "      <th>on_display</th>\n",
       "      <th>object_number</th>\n",
       "      <th>modified</th>\n",
       "      <th>rights</th>\n",
       "      <th>titles</th>\n",
       "      <th>production</th>\n",
       "      <th>iiif_manifest</th>\n",
       "      <th>production_date</th>\n",
       "      <th>techniques</th>\n",
       "      <th>created</th>\n",
       "      <th>object_names</th>\n",
       "      <th>has_image</th>\n",
       "      <th>public_domain</th>\n",
       "      <th>dimensions</th>\n",
       "      <th>responsible_department</th>\n",
       "      <th>inscriptions</th>\n",
       "      <th>credit_line</th>\n",
       "      <th>acquisition_date_precision</th>\n",
       "      <th>frame_notes</th>\n",
       "      <th>image_iiif_info</th>\n",
       "      <th>image_native</th>\n",
       "      <th>image_orientation</th>\n",
       "      <th>image_height</th>\n",
       "      <th>alternative_images</th>\n",
       "      <th>image_width</th>\n",
       "      <th>number_of_parts</th>\n",
       "      <th>image_iiif_id</th>\n",
       "      <th>part_of</th>\n",
       "      <th>image_thumbnail</th>\n",
       "      <th>colors</th>\n",
       "      <th>image_size</th>\n",
       "      <th>image_mime_type</th>\n",
       "      <th>image_cropped</th>\n",
       "      <th>distinguishing_features</th>\n",
       "      <th>notes</th>\n",
       "      <th>related_objects</th>\n",
       "      <th>object_history_note</th>\n",
       "      <th>collection</th>\n",
       "      <th>production_dates_notes</th>\n",
       "      <th>exhibitions</th>\n",
       "      <th>documentation</th>\n",
       "      <th>content_description</th>\n",
       "      <th>content_person</th>\n",
       "      <th>work_status</th>\n",
       "      <th>materials</th>\n",
       "      <th>parts</th>\n",
       "      <th>content_subject</th>\n",
       "      <th>acquisition_date</th>\n",
       "      <th>current_location_name</th>\n",
       "      <th>labels</th>\n",
       "      <th>image_type</th>\n",
       "      <th>current_location_date</th>\n",
       "    </tr>\n",
       "    <tr>\n",
       "      <th>id</th>\n",
       "      <th></th>\n",
       "      <th></th>\n",
       "      <th></th>\n",
       "      <th></th>\n",
       "      <th></th>\n",
       "      <th></th>\n",
       "      <th></th>\n",
       "      <th></th>\n",
       "      <th></th>\n",
       "      <th></th>\n",
       "      <th></th>\n",
       "      <th></th>\n",
       "      <th></th>\n",
       "      <th></th>\n",
       "      <th></th>\n",
       "      <th></th>\n",
       "      <th></th>\n",
       "      <th></th>\n",
       "      <th></th>\n",
       "      <th></th>\n",
       "      <th></th>\n",
       "      <th></th>\n",
       "      <th></th>\n",
       "      <th></th>\n",
       "      <th></th>\n",
       "      <th></th>\n",
       "      <th></th>\n",
       "      <th></th>\n",
       "      <th></th>\n",
       "      <th></th>\n",
       "      <th></th>\n",
       "      <th></th>\n",
       "      <th></th>\n",
       "      <th></th>\n",
       "      <th></th>\n",
       "      <th></th>\n",
       "      <th></th>\n",
       "      <th></th>\n",
       "      <th></th>\n",
       "      <th></th>\n",
       "      <th></th>\n",
       "      <th></th>\n",
       "      <th></th>\n",
       "      <th></th>\n",
       "      <th></th>\n",
       "      <th></th>\n",
       "      <th></th>\n",
       "      <th></th>\n",
       "      <th></th>\n",
       "      <th></th>\n",
       "      <th></th>\n",
       "      <th></th>\n",
       "    </tr>\n",
       "  </thead>\n",
       "  <tbody>\n",
       "    <tr>\n",
       "      <th>1180000001_object</th>\n",
       "      <td>False</td>\n",
       "      <td>KKS1979-359</td>\n",
       "      <td>2019-08-08 12:48:54+00:00</td>\n",
       "      <td>https://en.wikipedia.org/wiki/Copyright</td>\n",
       "      <td>[{'title': 'Surreel komposition', 'language': ...</td>\n",
       "      <td>[{'creator_nationality': 'dansk', 'creator': '...</td>\n",
       "      <td>https://api.smk.dk/api/v1/iiif/manifest/?id=kk...</td>\n",
       "      <td>[{'period': '12.oktober 1944 ', 'start': '1944...</td>\n",
       "      <td>[{'technique': 'Akvarel over blyant på tyndt, ...</td>\n",
       "      <td>2019-08-07T03:19:22Z</td>\n",
       "      <td>[{'name': 'tegning'}]</td>\n",
       "      <td>False</td>\n",
       "      <td>False</td>\n",
       "      <td>[{'part': 'bladmaal', 'type': 'hojde', 'unit':...</td>\n",
       "      <td>Samling og Forskning (KKS)</td>\n",
       "      <td>[{'content': 'Sign. og dat. f.o.t.v. med pen o...</td>\n",
       "      <td>[© Ib Geertsen]</td>\n",
       "      <td>1979-12-30</td>\n",
       "      <td>[Bagklædning: false, Mikroklimaramme: false]</td>\n",
       "      <td>NaN</td>\n",
       "      <td>NaN</td>\n",
       "      <td>NaN</td>\n",
       "      <td>NaN</td>\n",
       "      <td>NaN</td>\n",
       "      <td>NaN</td>\n",
       "      <td>NaN</td>\n",
       "      <td>NaN</td>\n",
       "      <td>NaN</td>\n",
       "      <td>NaN</td>\n",
       "      <td>NaN</td>\n",
       "      <td>NaN</td>\n",
       "      <td>NaN</td>\n",
       "      <td>NaN</td>\n",
       "      <td>NaN</td>\n",
       "      <td>NaN</td>\n",
       "      <td>NaN</td>\n",
       "      <td>NaN</td>\n",
       "      <td>NaN</td>\n",
       "      <td>NaN</td>\n",
       "      <td>NaN</td>\n",
       "      <td>NaN</td>\n",
       "      <td>NaN</td>\n",
       "      <td>NaN</td>\n",
       "      <td>NaN</td>\n",
       "      <td>NaN</td>\n",
       "      <td>NaN</td>\n",
       "      <td>NaN</td>\n",
       "      <td>NaN</td>\n",
       "      <td>NaN</td>\n",
       "      <td>NaN</td>\n",
       "      <td>NaN</td>\n",
       "      <td>NaN</td>\n",
       "    </tr>\n",
       "    <tr>\n",
       "      <th>1180000002_object</th>\n",
       "      <td>False</td>\n",
       "      <td>KKS1979-94/80</td>\n",
       "      <td>2019-08-12 09:21:24+00:00</td>\n",
       "      <td>https://en.wikipedia.org/wiki/Copyright</td>\n",
       "      <td>[{'type': 'ARTIST', 'title': 'Resultatet', 'la...</td>\n",
       "      <td>[{'creator': 'Nielsen, Palle', 'creator_date_o...</td>\n",
       "      <td>https://api.smk.dk/api/v1/iiif/manifest/?id=kk...</td>\n",
       "      <td>[{'period': '(1949)', 'start': '1949-01-01T00:...</td>\n",
       "      <td>[{'technique': 'pen og sort tusch'}]</td>\n",
       "      <td>2019-08-07T03:19:23Z</td>\n",
       "      <td>[{'name': 'tegning'}]</td>\n",
       "      <td>True</td>\n",
       "      <td>False</td>\n",
       "      <td>[{'part': 'bladmaal', 'type': 'hojde', 'notes'...</td>\n",
       "      <td>Samling og Forskning (KKS)</td>\n",
       "      <td>[{'content': 'Med blyant f.n.:\" 81 Resultatet\"...</td>\n",
       "      <td>[© Palle Nielsen]</td>\n",
       "      <td>1979-02-14</td>\n",
       "      <td>[Bagklædning: false, Mikroklimaramme: false]</td>\n",
       "      <td>https://iip.smk.dk/iiif/jp2/pc4-28-02-05_-_122...</td>\n",
       "      <td>https://iip.smk.dk/iiif/jp2/pc4-28-02-05_-_122...</td>\n",
       "      <td>landscape</td>\n",
       "      <td>2876.0</td>\n",
       "      <td>[{'width': 4021, 'native': 'https://iip.smk.dk...</td>\n",
       "      <td>2989.0</td>\n",
       "      <td>143.0</td>\n",
       "      <td>https://iip.smk.dk/iiif/jp2/pc4-28-02-05_-_122...</td>\n",
       "      <td>[KKS1979-94]</td>\n",
       "      <td>https://iip.smk.dk/iiif/jp2/pc4-28-02-05_-_122...</td>\n",
       "      <td>[#FFFFFF, #000000, #555555, #5A5A5A, #9B9B9B]</td>\n",
       "      <td>18640222.0</td>\n",
       "      <td>image/tiff</td>\n",
       "      <td>1.0</td>\n",
       "      <td>NaN</td>\n",
       "      <td>NaN</td>\n",
       "      <td>NaN</td>\n",
       "      <td>NaN</td>\n",
       "      <td>NaN</td>\n",
       "      <td>NaN</td>\n",
       "      <td>NaN</td>\n",
       "      <td>NaN</td>\n",
       "      <td>NaN</td>\n",
       "      <td>NaN</td>\n",
       "      <td>NaN</td>\n",
       "      <td>NaN</td>\n",
       "      <td>NaN</td>\n",
       "      <td>NaN</td>\n",
       "      <td>NaN</td>\n",
       "      <td>NaN</td>\n",
       "      <td>NaN</td>\n",
       "      <td>NaN</td>\n",
       "      <td>NaN</td>\n",
       "    </tr>\n",
       "    <tr>\n",
       "      <th>1180000003_object</th>\n",
       "      <td>False</td>\n",
       "      <td>KMSr207/77</td>\n",
       "      <td>2019-08-08 08:26:46+00:00</td>\n",
       "      <td>https://creativecommons.org/share-your-work/pu...</td>\n",
       "      <td>[{'type': 'ARTIST', 'language': 'en-US'}]</td>\n",
       "      <td>[{'creator': 'Monk, Jonathan', 'creator_histor...</td>\n",
       "      <td>https://api.smk.dk/api/v1/iiif/manifest/?id=km...</td>\n",
       "      <td>[{'period': '1997', 'start': '1997-01-01T00:00...</td>\n",
       "      <td>[{'technique': 'Farvefotografi'}]</td>\n",
       "      <td>2019-08-07T03:19:23Z</td>\n",
       "      <td>[{'name': 'installation'}]</td>\n",
       "      <td>False</td>\n",
       "      <td>True</td>\n",
       "      <td>[{'part': 'netto', 'type': 'hojde', 'notes': '...</td>\n",
       "      <td>Samling og Forskning (KMS)</td>\n",
       "      <td>NaN</td>\n",
       "      <td>[© Jonathan Monk]</td>\n",
       "      <td>1998-04-08</td>\n",
       "      <td>[Bagklædning: false, Mikroklimaramme: false]</td>\n",
       "      <td>NaN</td>\n",
       "      <td>NaN</td>\n",
       "      <td>NaN</td>\n",
       "      <td>NaN</td>\n",
       "      <td>NaN</td>\n",
       "      <td>NaN</td>\n",
       "      <td>86.0</td>\n",
       "      <td>NaN</td>\n",
       "      <td>[KMSr207]</td>\n",
       "      <td>NaN</td>\n",
       "      <td>NaN</td>\n",
       "      <td>NaN</td>\n",
       "      <td>NaN</td>\n",
       "      <td>NaN</td>\n",
       "      <td>[Indhold / Kollation: Installationen består af...</td>\n",
       "      <td>[For revision se delværk nummer 1]</td>\n",
       "      <td>[{'notes': 'Dette eksemplar er # 1 ud af en ed...</td>\n",
       "      <td>NaN</td>\n",
       "      <td>NaN</td>\n",
       "      <td>NaN</td>\n",
       "      <td>NaN</td>\n",
       "      <td>NaN</td>\n",
       "      <td>NaN</td>\n",
       "      <td>NaN</td>\n",
       "      <td>NaN</td>\n",
       "      <td>NaN</td>\n",
       "      <td>NaN</td>\n",
       "      <td>NaN</td>\n",
       "      <td>NaN</td>\n",
       "      <td>NaN</td>\n",
       "      <td>NaN</td>\n",
       "      <td>NaN</td>\n",
       "      <td>NaN</td>\n",
       "    </tr>\n",
       "    <tr>\n",
       "      <th>1180000004_object</th>\n",
       "      <td>False</td>\n",
       "      <td>KKS1995-101/5</td>\n",
       "      <td>2019-08-12 09:21:24+00:00</td>\n",
       "      <td>https://en.wikipedia.org/wiki/Copyright</td>\n",
       "      <td>[{'type': 'MUSEUM', 'title': 'Uden titel', 'la...</td>\n",
       "      <td>[{'creator': 'Kelley, Mike', 'creator_date_of_...</td>\n",
       "      <td>https://api.smk.dk/api/v1/iiif/manifest/?id=kk...</td>\n",
       "      <td>[{'period': '1994', 'start': '1994-01-01T00:00...</td>\n",
       "      <td>[{'technique': 's/h fotografi'}]</td>\n",
       "      <td>2019-08-07T03:19:23Z</td>\n",
       "      <td>[{'name': 'fotografi'}]</td>\n",
       "      <td>True</td>\n",
       "      <td>False</td>\n",
       "      <td>[{'part': 'monteringsmaal', 'type': 'hojde', '...</td>\n",
       "      <td>Samling og Forskning (KKS)</td>\n",
       "      <td>[{'content': 'Sign. og dat. f.n.m.f.: \"Mike Ke...</td>\n",
       "      <td>[© Mike Kelley]</td>\n",
       "      <td>1995-12-31</td>\n",
       "      <td>[Bagklædning: false, Mikroklimaramme: false]</td>\n",
       "      <td>NaN</td>\n",
       "      <td>https://api.smk.dk/api/v1/thumbnail/547d7074-9...</td>\n",
       "      <td>NaN</td>\n",
       "      <td>NaN</td>\n",
       "      <td>NaN</td>\n",
       "      <td>NaN</td>\n",
       "      <td>13.0</td>\n",
       "      <td>NaN</td>\n",
       "      <td>[KKS1995-101]</td>\n",
       "      <td>https://api.smk.dk/api/v1/thumbnail/547d7074-9...</td>\n",
       "      <td>[#9B9B9B, #9B9B9B, #5A5A5A, #555555, #D2D2D2]</td>\n",
       "      <td>NaN</td>\n",
       "      <td>NaN</td>\n",
       "      <td>NaN</td>\n",
       "      <td>NaN</td>\n",
       "      <td>[Vedr. titel: Den angivne titel står anført på...</td>\n",
       "      <td>NaN</td>\n",
       "      <td>NaN</td>\n",
       "      <td>NaN</td>\n",
       "      <td>NaN</td>\n",
       "      <td>NaN</td>\n",
       "      <td>NaN</td>\n",
       "      <td>NaN</td>\n",
       "      <td>NaN</td>\n",
       "      <td>NaN</td>\n",
       "      <td>NaN</td>\n",
       "      <td>NaN</td>\n",
       "      <td>NaN</td>\n",
       "      <td>NaN</td>\n",
       "      <td>NaN</td>\n",
       "      <td>NaN</td>\n",
       "      <td>NaN</td>\n",
       "      <td>NaN</td>\n",
       "    </tr>\n",
       "    <tr>\n",
       "      <th>1180000005_object</th>\n",
       "      <td>False</td>\n",
       "      <td>KKSgb8100/4 verso</td>\n",
       "      <td>2019-08-08 08:30:18+00:00</td>\n",
       "      <td>https://creativecommons.org/share-your-work/pu...</td>\n",
       "      <td>[{'type': 'DESCRIPT', 'title': 'Skitse af en h...</td>\n",
       "      <td>[{'creator_nationality': 'dansk', 'creator': '...</td>\n",
       "      <td>https://api.smk.dk/api/v1/iiif/manifest/?id=kk...</td>\n",
       "      <td>[{'period': '1839', 'start': '1839-01-01T00:00...</td>\n",
       "      <td>[{'technique': 'Pen, sort blæk og grå lavering'}]</td>\n",
       "      <td>2019-08-07T03:19:24Z</td>\n",
       "      <td>[{'name': 'tegning'}]</td>\n",
       "      <td>False</td>\n",
       "      <td>True</td>\n",
       "      <td>[{'part': 'monteringsmaal', 'type': 'hojde', '...</td>\n",
       "      <td>Samling og Forskning (KKS)</td>\n",
       "      <td>NaN</td>\n",
       "      <td>NaN</td>\n",
       "      <td>1987-12-31</td>\n",
       "      <td>[Bagklædning: false, Mikroklimaramme: false]</td>\n",
       "      <td>NaN</td>\n",
       "      <td>NaN</td>\n",
       "      <td>NaN</td>\n",
       "      <td>NaN</td>\n",
       "      <td>NaN</td>\n",
       "      <td>NaN</td>\n",
       "      <td>36.0</td>\n",
       "      <td>NaN</td>\n",
       "      <td>[KKSgb8100]</td>\n",
       "      <td>NaN</td>\n",
       "      <td>NaN</td>\n",
       "      <td>NaN</td>\n",
       "      <td>NaN</td>\n",
       "      <td>NaN</td>\n",
       "      <td>[Værket er vendt op ned]</td>\n",
       "      <td>NaN</td>\n",
       "      <td>[{'title': 'Skitse af stejlende hest set bagfr...</td>\n",
       "      <td>[Erhvervet ved køb af Lorenz Frølichs barnebar...</td>\n",
       "      <td>[Gammel bestand]</td>\n",
       "      <td>[Dat. på omslaget]</td>\n",
       "      <td>NaN</td>\n",
       "      <td>NaN</td>\n",
       "      <td>NaN</td>\n",
       "      <td>NaN</td>\n",
       "      <td>NaN</td>\n",
       "      <td>NaN</td>\n",
       "      <td>NaN</td>\n",
       "      <td>NaN</td>\n",
       "      <td>NaN</td>\n",
       "      <td>NaN</td>\n",
       "      <td>NaN</td>\n",
       "      <td>NaN</td>\n",
       "      <td>NaN</td>\n",
       "    </tr>\n",
       "  </tbody>\n",
       "</table>\n",
       "</div>"
      ],
      "text/plain": [
       "                   on_display      object_number                  modified  \\\n",
       "id                                                                           \n",
       "1180000001_object       False        KKS1979-359 2019-08-08 12:48:54+00:00   \n",
       "1180000002_object       False      KKS1979-94/80 2019-08-12 09:21:24+00:00   \n",
       "1180000003_object       False         KMSr207/77 2019-08-08 08:26:46+00:00   \n",
       "1180000004_object       False      KKS1995-101/5 2019-08-12 09:21:24+00:00   \n",
       "1180000005_object       False  KKSgb8100/4 verso 2019-08-08 08:30:18+00:00   \n",
       "\n",
       "                                                              rights  \\\n",
       "id                                                                     \n",
       "1180000001_object            https://en.wikipedia.org/wiki/Copyright   \n",
       "1180000002_object            https://en.wikipedia.org/wiki/Copyright   \n",
       "1180000003_object  https://creativecommons.org/share-your-work/pu...   \n",
       "1180000004_object            https://en.wikipedia.org/wiki/Copyright   \n",
       "1180000005_object  https://creativecommons.org/share-your-work/pu...   \n",
       "\n",
       "                                                              titles  \\\n",
       "id                                                                     \n",
       "1180000001_object  [{'title': 'Surreel komposition', 'language': ...   \n",
       "1180000002_object  [{'type': 'ARTIST', 'title': 'Resultatet', 'la...   \n",
       "1180000003_object          [{'type': 'ARTIST', 'language': 'en-US'}]   \n",
       "1180000004_object  [{'type': 'MUSEUM', 'title': 'Uden titel', 'la...   \n",
       "1180000005_object  [{'type': 'DESCRIPT', 'title': 'Skitse af en h...   \n",
       "\n",
       "                                                          production  \\\n",
       "id                                                                     \n",
       "1180000001_object  [{'creator_nationality': 'dansk', 'creator': '...   \n",
       "1180000002_object  [{'creator': 'Nielsen, Palle', 'creator_date_o...   \n",
       "1180000003_object  [{'creator': 'Monk, Jonathan', 'creator_histor...   \n",
       "1180000004_object  [{'creator': 'Kelley, Mike', 'creator_date_of_...   \n",
       "1180000005_object  [{'creator_nationality': 'dansk', 'creator': '...   \n",
       "\n",
       "                                                       iiif_manifest  \\\n",
       "id                                                                     \n",
       "1180000001_object  https://api.smk.dk/api/v1/iiif/manifest/?id=kk...   \n",
       "1180000002_object  https://api.smk.dk/api/v1/iiif/manifest/?id=kk...   \n",
       "1180000003_object  https://api.smk.dk/api/v1/iiif/manifest/?id=km...   \n",
       "1180000004_object  https://api.smk.dk/api/v1/iiif/manifest/?id=kk...   \n",
       "1180000005_object  https://api.smk.dk/api/v1/iiif/manifest/?id=kk...   \n",
       "\n",
       "                                                     production_date  \\\n",
       "id                                                                     \n",
       "1180000001_object  [{'period': '12.oktober 1944 ', 'start': '1944...   \n",
       "1180000002_object  [{'period': '(1949)', 'start': '1949-01-01T00:...   \n",
       "1180000003_object  [{'period': '1997', 'start': '1997-01-01T00:00...   \n",
       "1180000004_object  [{'period': '1994', 'start': '1994-01-01T00:00...   \n",
       "1180000005_object  [{'period': '1839', 'start': '1839-01-01T00:00...   \n",
       "\n",
       "                                                          techniques  \\\n",
       "id                                                                     \n",
       "1180000001_object  [{'technique': 'Akvarel over blyant på tyndt, ...   \n",
       "1180000002_object               [{'technique': 'pen og sort tusch'}]   \n",
       "1180000003_object                  [{'technique': 'Farvefotografi'}]   \n",
       "1180000004_object                   [{'technique': 's/h fotografi'}]   \n",
       "1180000005_object  [{'technique': 'Pen, sort blæk og grå lavering'}]   \n",
       "\n",
       "                                created                object_names  \\\n",
       "id                                                                    \n",
       "1180000001_object  2019-08-07T03:19:22Z       [{'name': 'tegning'}]   \n",
       "1180000002_object  2019-08-07T03:19:23Z       [{'name': 'tegning'}]   \n",
       "1180000003_object  2019-08-07T03:19:23Z  [{'name': 'installation'}]   \n",
       "1180000004_object  2019-08-07T03:19:23Z     [{'name': 'fotografi'}]   \n",
       "1180000005_object  2019-08-07T03:19:24Z       [{'name': 'tegning'}]   \n",
       "\n",
       "                   has_image  public_domain  \\\n",
       "id                                            \n",
       "1180000001_object      False          False   \n",
       "1180000002_object       True          False   \n",
       "1180000003_object      False           True   \n",
       "1180000004_object       True          False   \n",
       "1180000005_object      False           True   \n",
       "\n",
       "                                                          dimensions  \\\n",
       "id                                                                     \n",
       "1180000001_object  [{'part': 'bladmaal', 'type': 'hojde', 'unit':...   \n",
       "1180000002_object  [{'part': 'bladmaal', 'type': 'hojde', 'notes'...   \n",
       "1180000003_object  [{'part': 'netto', 'type': 'hojde', 'notes': '...   \n",
       "1180000004_object  [{'part': 'monteringsmaal', 'type': 'hojde', '...   \n",
       "1180000005_object  [{'part': 'monteringsmaal', 'type': 'hojde', '...   \n",
       "\n",
       "                       responsible_department  \\\n",
       "id                                              \n",
       "1180000001_object  Samling og Forskning (KKS)   \n",
       "1180000002_object  Samling og Forskning (KKS)   \n",
       "1180000003_object  Samling og Forskning (KMS)   \n",
       "1180000004_object  Samling og Forskning (KKS)   \n",
       "1180000005_object  Samling og Forskning (KKS)   \n",
       "\n",
       "                                                        inscriptions  \\\n",
       "id                                                                     \n",
       "1180000001_object  [{'content': 'Sign. og dat. f.o.t.v. med pen o...   \n",
       "1180000002_object  [{'content': 'Med blyant f.n.:\" 81 Resultatet\"...   \n",
       "1180000003_object                                                NaN   \n",
       "1180000004_object  [{'content': 'Sign. og dat. f.n.m.f.: \"Mike Ke...   \n",
       "1180000005_object                                                NaN   \n",
       "\n",
       "                         credit_line acquisition_date_precision  \\\n",
       "id                                                                \n",
       "1180000001_object    [© Ib Geertsen]                 1979-12-30   \n",
       "1180000002_object  [© Palle Nielsen]                 1979-02-14   \n",
       "1180000003_object  [© Jonathan Monk]                 1998-04-08   \n",
       "1180000004_object    [© Mike Kelley]                 1995-12-31   \n",
       "1180000005_object                NaN                 1987-12-31   \n",
       "\n",
       "                                                    frame_notes  \\\n",
       "id                                                                \n",
       "1180000001_object  [Bagklædning: false, Mikroklimaramme: false]   \n",
       "1180000002_object  [Bagklædning: false, Mikroklimaramme: false]   \n",
       "1180000003_object  [Bagklædning: false, Mikroklimaramme: false]   \n",
       "1180000004_object  [Bagklædning: false, Mikroklimaramme: false]   \n",
       "1180000005_object  [Bagklædning: false, Mikroklimaramme: false]   \n",
       "\n",
       "                                                     image_iiif_info  \\\n",
       "id                                                                     \n",
       "1180000001_object                                                NaN   \n",
       "1180000002_object  https://iip.smk.dk/iiif/jp2/pc4-28-02-05_-_122...   \n",
       "1180000003_object                                                NaN   \n",
       "1180000004_object                                                NaN   \n",
       "1180000005_object                                                NaN   \n",
       "\n",
       "                                                        image_native  \\\n",
       "id                                                                     \n",
       "1180000001_object                                                NaN   \n",
       "1180000002_object  https://iip.smk.dk/iiif/jp2/pc4-28-02-05_-_122...   \n",
       "1180000003_object                                                NaN   \n",
       "1180000004_object  https://api.smk.dk/api/v1/thumbnail/547d7074-9...   \n",
       "1180000005_object                                                NaN   \n",
       "\n",
       "                  image_orientation  image_height  \\\n",
       "id                                                  \n",
       "1180000001_object               NaN           NaN   \n",
       "1180000002_object         landscape        2876.0   \n",
       "1180000003_object               NaN           NaN   \n",
       "1180000004_object               NaN           NaN   \n",
       "1180000005_object               NaN           NaN   \n",
       "\n",
       "                                                  alternative_images  \\\n",
       "id                                                                     \n",
       "1180000001_object                                                NaN   \n",
       "1180000002_object  [{'width': 4021, 'native': 'https://iip.smk.dk...   \n",
       "1180000003_object                                                NaN   \n",
       "1180000004_object                                                NaN   \n",
       "1180000005_object                                                NaN   \n",
       "\n",
       "                   image_width  number_of_parts  \\\n",
       "id                                                \n",
       "1180000001_object          NaN              NaN   \n",
       "1180000002_object       2989.0            143.0   \n",
       "1180000003_object          NaN             86.0   \n",
       "1180000004_object          NaN             13.0   \n",
       "1180000005_object          NaN             36.0   \n",
       "\n",
       "                                                       image_iiif_id  \\\n",
       "id                                                                     \n",
       "1180000001_object                                                NaN   \n",
       "1180000002_object  https://iip.smk.dk/iiif/jp2/pc4-28-02-05_-_122...   \n",
       "1180000003_object                                                NaN   \n",
       "1180000004_object                                                NaN   \n",
       "1180000005_object                                                NaN   \n",
       "\n",
       "                         part_of  \\\n",
       "id                                 \n",
       "1180000001_object            NaN   \n",
       "1180000002_object   [KKS1979-94]   \n",
       "1180000003_object      [KMSr207]   \n",
       "1180000004_object  [KKS1995-101]   \n",
       "1180000005_object    [KKSgb8100]   \n",
       "\n",
       "                                                     image_thumbnail  \\\n",
       "id                                                                     \n",
       "1180000001_object                                                NaN   \n",
       "1180000002_object  https://iip.smk.dk/iiif/jp2/pc4-28-02-05_-_122...   \n",
       "1180000003_object                                                NaN   \n",
       "1180000004_object  https://api.smk.dk/api/v1/thumbnail/547d7074-9...   \n",
       "1180000005_object                                                NaN   \n",
       "\n",
       "                                                          colors  image_size  \\\n",
       "id                                                                             \n",
       "1180000001_object                                            NaN         NaN   \n",
       "1180000002_object  [#FFFFFF, #000000, #555555, #5A5A5A, #9B9B9B]  18640222.0   \n",
       "1180000003_object                                            NaN         NaN   \n",
       "1180000004_object  [#9B9B9B, #9B9B9B, #5A5A5A, #555555, #D2D2D2]         NaN   \n",
       "1180000005_object                                            NaN         NaN   \n",
       "\n",
       "                  image_mime_type  image_cropped  \\\n",
       "id                                                 \n",
       "1180000001_object             NaN            NaN   \n",
       "1180000002_object      image/tiff            1.0   \n",
       "1180000003_object             NaN            NaN   \n",
       "1180000004_object             NaN            NaN   \n",
       "1180000005_object             NaN            NaN   \n",
       "\n",
       "                                             distinguishing_features  \\\n",
       "id                                                                     \n",
       "1180000001_object                                                NaN   \n",
       "1180000002_object                                                NaN   \n",
       "1180000003_object  [Indhold / Kollation: Installationen består af...   \n",
       "1180000004_object                                                NaN   \n",
       "1180000005_object                           [Værket er vendt op ned]   \n",
       "\n",
       "                                                               notes  \\\n",
       "id                                                                     \n",
       "1180000001_object                                                NaN   \n",
       "1180000002_object                                                NaN   \n",
       "1180000003_object                 [For revision se delværk nummer 1]   \n",
       "1180000004_object  [Vedr. titel: Den angivne titel står anført på...   \n",
       "1180000005_object                                                NaN   \n",
       "\n",
       "                                                     related_objects  \\\n",
       "id                                                                     \n",
       "1180000001_object                                                NaN   \n",
       "1180000002_object                                                NaN   \n",
       "1180000003_object  [{'notes': 'Dette eksemplar er # 1 ud af en ed...   \n",
       "1180000004_object                                                NaN   \n",
       "1180000005_object  [{'title': 'Skitse af stejlende hest set bagfr...   \n",
       "\n",
       "                                                 object_history_note  \\\n",
       "id                                                                     \n",
       "1180000001_object                                                NaN   \n",
       "1180000002_object                                                NaN   \n",
       "1180000003_object                                                NaN   \n",
       "1180000004_object                                                NaN   \n",
       "1180000005_object  [Erhvervet ved køb af Lorenz Frølichs barnebar...   \n",
       "\n",
       "                         collection production_dates_notes exhibitions  \\\n",
       "id                                                                       \n",
       "1180000001_object               NaN                    NaN         NaN   \n",
       "1180000002_object               NaN                    NaN         NaN   \n",
       "1180000003_object               NaN                    NaN         NaN   \n",
       "1180000004_object               NaN                    NaN         NaN   \n",
       "1180000005_object  [Gammel bestand]     [Dat. på omslaget]         NaN   \n",
       "\n",
       "                  documentation content_description content_person  \\\n",
       "id                                                                   \n",
       "1180000001_object           NaN                 NaN            NaN   \n",
       "1180000002_object           NaN                 NaN            NaN   \n",
       "1180000003_object           NaN                 NaN            NaN   \n",
       "1180000004_object           NaN                 NaN            NaN   \n",
       "1180000005_object           NaN                 NaN            NaN   \n",
       "\n",
       "                  work_status materials parts content_subject  \\\n",
       "id                                                              \n",
       "1180000001_object         NaN       NaN   NaN             NaN   \n",
       "1180000002_object         NaN       NaN   NaN             NaN   \n",
       "1180000003_object         NaN       NaN   NaN             NaN   \n",
       "1180000004_object         NaN       NaN   NaN             NaN   \n",
       "1180000005_object         NaN       NaN   NaN             NaN   \n",
       "\n",
       "                  acquisition_date current_location_name labels image_type  \\\n",
       "id                                                                           \n",
       "1180000001_object              NaN                   NaN    NaN        NaN   \n",
       "1180000002_object              NaN                   NaN    NaN        NaN   \n",
       "1180000003_object              NaN                   NaN    NaN        NaN   \n",
       "1180000004_object              NaN                   NaN    NaN        NaN   \n",
       "1180000005_object              NaN                   NaN    NaN        NaN   \n",
       "\n",
       "                  current_location_date  \n",
       "id                                       \n",
       "1180000001_object                   NaN  \n",
       "1180000002_object                   NaN  \n",
       "1180000003_object                   NaN  \n",
       "1180000004_object                   NaN  \n",
       "1180000005_object                   NaN  "
      ]
     },
     "execution_count": 10,
     "metadata": {},
     "output_type": "execute_result"
    }
   ],
   "source": [
    "smk.head()"
   ]
  },
  {
   "cell_type": "markdown",
   "metadata": {},
   "source": [
    "### Results from AMT"
   ]
  },
  {
   "cell_type": "code",
   "execution_count": 6,
   "metadata": {},
   "outputs": [
    {
     "data": {
      "text/plain": [
       "(3000, 33)"
      ]
     },
     "execution_count": 6,
     "metadata": {},
     "output_type": "execute_result"
    }
   ],
   "source": [
    "results = pd.read_csv('data/amt_results/Batch_3841465_batch_results.csv')\n",
    "results.shape"
   ]
  },
  {
   "cell_type": "code",
   "execution_count": 9,
   "metadata": {},
   "outputs": [
    {
     "data": {
      "text/html": [
       "<div>\n",
       "<style scoped>\n",
       "    .dataframe tbody tr th:only-of-type {\n",
       "        vertical-align: middle;\n",
       "    }\n",
       "\n",
       "    .dataframe tbody tr th {\n",
       "        vertical-align: top;\n",
       "    }\n",
       "\n",
       "    .dataframe thead th {\n",
       "        text-align: right;\n",
       "    }\n",
       "</style>\n",
       "<table border=\"1\" class=\"dataframe\">\n",
       "  <thead>\n",
       "    <tr style=\"text-align: right;\">\n",
       "      <th></th>\n",
       "      <th>HITId</th>\n",
       "      <th>HITTypeId</th>\n",
       "      <th>Title</th>\n",
       "      <th>Description</th>\n",
       "      <th>Keywords</th>\n",
       "      <th>Reward</th>\n",
       "      <th>CreationTime</th>\n",
       "      <th>MaxAssignments</th>\n",
       "      <th>RequesterAnnotation</th>\n",
       "      <th>AssignmentDurationInSeconds</th>\n",
       "      <th>AutoApprovalDelayInSeconds</th>\n",
       "      <th>Expiration</th>\n",
       "      <th>NumberOfSimilarHITs</th>\n",
       "      <th>LifetimeInSeconds</th>\n",
       "      <th>AssignmentId</th>\n",
       "      <th>WorkerId</th>\n",
       "      <th>AssignmentStatus</th>\n",
       "      <th>AcceptTime</th>\n",
       "      <th>SubmitTime</th>\n",
       "      <th>AutoApprovalTime</th>\n",
       "      <th>ApprovalTime</th>\n",
       "      <th>RejectionTime</th>\n",
       "      <th>RequesterFeedback</th>\n",
       "      <th>WorkTimeInSeconds</th>\n",
       "      <th>LifetimeApprovalRate</th>\n",
       "      <th>Last30DaysApprovalRate</th>\n",
       "      <th>Last7DaysApprovalRate</th>\n",
       "      <th>Input.id</th>\n",
       "      <th>Input.image_native</th>\n",
       "      <th>Answer.image-contains</th>\n",
       "      <th>Answer.image-contains.label</th>\n",
       "      <th>Approve</th>\n",
       "      <th>Reject</th>\n",
       "    </tr>\n",
       "  </thead>\n",
       "  <tbody>\n",
       "    <tr>\n",
       "      <th>0</th>\n",
       "      <td>3CVBMEMMYEYYIAXDK2O8T23L1EW7H4</td>\n",
       "      <td>3P7L6K2EZCJCZA9OFURVFP9X84M4N6</td>\n",
       "      <td>Does this image contain the object of interest?</td>\n",
       "      <td>Does this image depict a person or people?</td>\n",
       "      <td>image, classification</td>\n",
       "      <td>$0.10</td>\n",
       "      <td>Tue Nov 19 09:26:56 PST 2019</td>\n",
       "      <td>3</td>\n",
       "      <td>BatchId:3841465;OriginalHitTemplateId:928390875;</td>\n",
       "      <td>3600</td>\n",
       "      <td>259200</td>\n",
       "      <td>Tue Nov 26 09:26:56 PST 2019</td>\n",
       "      <td>NaN</td>\n",
       "      <td>NaN</td>\n",
       "      <td>345LHZDED1AN9X048RXJNKCLW0Y3U5</td>\n",
       "      <td>A1P1XL0NKJCOLZ</td>\n",
       "      <td>Submitted</td>\n",
       "      <td>Tue Nov 19 09:28:11 PST 2019</td>\n",
       "      <td>Tue Nov 19 09:28:19 PST 2019</td>\n",
       "      <td>Fri Nov 22 09:28:19 PST 2019</td>\n",
       "      <td>NaN</td>\n",
       "      <td>NaN</td>\n",
       "      <td>NaN</td>\n",
       "      <td>8</td>\n",
       "      <td>0% (0/0)</td>\n",
       "      <td>0% (0/0)</td>\n",
       "      <td>0% (0/0)</td>\n",
       "      <td>1180026933_object</td>\n",
       "      <td>https://iip.smk.dk/iiif/jp2/pc4-30-09-04_-_091...</td>\n",
       "      <td>NaN</td>\n",
       "      <td>Yes</td>\n",
       "      <td>NaN</td>\n",
       "      <td>NaN</td>\n",
       "    </tr>\n",
       "    <tr>\n",
       "      <th>1</th>\n",
       "      <td>3CVBMEMMYEYYIAXDK2O8T23L1EW7H4</td>\n",
       "      <td>3P7L6K2EZCJCZA9OFURVFP9X84M4N6</td>\n",
       "      <td>Does this image contain the object of interest?</td>\n",
       "      <td>Does this image depict a person or people?</td>\n",
       "      <td>image, classification</td>\n",
       "      <td>$0.10</td>\n",
       "      <td>Tue Nov 19 09:26:56 PST 2019</td>\n",
       "      <td>3</td>\n",
       "      <td>BatchId:3841465;OriginalHitTemplateId:928390875;</td>\n",
       "      <td>3600</td>\n",
       "      <td>259200</td>\n",
       "      <td>Tue Nov 26 09:26:56 PST 2019</td>\n",
       "      <td>NaN</td>\n",
       "      <td>NaN</td>\n",
       "      <td>3IFS6Q0HJM1MKNQJ4P96CPWMULOISI</td>\n",
       "      <td>AAA42UYET3FVH</td>\n",
       "      <td>Submitted</td>\n",
       "      <td>Tue Nov 19 10:28:22 PST 2019</td>\n",
       "      <td>Tue Nov 19 10:42:08 PST 2019</td>\n",
       "      <td>Fri Nov 22 10:42:08 PST 2019</td>\n",
       "      <td>NaN</td>\n",
       "      <td>NaN</td>\n",
       "      <td>NaN</td>\n",
       "      <td>826</td>\n",
       "      <td>0% (0/0)</td>\n",
       "      <td>0% (0/0)</td>\n",
       "      <td>0% (0/0)</td>\n",
       "      <td>1180026933_object</td>\n",
       "      <td>https://iip.smk.dk/iiif/jp2/pc4-30-09-04_-_091...</td>\n",
       "      <td>NaN</td>\n",
       "      <td>Yes</td>\n",
       "      <td>NaN</td>\n",
       "      <td>NaN</td>\n",
       "    </tr>\n",
       "    <tr>\n",
       "      <th>2</th>\n",
       "      <td>3CVBMEMMYEYYIAXDK2O8T23L1EW7H4</td>\n",
       "      <td>3P7L6K2EZCJCZA9OFURVFP9X84M4N6</td>\n",
       "      <td>Does this image contain the object of interest?</td>\n",
       "      <td>Does this image depict a person or people?</td>\n",
       "      <td>image, classification</td>\n",
       "      <td>$0.10</td>\n",
       "      <td>Tue Nov 19 09:26:56 PST 2019</td>\n",
       "      <td>3</td>\n",
       "      <td>BatchId:3841465;OriginalHitTemplateId:928390875;</td>\n",
       "      <td>3600</td>\n",
       "      <td>259200</td>\n",
       "      <td>Tue Nov 26 09:26:56 PST 2019</td>\n",
       "      <td>NaN</td>\n",
       "      <td>NaN</td>\n",
       "      <td>3Z7VU45IP2Z8LTGZRAI8GJC30Y3Z12</td>\n",
       "      <td>A16U1L4R6WV5G2</td>\n",
       "      <td>Submitted</td>\n",
       "      <td>Tue Nov 19 09:34:10 PST 2019</td>\n",
       "      <td>Tue Nov 19 09:48:23 PST 2019</td>\n",
       "      <td>Fri Nov 22 09:48:23 PST 2019</td>\n",
       "      <td>NaN</td>\n",
       "      <td>NaN</td>\n",
       "      <td>NaN</td>\n",
       "      <td>853</td>\n",
       "      <td>0% (0/0)</td>\n",
       "      <td>0% (0/0)</td>\n",
       "      <td>0% (0/0)</td>\n",
       "      <td>1180026933_object</td>\n",
       "      <td>https://iip.smk.dk/iiif/jp2/pc4-30-09-04_-_091...</td>\n",
       "      <td>NaN</td>\n",
       "      <td>Yes</td>\n",
       "      <td>NaN</td>\n",
       "      <td>NaN</td>\n",
       "    </tr>\n",
       "    <tr>\n",
       "      <th>3</th>\n",
       "      <td>3D0LPO3EBEHRPBF1BO9YQOKJHZIOY9</td>\n",
       "      <td>3P7L6K2EZCJCZA9OFURVFP9X84M4N6</td>\n",
       "      <td>Does this image contain the object of interest?</td>\n",
       "      <td>Does this image depict a person or people?</td>\n",
       "      <td>image, classification</td>\n",
       "      <td>$0.10</td>\n",
       "      <td>Tue Nov 19 09:26:52 PST 2019</td>\n",
       "      <td>3</td>\n",
       "      <td>BatchId:3841465;OriginalHitTemplateId:928390875;</td>\n",
       "      <td>3600</td>\n",
       "      <td>259200</td>\n",
       "      <td>Tue Nov 26 09:26:52 PST 2019</td>\n",
       "      <td>NaN</td>\n",
       "      <td>NaN</td>\n",
       "      <td>35GMH2SV3IZV6QW41P2675OT533OE7</td>\n",
       "      <td>ATDX69AZL4Y49</td>\n",
       "      <td>Submitted</td>\n",
       "      <td>Tue Nov 19 09:32:48 PST 2019</td>\n",
       "      <td>Tue Nov 19 09:34:00 PST 2019</td>\n",
       "      <td>Fri Nov 22 09:34:00 PST 2019</td>\n",
       "      <td>NaN</td>\n",
       "      <td>NaN</td>\n",
       "      <td>NaN</td>\n",
       "      <td>72</td>\n",
       "      <td>0% (0/0)</td>\n",
       "      <td>0% (0/0)</td>\n",
       "      <td>0% (0/0)</td>\n",
       "      <td>1180082433_object</td>\n",
       "      <td>https://iip.smk.dk/iiif/jp2/KKS19998-80.TIF.re...</td>\n",
       "      <td>NaN</td>\n",
       "      <td>Yes</td>\n",
       "      <td>NaN</td>\n",
       "      <td>NaN</td>\n",
       "    </tr>\n",
       "    <tr>\n",
       "      <th>4</th>\n",
       "      <td>3D0LPO3EBEHRPBF1BO9YQOKJHZIOY9</td>\n",
       "      <td>3P7L6K2EZCJCZA9OFURVFP9X84M4N6</td>\n",
       "      <td>Does this image contain the object of interest?</td>\n",
       "      <td>Does this image depict a person or people?</td>\n",
       "      <td>image, classification</td>\n",
       "      <td>$0.10</td>\n",
       "      <td>Tue Nov 19 09:26:52 PST 2019</td>\n",
       "      <td>3</td>\n",
       "      <td>BatchId:3841465;OriginalHitTemplateId:928390875;</td>\n",
       "      <td>3600</td>\n",
       "      <td>259200</td>\n",
       "      <td>Tue Nov 26 09:26:52 PST 2019</td>\n",
       "      <td>NaN</td>\n",
       "      <td>NaN</td>\n",
       "      <td>3F0BG9B9MT5MRPLWK4XY3MUEXQUY72</td>\n",
       "      <td>ADJMZSRMFT3RG</td>\n",
       "      <td>Submitted</td>\n",
       "      <td>Tue Nov 19 09:27:54 PST 2019</td>\n",
       "      <td>Tue Nov 19 09:30:33 PST 2019</td>\n",
       "      <td>Fri Nov 22 09:30:33 PST 2019</td>\n",
       "      <td>NaN</td>\n",
       "      <td>NaN</td>\n",
       "      <td>NaN</td>\n",
       "      <td>159</td>\n",
       "      <td>0% (0/0)</td>\n",
       "      <td>0% (0/0)</td>\n",
       "      <td>0% (0/0)</td>\n",
       "      <td>1180082433_object</td>\n",
       "      <td>https://iip.smk.dk/iiif/jp2/KKS19998-80.TIF.re...</td>\n",
       "      <td>NaN</td>\n",
       "      <td>Yes</td>\n",
       "      <td>NaN</td>\n",
       "      <td>NaN</td>\n",
       "    </tr>\n",
       "  </tbody>\n",
       "</table>\n",
       "</div>"
      ],
      "text/plain": [
       "                            HITId                       HITTypeId  \\\n",
       "0  3CVBMEMMYEYYIAXDK2O8T23L1EW7H4  3P7L6K2EZCJCZA9OFURVFP9X84M4N6   \n",
       "1  3CVBMEMMYEYYIAXDK2O8T23L1EW7H4  3P7L6K2EZCJCZA9OFURVFP9X84M4N6   \n",
       "2  3CVBMEMMYEYYIAXDK2O8T23L1EW7H4  3P7L6K2EZCJCZA9OFURVFP9X84M4N6   \n",
       "3  3D0LPO3EBEHRPBF1BO9YQOKJHZIOY9  3P7L6K2EZCJCZA9OFURVFP9X84M4N6   \n",
       "4  3D0LPO3EBEHRPBF1BO9YQOKJHZIOY9  3P7L6K2EZCJCZA9OFURVFP9X84M4N6   \n",
       "\n",
       "                                             Title  \\\n",
       "0  Does this image contain the object of interest?   \n",
       "1  Does this image contain the object of interest?   \n",
       "2  Does this image contain the object of interest?   \n",
       "3  Does this image contain the object of interest?   \n",
       "4  Does this image contain the object of interest?   \n",
       "\n",
       "                                  Description               Keywords Reward  \\\n",
       "0  Does this image depict a person or people?  image, classification  $0.10   \n",
       "1  Does this image depict a person or people?  image, classification  $0.10   \n",
       "2  Does this image depict a person or people?  image, classification  $0.10   \n",
       "3  Does this image depict a person or people?  image, classification  $0.10   \n",
       "4  Does this image depict a person or people?  image, classification  $0.10   \n",
       "\n",
       "                   CreationTime  MaxAssignments  \\\n",
       "0  Tue Nov 19 09:26:56 PST 2019               3   \n",
       "1  Tue Nov 19 09:26:56 PST 2019               3   \n",
       "2  Tue Nov 19 09:26:56 PST 2019               3   \n",
       "3  Tue Nov 19 09:26:52 PST 2019               3   \n",
       "4  Tue Nov 19 09:26:52 PST 2019               3   \n",
       "\n",
       "                                RequesterAnnotation  \\\n",
       "0  BatchId:3841465;OriginalHitTemplateId:928390875;   \n",
       "1  BatchId:3841465;OriginalHitTemplateId:928390875;   \n",
       "2  BatchId:3841465;OriginalHitTemplateId:928390875;   \n",
       "3  BatchId:3841465;OriginalHitTemplateId:928390875;   \n",
       "4  BatchId:3841465;OriginalHitTemplateId:928390875;   \n",
       "\n",
       "   AssignmentDurationInSeconds  AutoApprovalDelayInSeconds  \\\n",
       "0                         3600                      259200   \n",
       "1                         3600                      259200   \n",
       "2                         3600                      259200   \n",
       "3                         3600                      259200   \n",
       "4                         3600                      259200   \n",
       "\n",
       "                     Expiration  NumberOfSimilarHITs  LifetimeInSeconds  \\\n",
       "0  Tue Nov 26 09:26:56 PST 2019                  NaN                NaN   \n",
       "1  Tue Nov 26 09:26:56 PST 2019                  NaN                NaN   \n",
       "2  Tue Nov 26 09:26:56 PST 2019                  NaN                NaN   \n",
       "3  Tue Nov 26 09:26:52 PST 2019                  NaN                NaN   \n",
       "4  Tue Nov 26 09:26:52 PST 2019                  NaN                NaN   \n",
       "\n",
       "                     AssignmentId        WorkerId AssignmentStatus  \\\n",
       "0  345LHZDED1AN9X048RXJNKCLW0Y3U5  A1P1XL0NKJCOLZ        Submitted   \n",
       "1  3IFS6Q0HJM1MKNQJ4P96CPWMULOISI   AAA42UYET3FVH        Submitted   \n",
       "2  3Z7VU45IP2Z8LTGZRAI8GJC30Y3Z12  A16U1L4R6WV5G2        Submitted   \n",
       "3  35GMH2SV3IZV6QW41P2675OT533OE7   ATDX69AZL4Y49        Submitted   \n",
       "4  3F0BG9B9MT5MRPLWK4XY3MUEXQUY72   ADJMZSRMFT3RG        Submitted   \n",
       "\n",
       "                     AcceptTime                    SubmitTime  \\\n",
       "0  Tue Nov 19 09:28:11 PST 2019  Tue Nov 19 09:28:19 PST 2019   \n",
       "1  Tue Nov 19 10:28:22 PST 2019  Tue Nov 19 10:42:08 PST 2019   \n",
       "2  Tue Nov 19 09:34:10 PST 2019  Tue Nov 19 09:48:23 PST 2019   \n",
       "3  Tue Nov 19 09:32:48 PST 2019  Tue Nov 19 09:34:00 PST 2019   \n",
       "4  Tue Nov 19 09:27:54 PST 2019  Tue Nov 19 09:30:33 PST 2019   \n",
       "\n",
       "               AutoApprovalTime  ApprovalTime  RejectionTime  \\\n",
       "0  Fri Nov 22 09:28:19 PST 2019           NaN            NaN   \n",
       "1  Fri Nov 22 10:42:08 PST 2019           NaN            NaN   \n",
       "2  Fri Nov 22 09:48:23 PST 2019           NaN            NaN   \n",
       "3  Fri Nov 22 09:34:00 PST 2019           NaN            NaN   \n",
       "4  Fri Nov 22 09:30:33 PST 2019           NaN            NaN   \n",
       "\n",
       "   RequesterFeedback  WorkTimeInSeconds LifetimeApprovalRate  \\\n",
       "0                NaN                  8             0% (0/0)   \n",
       "1                NaN                826             0% (0/0)   \n",
       "2                NaN                853             0% (0/0)   \n",
       "3                NaN                 72             0% (0/0)   \n",
       "4                NaN                159             0% (0/0)   \n",
       "\n",
       "  Last30DaysApprovalRate Last7DaysApprovalRate           Input.id  \\\n",
       "0               0% (0/0)              0% (0/0)  1180026933_object   \n",
       "1               0% (0/0)              0% (0/0)  1180026933_object   \n",
       "2               0% (0/0)              0% (0/0)  1180026933_object   \n",
       "3               0% (0/0)              0% (0/0)  1180082433_object   \n",
       "4               0% (0/0)              0% (0/0)  1180082433_object   \n",
       "\n",
       "                                  Input.image_native Answer.image-contains  \\\n",
       "0  https://iip.smk.dk/iiif/jp2/pc4-30-09-04_-_091...                   NaN   \n",
       "1  https://iip.smk.dk/iiif/jp2/pc4-30-09-04_-_091...                   NaN   \n",
       "2  https://iip.smk.dk/iiif/jp2/pc4-30-09-04_-_091...                   NaN   \n",
       "3  https://iip.smk.dk/iiif/jp2/KKS19998-80.TIF.re...                   NaN   \n",
       "4  https://iip.smk.dk/iiif/jp2/KKS19998-80.TIF.re...                   NaN   \n",
       "\n",
       "  Answer.image-contains.label  Approve  Reject  \n",
       "0                         Yes      NaN     NaN  \n",
       "1                         Yes      NaN     NaN  \n",
       "2                         Yes      NaN     NaN  \n",
       "3                         Yes      NaN     NaN  \n",
       "4                         Yes      NaN     NaN  "
      ]
     },
     "execution_count": 9,
     "metadata": {},
     "output_type": "execute_result"
    }
   ],
   "source": [
    "results.head()"
   ]
  },
  {
   "cell_type": "markdown",
   "metadata": {},
   "source": [
    "### Join them\n",
    "\n",
    "Using the object ID as key which is called `Input.id` the results dataset from AMT."
   ]
  },
  {
   "cell_type": "code",
   "execution_count": 11,
   "metadata": {},
   "outputs": [
    {
     "data": {
      "text/plain": [
       "(3000, 84)"
      ]
     },
     "execution_count": 11,
     "metadata": {},
     "output_type": "execute_result"
    }
   ],
   "source": [
    "smk_results = smk.join(results.set_index('Input.id'), how='right')\n",
    "smk_results.shape"
   ]
  },
  {
   "cell_type": "markdown",
   "metadata": {},
   "source": [
    "Which columns do we now have?"
   ]
  },
  {
   "cell_type": "code",
   "execution_count": 15,
   "metadata": {},
   "outputs": [
    {
     "data": {
      "text/plain": [
       "Index(['on_display', 'object_number', 'modified', 'rights', 'titles',\n",
       "       'production', 'iiif_manifest', 'production_date', 'techniques',\n",
       "       'created', 'object_names', 'has_image', 'public_domain', 'dimensions',\n",
       "       'responsible_department', 'inscriptions', 'credit_line',\n",
       "       'acquisition_date_precision', 'frame_notes', 'image_iiif_info',\n",
       "       'image_native', 'image_orientation', 'image_height',\n",
       "       'alternative_images', 'image_width', 'number_of_parts', 'image_iiif_id',\n",
       "       'part_of', 'image_thumbnail', 'colors', 'image_size', 'image_mime_type',\n",
       "       'image_cropped', 'distinguishing_features', 'notes', 'related_objects',\n",
       "       'object_history_note', 'collection', 'production_dates_notes',\n",
       "       'exhibitions', 'documentation', 'content_description', 'content_person',\n",
       "       'work_status', 'materials', 'parts', 'content_subject',\n",
       "       'acquisition_date', 'current_location_name', 'labels', 'image_type',\n",
       "       'current_location_date', 'HITId', 'HITTypeId', 'Title', 'Description',\n",
       "       'Keywords', 'Reward', 'CreationTime', 'MaxAssignments',\n",
       "       'RequesterAnnotation', 'AssignmentDurationInSeconds',\n",
       "       'AutoApprovalDelayInSeconds', 'Expiration', 'NumberOfSimilarHITs',\n",
       "       'LifetimeInSeconds', 'AssignmentId', 'WorkerId', 'AssignmentStatus',\n",
       "       'AcceptTime', 'SubmitTime', 'AutoApprovalTime', 'ApprovalTime',\n",
       "       'RejectionTime', 'RequesterFeedback', 'WorkTimeInSeconds',\n",
       "       'LifetimeApprovalRate', 'Last30DaysApprovalRate',\n",
       "       'Last7DaysApprovalRate', 'Input.image_native', 'Answer.image-contains',\n",
       "       'Answer.image-contains.label', 'Approve', 'Reject'],\n",
       "      dtype='object')"
      ]
     },
     "execution_count": 15,
     "metadata": {},
     "output_type": "execute_result"
    }
   ],
   "source": [
    "smk_results.columns"
   ]
  },
  {
   "cell_type": "code",
   "execution_count": 14,
   "metadata": {},
   "outputs": [
    {
     "data": {
      "text/html": [
       "<div>\n",
       "<style scoped>\n",
       "    .dataframe tbody tr th:only-of-type {\n",
       "        vertical-align: middle;\n",
       "    }\n",
       "\n",
       "    .dataframe tbody tr th {\n",
       "        vertical-align: top;\n",
       "    }\n",
       "\n",
       "    .dataframe thead th {\n",
       "        text-align: right;\n",
       "    }\n",
       "</style>\n",
       "<table border=\"1\" class=\"dataframe\">\n",
       "  <thead>\n",
       "    <tr style=\"text-align: right;\">\n",
       "      <th></th>\n",
       "      <th>on_display</th>\n",
       "      <th>object_number</th>\n",
       "      <th>modified</th>\n",
       "      <th>rights</th>\n",
       "      <th>titles</th>\n",
       "      <th>production</th>\n",
       "      <th>iiif_manifest</th>\n",
       "      <th>production_date</th>\n",
       "      <th>techniques</th>\n",
       "      <th>created</th>\n",
       "      <th>object_names</th>\n",
       "      <th>has_image</th>\n",
       "      <th>public_domain</th>\n",
       "      <th>dimensions</th>\n",
       "      <th>responsible_department</th>\n",
       "      <th>inscriptions</th>\n",
       "      <th>credit_line</th>\n",
       "      <th>acquisition_date_precision</th>\n",
       "      <th>frame_notes</th>\n",
       "      <th>image_iiif_info</th>\n",
       "      <th>image_native</th>\n",
       "      <th>image_orientation</th>\n",
       "      <th>image_height</th>\n",
       "      <th>alternative_images</th>\n",
       "      <th>image_width</th>\n",
       "      <th>number_of_parts</th>\n",
       "      <th>image_iiif_id</th>\n",
       "      <th>part_of</th>\n",
       "      <th>image_thumbnail</th>\n",
       "      <th>colors</th>\n",
       "      <th>image_size</th>\n",
       "      <th>image_mime_type</th>\n",
       "      <th>image_cropped</th>\n",
       "      <th>distinguishing_features</th>\n",
       "      <th>notes</th>\n",
       "      <th>related_objects</th>\n",
       "      <th>object_history_note</th>\n",
       "      <th>collection</th>\n",
       "      <th>production_dates_notes</th>\n",
       "      <th>exhibitions</th>\n",
       "      <th>documentation</th>\n",
       "      <th>content_description</th>\n",
       "      <th>content_person</th>\n",
       "      <th>work_status</th>\n",
       "      <th>materials</th>\n",
       "      <th>parts</th>\n",
       "      <th>content_subject</th>\n",
       "      <th>acquisition_date</th>\n",
       "      <th>current_location_name</th>\n",
       "      <th>labels</th>\n",
       "      <th>image_type</th>\n",
       "      <th>current_location_date</th>\n",
       "      <th>HITId</th>\n",
       "      <th>HITTypeId</th>\n",
       "      <th>Title</th>\n",
       "      <th>Description</th>\n",
       "      <th>Keywords</th>\n",
       "      <th>Reward</th>\n",
       "      <th>CreationTime</th>\n",
       "      <th>MaxAssignments</th>\n",
       "      <th>RequesterAnnotation</th>\n",
       "      <th>AssignmentDurationInSeconds</th>\n",
       "      <th>AutoApprovalDelayInSeconds</th>\n",
       "      <th>Expiration</th>\n",
       "      <th>NumberOfSimilarHITs</th>\n",
       "      <th>LifetimeInSeconds</th>\n",
       "      <th>AssignmentId</th>\n",
       "      <th>WorkerId</th>\n",
       "      <th>AssignmentStatus</th>\n",
       "      <th>AcceptTime</th>\n",
       "      <th>SubmitTime</th>\n",
       "      <th>AutoApprovalTime</th>\n",
       "      <th>ApprovalTime</th>\n",
       "      <th>RejectionTime</th>\n",
       "      <th>RequesterFeedback</th>\n",
       "      <th>WorkTimeInSeconds</th>\n",
       "      <th>LifetimeApprovalRate</th>\n",
       "      <th>Last30DaysApprovalRate</th>\n",
       "      <th>Last7DaysApprovalRate</th>\n",
       "      <th>Input.image_native</th>\n",
       "      <th>Answer.image-contains</th>\n",
       "      <th>Answer.image-contains.label</th>\n",
       "      <th>Approve</th>\n",
       "      <th>Reject</th>\n",
       "    </tr>\n",
       "  </thead>\n",
       "  <tbody>\n",
       "    <tr>\n",
       "      <th>1180000035_object</th>\n",
       "      <td>False</td>\n",
       "      <td>KMS3682</td>\n",
       "      <td>2019-08-12 09:21:25+00:00</td>\n",
       "      <td>https://creativecommons.org/share-your-work/pu...</td>\n",
       "      <td>[{'type': 'MUSEUM', 'title': 'En bro ved Sorre...</td>\n",
       "      <td>[{'creator_nationality': 'dansk', 'creator': '...</td>\n",
       "      <td>https://api.smk.dk/api/v1/iiif/manifest/?id=km...</td>\n",
       "      <td>[{'period': '(1847/50)', 'start': '1847-01-01T...</td>\n",
       "      <td>[{'technique': 'Olie på papir opsat på pap'}]</td>\n",
       "      <td>2019-08-07T03:19:37Z</td>\n",
       "      <td>[{'name': 'maleri'}]</td>\n",
       "      <td>True</td>\n",
       "      <td>True</td>\n",
       "      <td>[{'part': 'netto', 'type': 'hojde', 'notes': '...</td>\n",
       "      <td>Samling og Forskning (KMS)</td>\n",
       "      <td>[{'position': 'f.n.t.v.', 'content': 'T.B.'}]</td>\n",
       "      <td>NaN</td>\n",
       "      <td>1924-12-31</td>\n",
       "      <td>[Bagklædning: false, Mikroklimaramme: false]</td>\n",
       "      <td>https://iip.smk.dk/iiif/jp2/KMS3682.tif.jp2/in...</td>\n",
       "      <td>https://iip.smk.dk/iiif/jp2/KMS3682.tif.jp2/fu...</td>\n",
       "      <td>landscape</td>\n",
       "      <td>7087.0</td>\n",
       "      <td>NaN</td>\n",
       "      <td>9447.0</td>\n",
       "      <td>1.0</td>\n",
       "      <td>https://iip.smk.dk/iiif/jp2/KMS3682.tif.jp2</td>\n",
       "      <td>NaN</td>\n",
       "      <td>https://iip.smk.dk/iiif/jp2/KMS3682.tif.jp2/fu...</td>\n",
       "      <td>[#674200, #5A5A5A, #9B9B9B, #9B9B9B, #F4C6A3]</td>\n",
       "      <td>200881304.0</td>\n",
       "      <td>image/tiff</td>\n",
       "      <td>NaN</td>\n",
       "      <td>NaN</td>\n",
       "      <td>NaN</td>\n",
       "      <td>NaN</td>\n",
       "      <td>NaN</td>\n",
       "      <td>NaN</td>\n",
       "      <td>[Datering baseret på kunstnerens ophold i Ital...</td>\n",
       "      <td>[{'exhibition': 'I Guldalderens Skygge - Maler...</td>\n",
       "      <td>NaN</td>\n",
       "      <td>NaN</td>\n",
       "      <td>NaN</td>\n",
       "      <td>NaN</td>\n",
       "      <td>[{'material': 'papir'}, {'material': 'pap'}, {...</td>\n",
       "      <td>NaN</td>\n",
       "      <td>[Sorrento]</td>\n",
       "      <td>NaN</td>\n",
       "      <td>NaN</td>\n",
       "      <td>NaN</td>\n",
       "      <td>NaN</td>\n",
       "      <td>NaN</td>\n",
       "      <td>3XUSYT70JWJ3OJSRD7K9N2E018XD01</td>\n",
       "      <td>3P7L6K2EZCJCZA9OFURVFP9X84M4N6</td>\n",
       "      <td>Does this image contain the object of interest?</td>\n",
       "      <td>Does this image depict a person or people?</td>\n",
       "      <td>image, classification</td>\n",
       "      <td>$0.10</td>\n",
       "      <td>Tue Nov 19 09:27:13 PST 2019</td>\n",
       "      <td>3</td>\n",
       "      <td>BatchId:3841465;OriginalHitTemplateId:928390875;</td>\n",
       "      <td>3600</td>\n",
       "      <td>259200</td>\n",
       "      <td>Tue Nov 26 09:27:13 PST 2019</td>\n",
       "      <td>NaN</td>\n",
       "      <td>NaN</td>\n",
       "      <td>345LHZDED1AN9X048RXJNKCLW023U9</td>\n",
       "      <td>A2MHSOKJSLELL</td>\n",
       "      <td>Submitted</td>\n",
       "      <td>Tue Nov 19 09:32:59 PST 2019</td>\n",
       "      <td>Tue Nov 19 09:42:37 PST 2019</td>\n",
       "      <td>Fri Nov 22 09:42:37 PST 2019</td>\n",
       "      <td>NaN</td>\n",
       "      <td>NaN</td>\n",
       "      <td>NaN</td>\n",
       "      <td>578</td>\n",
       "      <td>0% (0/0)</td>\n",
       "      <td>0% (0/0)</td>\n",
       "      <td>0% (0/0)</td>\n",
       "      <td>https://iip.smk.dk/iiif/jp2/KMS3682.tif.jp2/fu...</td>\n",
       "      <td>NaN</td>\n",
       "      <td>No</td>\n",
       "      <td>NaN</td>\n",
       "      <td>NaN</td>\n",
       "    </tr>\n",
       "    <tr>\n",
       "      <th>1180000035_object</th>\n",
       "      <td>False</td>\n",
       "      <td>KMS3682</td>\n",
       "      <td>2019-08-12 09:21:25+00:00</td>\n",
       "      <td>https://creativecommons.org/share-your-work/pu...</td>\n",
       "      <td>[{'type': 'MUSEUM', 'title': 'En bro ved Sorre...</td>\n",
       "      <td>[{'creator_nationality': 'dansk', 'creator': '...</td>\n",
       "      <td>https://api.smk.dk/api/v1/iiif/manifest/?id=km...</td>\n",
       "      <td>[{'period': '(1847/50)', 'start': '1847-01-01T...</td>\n",
       "      <td>[{'technique': 'Olie på papir opsat på pap'}]</td>\n",
       "      <td>2019-08-07T03:19:37Z</td>\n",
       "      <td>[{'name': 'maleri'}]</td>\n",
       "      <td>True</td>\n",
       "      <td>True</td>\n",
       "      <td>[{'part': 'netto', 'type': 'hojde', 'notes': '...</td>\n",
       "      <td>Samling og Forskning (KMS)</td>\n",
       "      <td>[{'position': 'f.n.t.v.', 'content': 'T.B.'}]</td>\n",
       "      <td>NaN</td>\n",
       "      <td>1924-12-31</td>\n",
       "      <td>[Bagklædning: false, Mikroklimaramme: false]</td>\n",
       "      <td>https://iip.smk.dk/iiif/jp2/KMS3682.tif.jp2/in...</td>\n",
       "      <td>https://iip.smk.dk/iiif/jp2/KMS3682.tif.jp2/fu...</td>\n",
       "      <td>landscape</td>\n",
       "      <td>7087.0</td>\n",
       "      <td>NaN</td>\n",
       "      <td>9447.0</td>\n",
       "      <td>1.0</td>\n",
       "      <td>https://iip.smk.dk/iiif/jp2/KMS3682.tif.jp2</td>\n",
       "      <td>NaN</td>\n",
       "      <td>https://iip.smk.dk/iiif/jp2/KMS3682.tif.jp2/fu...</td>\n",
       "      <td>[#674200, #5A5A5A, #9B9B9B, #9B9B9B, #F4C6A3]</td>\n",
       "      <td>200881304.0</td>\n",
       "      <td>image/tiff</td>\n",
       "      <td>NaN</td>\n",
       "      <td>NaN</td>\n",
       "      <td>NaN</td>\n",
       "      <td>NaN</td>\n",
       "      <td>NaN</td>\n",
       "      <td>NaN</td>\n",
       "      <td>[Datering baseret på kunstnerens ophold i Ital...</td>\n",
       "      <td>[{'exhibition': 'I Guldalderens Skygge - Maler...</td>\n",
       "      <td>NaN</td>\n",
       "      <td>NaN</td>\n",
       "      <td>NaN</td>\n",
       "      <td>NaN</td>\n",
       "      <td>[{'material': 'papir'}, {'material': 'pap'}, {...</td>\n",
       "      <td>NaN</td>\n",
       "      <td>[Sorrento]</td>\n",
       "      <td>NaN</td>\n",
       "      <td>NaN</td>\n",
       "      <td>NaN</td>\n",
       "      <td>NaN</td>\n",
       "      <td>NaN</td>\n",
       "      <td>3XUSYT70JWJ3OJSRD7K9N2E018XD01</td>\n",
       "      <td>3P7L6K2EZCJCZA9OFURVFP9X84M4N6</td>\n",
       "      <td>Does this image contain the object of interest?</td>\n",
       "      <td>Does this image depict a person or people?</td>\n",
       "      <td>image, classification</td>\n",
       "      <td>$0.10</td>\n",
       "      <td>Tue Nov 19 09:27:13 PST 2019</td>\n",
       "      <td>3</td>\n",
       "      <td>BatchId:3841465;OriginalHitTemplateId:928390875;</td>\n",
       "      <td>3600</td>\n",
       "      <td>259200</td>\n",
       "      <td>Tue Nov 26 09:27:13 PST 2019</td>\n",
       "      <td>NaN</td>\n",
       "      <td>NaN</td>\n",
       "      <td>3QXNC7EIPMDT8DD4RTK9PQR0G3709J</td>\n",
       "      <td>A2XLD73DLFU01Q</td>\n",
       "      <td>Submitted</td>\n",
       "      <td>Tue Nov 19 09:32:06 PST 2019</td>\n",
       "      <td>Tue Nov 19 10:10:30 PST 2019</td>\n",
       "      <td>Fri Nov 22 10:10:30 PST 2019</td>\n",
       "      <td>NaN</td>\n",
       "      <td>NaN</td>\n",
       "      <td>NaN</td>\n",
       "      <td>2304</td>\n",
       "      <td>0% (0/0)</td>\n",
       "      <td>0% (0/0)</td>\n",
       "      <td>0% (0/0)</td>\n",
       "      <td>https://iip.smk.dk/iiif/jp2/KMS3682.tif.jp2/fu...</td>\n",
       "      <td>NaN</td>\n",
       "      <td>Yes</td>\n",
       "      <td>NaN</td>\n",
       "      <td>NaN</td>\n",
       "    </tr>\n",
       "    <tr>\n",
       "      <th>1180000035_object</th>\n",
       "      <td>False</td>\n",
       "      <td>KMS3682</td>\n",
       "      <td>2019-08-12 09:21:25+00:00</td>\n",
       "      <td>https://creativecommons.org/share-your-work/pu...</td>\n",
       "      <td>[{'type': 'MUSEUM', 'title': 'En bro ved Sorre...</td>\n",
       "      <td>[{'creator_nationality': 'dansk', 'creator': '...</td>\n",
       "      <td>https://api.smk.dk/api/v1/iiif/manifest/?id=km...</td>\n",
       "      <td>[{'period': '(1847/50)', 'start': '1847-01-01T...</td>\n",
       "      <td>[{'technique': 'Olie på papir opsat på pap'}]</td>\n",
       "      <td>2019-08-07T03:19:37Z</td>\n",
       "      <td>[{'name': 'maleri'}]</td>\n",
       "      <td>True</td>\n",
       "      <td>True</td>\n",
       "      <td>[{'part': 'netto', 'type': 'hojde', 'notes': '...</td>\n",
       "      <td>Samling og Forskning (KMS)</td>\n",
       "      <td>[{'position': 'f.n.t.v.', 'content': 'T.B.'}]</td>\n",
       "      <td>NaN</td>\n",
       "      <td>1924-12-31</td>\n",
       "      <td>[Bagklædning: false, Mikroklimaramme: false]</td>\n",
       "      <td>https://iip.smk.dk/iiif/jp2/KMS3682.tif.jp2/in...</td>\n",
       "      <td>https://iip.smk.dk/iiif/jp2/KMS3682.tif.jp2/fu...</td>\n",
       "      <td>landscape</td>\n",
       "      <td>7087.0</td>\n",
       "      <td>NaN</td>\n",
       "      <td>9447.0</td>\n",
       "      <td>1.0</td>\n",
       "      <td>https://iip.smk.dk/iiif/jp2/KMS3682.tif.jp2</td>\n",
       "      <td>NaN</td>\n",
       "      <td>https://iip.smk.dk/iiif/jp2/KMS3682.tif.jp2/fu...</td>\n",
       "      <td>[#674200, #5A5A5A, #9B9B9B, #9B9B9B, #F4C6A3]</td>\n",
       "      <td>200881304.0</td>\n",
       "      <td>image/tiff</td>\n",
       "      <td>NaN</td>\n",
       "      <td>NaN</td>\n",
       "      <td>NaN</td>\n",
       "      <td>NaN</td>\n",
       "      <td>NaN</td>\n",
       "      <td>NaN</td>\n",
       "      <td>[Datering baseret på kunstnerens ophold i Ital...</td>\n",
       "      <td>[{'exhibition': 'I Guldalderens Skygge - Maler...</td>\n",
       "      <td>NaN</td>\n",
       "      <td>NaN</td>\n",
       "      <td>NaN</td>\n",
       "      <td>NaN</td>\n",
       "      <td>[{'material': 'papir'}, {'material': 'pap'}, {...</td>\n",
       "      <td>NaN</td>\n",
       "      <td>[Sorrento]</td>\n",
       "      <td>NaN</td>\n",
       "      <td>NaN</td>\n",
       "      <td>NaN</td>\n",
       "      <td>NaN</td>\n",
       "      <td>NaN</td>\n",
       "      <td>3XUSYT70JWJ3OJSRD7K9N2E018XD01</td>\n",
       "      <td>3P7L6K2EZCJCZA9OFURVFP9X84M4N6</td>\n",
       "      <td>Does this image contain the object of interest?</td>\n",
       "      <td>Does this image depict a person or people?</td>\n",
       "      <td>image, classification</td>\n",
       "      <td>$0.10</td>\n",
       "      <td>Tue Nov 19 09:27:13 PST 2019</td>\n",
       "      <td>3</td>\n",
       "      <td>BatchId:3841465;OriginalHitTemplateId:928390875;</td>\n",
       "      <td>3600</td>\n",
       "      <td>259200</td>\n",
       "      <td>Tue Nov 26 09:27:13 PST 2019</td>\n",
       "      <td>NaN</td>\n",
       "      <td>NaN</td>\n",
       "      <td>3SB4CE2TJZDFAMTKMBNGUZPVWS8AX1</td>\n",
       "      <td>A9R0YS7VXXHGX</td>\n",
       "      <td>Submitted</td>\n",
       "      <td>Tue Nov 19 09:29:56 PST 2019</td>\n",
       "      <td>Tue Nov 19 09:41:38 PST 2019</td>\n",
       "      <td>Fri Nov 22 09:41:38 PST 2019</td>\n",
       "      <td>NaN</td>\n",
       "      <td>NaN</td>\n",
       "      <td>NaN</td>\n",
       "      <td>702</td>\n",
       "      <td>0% (0/0)</td>\n",
       "      <td>0% (0/0)</td>\n",
       "      <td>0% (0/0)</td>\n",
       "      <td>https://iip.smk.dk/iiif/jp2/KMS3682.tif.jp2/fu...</td>\n",
       "      <td>NaN</td>\n",
       "      <td>No</td>\n",
       "      <td>NaN</td>\n",
       "      <td>NaN</td>\n",
       "    </tr>\n",
       "    <tr>\n",
       "      <th>1180000119_object</th>\n",
       "      <td>False</td>\n",
       "      <td>KKSgb9125</td>\n",
       "      <td>2019-08-12 09:21:26+00:00</td>\n",
       "      <td>https://creativecommons.org/share-your-work/pu...</td>\n",
       "      <td>[{'type': 'OEUVRE', 'notes': 'Titel iflg. Garf...</td>\n",
       "      <td>[{'creator_nationality': 'nederlandsk', 'creat...</td>\n",
       "      <td>https://api.smk.dk/api/v1/iiif/manifest/?id=kk...</td>\n",
       "      <td>[{'period': '1549', 'start': '1549-01-01T00:00...</td>\n",
       "      <td>[{'technique': 'Pen, brunt blæk, svage spor af...</td>\n",
       "      <td>2019-08-07T03:20:08Z</td>\n",
       "      <td>[{'name': 'pen'}]</td>\n",
       "      <td>True</td>\n",
       "      <td>True</td>\n",
       "      <td>[{'part': 'bladmaal', 'type': 'hojde', 'notes'...</td>\n",
       "      <td>Samling og Forskning (KKS)</td>\n",
       "      <td>[{'content': 'Dateret på sæk f.n.t.v. for midt...</td>\n",
       "      <td>NaN</td>\n",
       "      <td>1695-01-01</td>\n",
       "      <td>[Bagklædning: false, Mikroklimaramme: false]</td>\n",
       "      <td>https://iip.smk.dk/iiif/jp2/kksgb9125.tif.reco...</td>\n",
       "      <td>https://iip.smk.dk/iiif/jp2/kksgb9125.tif.reco...</td>\n",
       "      <td>portrait</td>\n",
       "      <td>4867.0</td>\n",
       "      <td>[{'width': 3819, 'native': 'https://iip.smk.dk...</td>\n",
       "      <td>3819.0</td>\n",
       "      <td>1.0</td>\n",
       "      <td>https://iip.smk.dk/iiif/jp2/kksgb9125.tif.reco...</td>\n",
       "      <td>[KKSgb9122, KKSgb9123, KKSgb9124]</td>\n",
       "      <td>https://iip.smk.dk/iiif/jp2/kksgb9125.tif.reco...</td>\n",
       "      <td>[#FFFFFF, #D2D2D2, #F4C6A3, #FFFFFF, #9B9B9B]</td>\n",
       "      <td>28964842.0</td>\n",
       "      <td>image/tiff</td>\n",
       "      <td>1.0</td>\n",
       "      <td>[Rester af violet papir, verso]</td>\n",
       "      <td>[Litt.:\\n-\"Eingebundene Kupferstücke\", kat. nr...</td>\n",
       "      <td>[{'notes': 'Forlæg for et kobberstik, der er i...</td>\n",
       "      <td>NaN</td>\n",
       "      <td>[Gammel bestand]</td>\n",
       "      <td>NaN</td>\n",
       "      <td>NaN</td>\n",
       "      <td>[{'shelfmark': '3011', 'author': 'Leon Preibis...</td>\n",
       "      <td>NaN</td>\n",
       "      <td>NaN</td>\n",
       "      <td>[del af serie, forlæg (for)]</td>\n",
       "      <td>NaN</td>\n",
       "      <td>[KKSgb9122, KKSgb9123, KKSgb9124]</td>\n",
       "      <td>NaN</td>\n",
       "      <td>NaN</td>\n",
       "      <td>NaN</td>\n",
       "      <td>NaN</td>\n",
       "      <td>NaN</td>\n",
       "      <td>NaN</td>\n",
       "      <td>3RIHDBQ1OHGH3D40O8QXCK0BW3RHMP</td>\n",
       "      <td>3P7L6K2EZCJCZA9OFURVFP9X84M4N6</td>\n",
       "      <td>Does this image contain the object of interest?</td>\n",
       "      <td>Does this image depict a person or people?</td>\n",
       "      <td>image, classification</td>\n",
       "      <td>$0.10</td>\n",
       "      <td>Tue Nov 19 09:27:04 PST 2019</td>\n",
       "      <td>3</td>\n",
       "      <td>BatchId:3841465;OriginalHitTemplateId:928390875;</td>\n",
       "      <td>3600</td>\n",
       "      <td>259200</td>\n",
       "      <td>Tue Nov 26 09:27:04 PST 2019</td>\n",
       "      <td>NaN</td>\n",
       "      <td>NaN</td>\n",
       "      <td>35L9RVQFCS023573NCMLREDVF5FUH2</td>\n",
       "      <td>AZTH2MXJ7FWU0</td>\n",
       "      <td>Submitted</td>\n",
       "      <td>Tue Nov 19 09:28:19 PST 2019</td>\n",
       "      <td>Tue Nov 19 09:28:36 PST 2019</td>\n",
       "      <td>Fri Nov 22 09:28:36 PST 2019</td>\n",
       "      <td>NaN</td>\n",
       "      <td>NaN</td>\n",
       "      <td>NaN</td>\n",
       "      <td>17</td>\n",
       "      <td>0% (0/0)</td>\n",
       "      <td>0% (0/0)</td>\n",
       "      <td>0% (0/0)</td>\n",
       "      <td>https://iip.smk.dk/iiif/jp2/kksgb9125.tif.reco...</td>\n",
       "      <td>NaN</td>\n",
       "      <td>Yes</td>\n",
       "      <td>NaN</td>\n",
       "      <td>NaN</td>\n",
       "    </tr>\n",
       "    <tr>\n",
       "      <th>1180000119_object</th>\n",
       "      <td>False</td>\n",
       "      <td>KKSgb9125</td>\n",
       "      <td>2019-08-12 09:21:26+00:00</td>\n",
       "      <td>https://creativecommons.org/share-your-work/pu...</td>\n",
       "      <td>[{'type': 'OEUVRE', 'notes': 'Titel iflg. Garf...</td>\n",
       "      <td>[{'creator_nationality': 'nederlandsk', 'creat...</td>\n",
       "      <td>https://api.smk.dk/api/v1/iiif/manifest/?id=kk...</td>\n",
       "      <td>[{'period': '1549', 'start': '1549-01-01T00:00...</td>\n",
       "      <td>[{'technique': 'Pen, brunt blæk, svage spor af...</td>\n",
       "      <td>2019-08-07T03:20:08Z</td>\n",
       "      <td>[{'name': 'pen'}]</td>\n",
       "      <td>True</td>\n",
       "      <td>True</td>\n",
       "      <td>[{'part': 'bladmaal', 'type': 'hojde', 'notes'...</td>\n",
       "      <td>Samling og Forskning (KKS)</td>\n",
       "      <td>[{'content': 'Dateret på sæk f.n.t.v. for midt...</td>\n",
       "      <td>NaN</td>\n",
       "      <td>1695-01-01</td>\n",
       "      <td>[Bagklædning: false, Mikroklimaramme: false]</td>\n",
       "      <td>https://iip.smk.dk/iiif/jp2/kksgb9125.tif.reco...</td>\n",
       "      <td>https://iip.smk.dk/iiif/jp2/kksgb9125.tif.reco...</td>\n",
       "      <td>portrait</td>\n",
       "      <td>4867.0</td>\n",
       "      <td>[{'width': 3819, 'native': 'https://iip.smk.dk...</td>\n",
       "      <td>3819.0</td>\n",
       "      <td>1.0</td>\n",
       "      <td>https://iip.smk.dk/iiif/jp2/kksgb9125.tif.reco...</td>\n",
       "      <td>[KKSgb9122, KKSgb9123, KKSgb9124]</td>\n",
       "      <td>https://iip.smk.dk/iiif/jp2/kksgb9125.tif.reco...</td>\n",
       "      <td>[#FFFFFF, #D2D2D2, #F4C6A3, #FFFFFF, #9B9B9B]</td>\n",
       "      <td>28964842.0</td>\n",
       "      <td>image/tiff</td>\n",
       "      <td>1.0</td>\n",
       "      <td>[Rester af violet papir, verso]</td>\n",
       "      <td>[Litt.:\\n-\"Eingebundene Kupferstücke\", kat. nr...</td>\n",
       "      <td>[{'notes': 'Forlæg for et kobberstik, der er i...</td>\n",
       "      <td>NaN</td>\n",
       "      <td>[Gammel bestand]</td>\n",
       "      <td>NaN</td>\n",
       "      <td>NaN</td>\n",
       "      <td>[{'shelfmark': '3011', 'author': 'Leon Preibis...</td>\n",
       "      <td>NaN</td>\n",
       "      <td>NaN</td>\n",
       "      <td>[del af serie, forlæg (for)]</td>\n",
       "      <td>NaN</td>\n",
       "      <td>[KKSgb9122, KKSgb9123, KKSgb9124]</td>\n",
       "      <td>NaN</td>\n",
       "      <td>NaN</td>\n",
       "      <td>NaN</td>\n",
       "      <td>NaN</td>\n",
       "      <td>NaN</td>\n",
       "      <td>NaN</td>\n",
       "      <td>3RIHDBQ1OHGH3D40O8QXCK0BW3RHMP</td>\n",
       "      <td>3P7L6K2EZCJCZA9OFURVFP9X84M4N6</td>\n",
       "      <td>Does this image contain the object of interest?</td>\n",
       "      <td>Does this image depict a person or people?</td>\n",
       "      <td>image, classification</td>\n",
       "      <td>$0.10</td>\n",
       "      <td>Tue Nov 19 09:27:04 PST 2019</td>\n",
       "      <td>3</td>\n",
       "      <td>BatchId:3841465;OriginalHitTemplateId:928390875;</td>\n",
       "      <td>3600</td>\n",
       "      <td>259200</td>\n",
       "      <td>Tue Nov 26 09:27:04 PST 2019</td>\n",
       "      <td>NaN</td>\n",
       "      <td>NaN</td>\n",
       "      <td>3DBQWDE4YAGDSM3ZP99QOMIB20X5N6</td>\n",
       "      <td>A23K0YTNUJ0GKR</td>\n",
       "      <td>Submitted</td>\n",
       "      <td>Tue Nov 19 09:29:46 PST 2019</td>\n",
       "      <td>Tue Nov 19 09:30:53 PST 2019</td>\n",
       "      <td>Fri Nov 22 09:30:53 PST 2019</td>\n",
       "      <td>NaN</td>\n",
       "      <td>NaN</td>\n",
       "      <td>NaN</td>\n",
       "      <td>67</td>\n",
       "      <td>0% (0/0)</td>\n",
       "      <td>0% (0/0)</td>\n",
       "      <td>0% (0/0)</td>\n",
       "      <td>https://iip.smk.dk/iiif/jp2/kksgb9125.tif.reco...</td>\n",
       "      <td>NaN</td>\n",
       "      <td>Yes</td>\n",
       "      <td>NaN</td>\n",
       "      <td>NaN</td>\n",
       "    </tr>\n",
       "  </tbody>\n",
       "</table>\n",
       "</div>"
      ],
      "text/plain": [
       "                   on_display object_number                  modified  \\\n",
       "1180000035_object       False       KMS3682 2019-08-12 09:21:25+00:00   \n",
       "1180000035_object       False       KMS3682 2019-08-12 09:21:25+00:00   \n",
       "1180000035_object       False       KMS3682 2019-08-12 09:21:25+00:00   \n",
       "1180000119_object       False     KKSgb9125 2019-08-12 09:21:26+00:00   \n",
       "1180000119_object       False     KKSgb9125 2019-08-12 09:21:26+00:00   \n",
       "\n",
       "                                                              rights  \\\n",
       "1180000035_object  https://creativecommons.org/share-your-work/pu...   \n",
       "1180000035_object  https://creativecommons.org/share-your-work/pu...   \n",
       "1180000035_object  https://creativecommons.org/share-your-work/pu...   \n",
       "1180000119_object  https://creativecommons.org/share-your-work/pu...   \n",
       "1180000119_object  https://creativecommons.org/share-your-work/pu...   \n",
       "\n",
       "                                                              titles  \\\n",
       "1180000035_object  [{'type': 'MUSEUM', 'title': 'En bro ved Sorre...   \n",
       "1180000035_object  [{'type': 'MUSEUM', 'title': 'En bro ved Sorre...   \n",
       "1180000035_object  [{'type': 'MUSEUM', 'title': 'En bro ved Sorre...   \n",
       "1180000119_object  [{'type': 'OEUVRE', 'notes': 'Titel iflg. Garf...   \n",
       "1180000119_object  [{'type': 'OEUVRE', 'notes': 'Titel iflg. Garf...   \n",
       "\n",
       "                                                          production  \\\n",
       "1180000035_object  [{'creator_nationality': 'dansk', 'creator': '...   \n",
       "1180000035_object  [{'creator_nationality': 'dansk', 'creator': '...   \n",
       "1180000035_object  [{'creator_nationality': 'dansk', 'creator': '...   \n",
       "1180000119_object  [{'creator_nationality': 'nederlandsk', 'creat...   \n",
       "1180000119_object  [{'creator_nationality': 'nederlandsk', 'creat...   \n",
       "\n",
       "                                                       iiif_manifest  \\\n",
       "1180000035_object  https://api.smk.dk/api/v1/iiif/manifest/?id=km...   \n",
       "1180000035_object  https://api.smk.dk/api/v1/iiif/manifest/?id=km...   \n",
       "1180000035_object  https://api.smk.dk/api/v1/iiif/manifest/?id=km...   \n",
       "1180000119_object  https://api.smk.dk/api/v1/iiif/manifest/?id=kk...   \n",
       "1180000119_object  https://api.smk.dk/api/v1/iiif/manifest/?id=kk...   \n",
       "\n",
       "                                                     production_date  \\\n",
       "1180000035_object  [{'period': '(1847/50)', 'start': '1847-01-01T...   \n",
       "1180000035_object  [{'period': '(1847/50)', 'start': '1847-01-01T...   \n",
       "1180000035_object  [{'period': '(1847/50)', 'start': '1847-01-01T...   \n",
       "1180000119_object  [{'period': '1549', 'start': '1549-01-01T00:00...   \n",
       "1180000119_object  [{'period': '1549', 'start': '1549-01-01T00:00...   \n",
       "\n",
       "                                                          techniques  \\\n",
       "1180000035_object      [{'technique': 'Olie på papir opsat på pap'}]   \n",
       "1180000035_object      [{'technique': 'Olie på papir opsat på pap'}]   \n",
       "1180000035_object      [{'technique': 'Olie på papir opsat på pap'}]   \n",
       "1180000119_object  [{'technique': 'Pen, brunt blæk, svage spor af...   \n",
       "1180000119_object  [{'technique': 'Pen, brunt blæk, svage spor af...   \n",
       "\n",
       "                                created          object_names  has_image  \\\n",
       "1180000035_object  2019-08-07T03:19:37Z  [{'name': 'maleri'}]       True   \n",
       "1180000035_object  2019-08-07T03:19:37Z  [{'name': 'maleri'}]       True   \n",
       "1180000035_object  2019-08-07T03:19:37Z  [{'name': 'maleri'}]       True   \n",
       "1180000119_object  2019-08-07T03:20:08Z     [{'name': 'pen'}]       True   \n",
       "1180000119_object  2019-08-07T03:20:08Z     [{'name': 'pen'}]       True   \n",
       "\n",
       "                   public_domain  \\\n",
       "1180000035_object           True   \n",
       "1180000035_object           True   \n",
       "1180000035_object           True   \n",
       "1180000119_object           True   \n",
       "1180000119_object           True   \n",
       "\n",
       "                                                          dimensions  \\\n",
       "1180000035_object  [{'part': 'netto', 'type': 'hojde', 'notes': '...   \n",
       "1180000035_object  [{'part': 'netto', 'type': 'hojde', 'notes': '...   \n",
       "1180000035_object  [{'part': 'netto', 'type': 'hojde', 'notes': '...   \n",
       "1180000119_object  [{'part': 'bladmaal', 'type': 'hojde', 'notes'...   \n",
       "1180000119_object  [{'part': 'bladmaal', 'type': 'hojde', 'notes'...   \n",
       "\n",
       "                       responsible_department  \\\n",
       "1180000035_object  Samling og Forskning (KMS)   \n",
       "1180000035_object  Samling og Forskning (KMS)   \n",
       "1180000035_object  Samling og Forskning (KMS)   \n",
       "1180000119_object  Samling og Forskning (KKS)   \n",
       "1180000119_object  Samling og Forskning (KKS)   \n",
       "\n",
       "                                                        inscriptions  \\\n",
       "1180000035_object      [{'position': 'f.n.t.v.', 'content': 'T.B.'}]   \n",
       "1180000035_object      [{'position': 'f.n.t.v.', 'content': 'T.B.'}]   \n",
       "1180000035_object      [{'position': 'f.n.t.v.', 'content': 'T.B.'}]   \n",
       "1180000119_object  [{'content': 'Dateret på sæk f.n.t.v. for midt...   \n",
       "1180000119_object  [{'content': 'Dateret på sæk f.n.t.v. for midt...   \n",
       "\n",
       "                  credit_line acquisition_date_precision  \\\n",
       "1180000035_object         NaN                 1924-12-31   \n",
       "1180000035_object         NaN                 1924-12-31   \n",
       "1180000035_object         NaN                 1924-12-31   \n",
       "1180000119_object         NaN                 1695-01-01   \n",
       "1180000119_object         NaN                 1695-01-01   \n",
       "\n",
       "                                                    frame_notes  \\\n",
       "1180000035_object  [Bagklædning: false, Mikroklimaramme: false]   \n",
       "1180000035_object  [Bagklædning: false, Mikroklimaramme: false]   \n",
       "1180000035_object  [Bagklædning: false, Mikroklimaramme: false]   \n",
       "1180000119_object  [Bagklædning: false, Mikroklimaramme: false]   \n",
       "1180000119_object  [Bagklædning: false, Mikroklimaramme: false]   \n",
       "\n",
       "                                                     image_iiif_info  \\\n",
       "1180000035_object  https://iip.smk.dk/iiif/jp2/KMS3682.tif.jp2/in...   \n",
       "1180000035_object  https://iip.smk.dk/iiif/jp2/KMS3682.tif.jp2/in...   \n",
       "1180000035_object  https://iip.smk.dk/iiif/jp2/KMS3682.tif.jp2/in...   \n",
       "1180000119_object  https://iip.smk.dk/iiif/jp2/kksgb9125.tif.reco...   \n",
       "1180000119_object  https://iip.smk.dk/iiif/jp2/kksgb9125.tif.reco...   \n",
       "\n",
       "                                                        image_native  \\\n",
       "1180000035_object  https://iip.smk.dk/iiif/jp2/KMS3682.tif.jp2/fu...   \n",
       "1180000035_object  https://iip.smk.dk/iiif/jp2/KMS3682.tif.jp2/fu...   \n",
       "1180000035_object  https://iip.smk.dk/iiif/jp2/KMS3682.tif.jp2/fu...   \n",
       "1180000119_object  https://iip.smk.dk/iiif/jp2/kksgb9125.tif.reco...   \n",
       "1180000119_object  https://iip.smk.dk/iiif/jp2/kksgb9125.tif.reco...   \n",
       "\n",
       "                  image_orientation  image_height  \\\n",
       "1180000035_object         landscape        7087.0   \n",
       "1180000035_object         landscape        7087.0   \n",
       "1180000035_object         landscape        7087.0   \n",
       "1180000119_object          portrait        4867.0   \n",
       "1180000119_object          portrait        4867.0   \n",
       "\n",
       "                                                  alternative_images  \\\n",
       "1180000035_object                                                NaN   \n",
       "1180000035_object                                                NaN   \n",
       "1180000035_object                                                NaN   \n",
       "1180000119_object  [{'width': 3819, 'native': 'https://iip.smk.dk...   \n",
       "1180000119_object  [{'width': 3819, 'native': 'https://iip.smk.dk...   \n",
       "\n",
       "                   image_width  number_of_parts  \\\n",
       "1180000035_object       9447.0              1.0   \n",
       "1180000035_object       9447.0              1.0   \n",
       "1180000035_object       9447.0              1.0   \n",
       "1180000119_object       3819.0              1.0   \n",
       "1180000119_object       3819.0              1.0   \n",
       "\n",
       "                                                       image_iiif_id  \\\n",
       "1180000035_object        https://iip.smk.dk/iiif/jp2/KMS3682.tif.jp2   \n",
       "1180000035_object        https://iip.smk.dk/iiif/jp2/KMS3682.tif.jp2   \n",
       "1180000035_object        https://iip.smk.dk/iiif/jp2/KMS3682.tif.jp2   \n",
       "1180000119_object  https://iip.smk.dk/iiif/jp2/kksgb9125.tif.reco...   \n",
       "1180000119_object  https://iip.smk.dk/iiif/jp2/kksgb9125.tif.reco...   \n",
       "\n",
       "                                             part_of  \\\n",
       "1180000035_object                                NaN   \n",
       "1180000035_object                                NaN   \n",
       "1180000035_object                                NaN   \n",
       "1180000119_object  [KKSgb9122, KKSgb9123, KKSgb9124]   \n",
       "1180000119_object  [KKSgb9122, KKSgb9123, KKSgb9124]   \n",
       "\n",
       "                                                     image_thumbnail  \\\n",
       "1180000035_object  https://iip.smk.dk/iiif/jp2/KMS3682.tif.jp2/fu...   \n",
       "1180000035_object  https://iip.smk.dk/iiif/jp2/KMS3682.tif.jp2/fu...   \n",
       "1180000035_object  https://iip.smk.dk/iiif/jp2/KMS3682.tif.jp2/fu...   \n",
       "1180000119_object  https://iip.smk.dk/iiif/jp2/kksgb9125.tif.reco...   \n",
       "1180000119_object  https://iip.smk.dk/iiif/jp2/kksgb9125.tif.reco...   \n",
       "\n",
       "                                                          colors   image_size  \\\n",
       "1180000035_object  [#674200, #5A5A5A, #9B9B9B, #9B9B9B, #F4C6A3]  200881304.0   \n",
       "1180000035_object  [#674200, #5A5A5A, #9B9B9B, #9B9B9B, #F4C6A3]  200881304.0   \n",
       "1180000035_object  [#674200, #5A5A5A, #9B9B9B, #9B9B9B, #F4C6A3]  200881304.0   \n",
       "1180000119_object  [#FFFFFF, #D2D2D2, #F4C6A3, #FFFFFF, #9B9B9B]   28964842.0   \n",
       "1180000119_object  [#FFFFFF, #D2D2D2, #F4C6A3, #FFFFFF, #9B9B9B]   28964842.0   \n",
       "\n",
       "                  image_mime_type  image_cropped  \\\n",
       "1180000035_object      image/tiff            NaN   \n",
       "1180000035_object      image/tiff            NaN   \n",
       "1180000035_object      image/tiff            NaN   \n",
       "1180000119_object      image/tiff            1.0   \n",
       "1180000119_object      image/tiff            1.0   \n",
       "\n",
       "                           distinguishing_features  \\\n",
       "1180000035_object                              NaN   \n",
       "1180000035_object                              NaN   \n",
       "1180000035_object                              NaN   \n",
       "1180000119_object  [Rester af violet papir, verso]   \n",
       "1180000119_object  [Rester af violet papir, verso]   \n",
       "\n",
       "                                                               notes  \\\n",
       "1180000035_object                                                NaN   \n",
       "1180000035_object                                                NaN   \n",
       "1180000035_object                                                NaN   \n",
       "1180000119_object  [Litt.:\\n-\"Eingebundene Kupferstücke\", kat. nr...   \n",
       "1180000119_object  [Litt.:\\n-\"Eingebundene Kupferstücke\", kat. nr...   \n",
       "\n",
       "                                                     related_objects  \\\n",
       "1180000035_object                                                NaN   \n",
       "1180000035_object                                                NaN   \n",
       "1180000035_object                                                NaN   \n",
       "1180000119_object  [{'notes': 'Forlæg for et kobberstik, der er i...   \n",
       "1180000119_object  [{'notes': 'Forlæg for et kobberstik, der er i...   \n",
       "\n",
       "                  object_history_note        collection  \\\n",
       "1180000035_object                 NaN               NaN   \n",
       "1180000035_object                 NaN               NaN   \n",
       "1180000035_object                 NaN               NaN   \n",
       "1180000119_object                 NaN  [Gammel bestand]   \n",
       "1180000119_object                 NaN  [Gammel bestand]   \n",
       "\n",
       "                                              production_dates_notes  \\\n",
       "1180000035_object  [Datering baseret på kunstnerens ophold i Ital...   \n",
       "1180000035_object  [Datering baseret på kunstnerens ophold i Ital...   \n",
       "1180000035_object  [Datering baseret på kunstnerens ophold i Ital...   \n",
       "1180000119_object                                                NaN   \n",
       "1180000119_object                                                NaN   \n",
       "\n",
       "                                                         exhibitions  \\\n",
       "1180000035_object  [{'exhibition': 'I Guldalderens Skygge - Maler...   \n",
       "1180000035_object  [{'exhibition': 'I Guldalderens Skygge - Maler...   \n",
       "1180000035_object  [{'exhibition': 'I Guldalderens Skygge - Maler...   \n",
       "1180000119_object                                                NaN   \n",
       "1180000119_object                                                NaN   \n",
       "\n",
       "                                                       documentation  \\\n",
       "1180000035_object                                                NaN   \n",
       "1180000035_object                                                NaN   \n",
       "1180000035_object                                                NaN   \n",
       "1180000119_object  [{'shelfmark': '3011', 'author': 'Leon Preibis...   \n",
       "1180000119_object  [{'shelfmark': '3011', 'author': 'Leon Preibis...   \n",
       "\n",
       "                  content_description content_person  \\\n",
       "1180000035_object                 NaN            NaN   \n",
       "1180000035_object                 NaN            NaN   \n",
       "1180000035_object                 NaN            NaN   \n",
       "1180000119_object                 NaN            NaN   \n",
       "1180000119_object                 NaN            NaN   \n",
       "\n",
       "                                    work_status  \\\n",
       "1180000035_object                           NaN   \n",
       "1180000035_object                           NaN   \n",
       "1180000035_object                           NaN   \n",
       "1180000119_object  [del af serie, forlæg (for)]   \n",
       "1180000119_object  [del af serie, forlæg (for)]   \n",
       "\n",
       "                                                           materials  \\\n",
       "1180000035_object  [{'material': 'papir'}, {'material': 'pap'}, {...   \n",
       "1180000035_object  [{'material': 'papir'}, {'material': 'pap'}, {...   \n",
       "1180000035_object  [{'material': 'papir'}, {'material': 'pap'}, {...   \n",
       "1180000119_object                                                NaN   \n",
       "1180000119_object                                                NaN   \n",
       "\n",
       "                                               parts content_subject  \\\n",
       "1180000035_object                                NaN      [Sorrento]   \n",
       "1180000035_object                                NaN      [Sorrento]   \n",
       "1180000035_object                                NaN      [Sorrento]   \n",
       "1180000119_object  [KKSgb9122, KKSgb9123, KKSgb9124]             NaN   \n",
       "1180000119_object  [KKSgb9122, KKSgb9123, KKSgb9124]             NaN   \n",
       "\n",
       "                  acquisition_date current_location_name labels image_type  \\\n",
       "1180000035_object              NaN                   NaN    NaN        NaN   \n",
       "1180000035_object              NaN                   NaN    NaN        NaN   \n",
       "1180000035_object              NaN                   NaN    NaN        NaN   \n",
       "1180000119_object              NaN                   NaN    NaN        NaN   \n",
       "1180000119_object              NaN                   NaN    NaN        NaN   \n",
       "\n",
       "                  current_location_date                           HITId  \\\n",
       "1180000035_object                   NaN  3XUSYT70JWJ3OJSRD7K9N2E018XD01   \n",
       "1180000035_object                   NaN  3XUSYT70JWJ3OJSRD7K9N2E018XD01   \n",
       "1180000035_object                   NaN  3XUSYT70JWJ3OJSRD7K9N2E018XD01   \n",
       "1180000119_object                   NaN  3RIHDBQ1OHGH3D40O8QXCK0BW3RHMP   \n",
       "1180000119_object                   NaN  3RIHDBQ1OHGH3D40O8QXCK0BW3RHMP   \n",
       "\n",
       "                                        HITTypeId  \\\n",
       "1180000035_object  3P7L6K2EZCJCZA9OFURVFP9X84M4N6   \n",
       "1180000035_object  3P7L6K2EZCJCZA9OFURVFP9X84M4N6   \n",
       "1180000035_object  3P7L6K2EZCJCZA9OFURVFP9X84M4N6   \n",
       "1180000119_object  3P7L6K2EZCJCZA9OFURVFP9X84M4N6   \n",
       "1180000119_object  3P7L6K2EZCJCZA9OFURVFP9X84M4N6   \n",
       "\n",
       "                                                             Title  \\\n",
       "1180000035_object  Does this image contain the object of interest?   \n",
       "1180000035_object  Does this image contain the object of interest?   \n",
       "1180000035_object  Does this image contain the object of interest?   \n",
       "1180000119_object  Does this image contain the object of interest?   \n",
       "1180000119_object  Does this image contain the object of interest?   \n",
       "\n",
       "                                                  Description  \\\n",
       "1180000035_object  Does this image depict a person or people?   \n",
       "1180000035_object  Does this image depict a person or people?   \n",
       "1180000035_object  Does this image depict a person or people?   \n",
       "1180000119_object  Does this image depict a person or people?   \n",
       "1180000119_object  Does this image depict a person or people?   \n",
       "\n",
       "                                Keywords Reward                  CreationTime  \\\n",
       "1180000035_object  image, classification  $0.10  Tue Nov 19 09:27:13 PST 2019   \n",
       "1180000035_object  image, classification  $0.10  Tue Nov 19 09:27:13 PST 2019   \n",
       "1180000035_object  image, classification  $0.10  Tue Nov 19 09:27:13 PST 2019   \n",
       "1180000119_object  image, classification  $0.10  Tue Nov 19 09:27:04 PST 2019   \n",
       "1180000119_object  image, classification  $0.10  Tue Nov 19 09:27:04 PST 2019   \n",
       "\n",
       "                   MaxAssignments  \\\n",
       "1180000035_object               3   \n",
       "1180000035_object               3   \n",
       "1180000035_object               3   \n",
       "1180000119_object               3   \n",
       "1180000119_object               3   \n",
       "\n",
       "                                                RequesterAnnotation  \\\n",
       "1180000035_object  BatchId:3841465;OriginalHitTemplateId:928390875;   \n",
       "1180000035_object  BatchId:3841465;OriginalHitTemplateId:928390875;   \n",
       "1180000035_object  BatchId:3841465;OriginalHitTemplateId:928390875;   \n",
       "1180000119_object  BatchId:3841465;OriginalHitTemplateId:928390875;   \n",
       "1180000119_object  BatchId:3841465;OriginalHitTemplateId:928390875;   \n",
       "\n",
       "                   AssignmentDurationInSeconds  AutoApprovalDelayInSeconds  \\\n",
       "1180000035_object                         3600                      259200   \n",
       "1180000035_object                         3600                      259200   \n",
       "1180000035_object                         3600                      259200   \n",
       "1180000119_object                         3600                      259200   \n",
       "1180000119_object                         3600                      259200   \n",
       "\n",
       "                                     Expiration  NumberOfSimilarHITs  \\\n",
       "1180000035_object  Tue Nov 26 09:27:13 PST 2019                  NaN   \n",
       "1180000035_object  Tue Nov 26 09:27:13 PST 2019                  NaN   \n",
       "1180000035_object  Tue Nov 26 09:27:13 PST 2019                  NaN   \n",
       "1180000119_object  Tue Nov 26 09:27:04 PST 2019                  NaN   \n",
       "1180000119_object  Tue Nov 26 09:27:04 PST 2019                  NaN   \n",
       "\n",
       "                   LifetimeInSeconds                    AssignmentId  \\\n",
       "1180000035_object                NaN  345LHZDED1AN9X048RXJNKCLW023U9   \n",
       "1180000035_object                NaN  3QXNC7EIPMDT8DD4RTK9PQR0G3709J   \n",
       "1180000035_object                NaN  3SB4CE2TJZDFAMTKMBNGUZPVWS8AX1   \n",
       "1180000119_object                NaN  35L9RVQFCS023573NCMLREDVF5FUH2   \n",
       "1180000119_object                NaN  3DBQWDE4YAGDSM3ZP99QOMIB20X5N6   \n",
       "\n",
       "                         WorkerId AssignmentStatus  \\\n",
       "1180000035_object   A2MHSOKJSLELL        Submitted   \n",
       "1180000035_object  A2XLD73DLFU01Q        Submitted   \n",
       "1180000035_object   A9R0YS7VXXHGX        Submitted   \n",
       "1180000119_object   AZTH2MXJ7FWU0        Submitted   \n",
       "1180000119_object  A23K0YTNUJ0GKR        Submitted   \n",
       "\n",
       "                                     AcceptTime                    SubmitTime  \\\n",
       "1180000035_object  Tue Nov 19 09:32:59 PST 2019  Tue Nov 19 09:42:37 PST 2019   \n",
       "1180000035_object  Tue Nov 19 09:32:06 PST 2019  Tue Nov 19 10:10:30 PST 2019   \n",
       "1180000035_object  Tue Nov 19 09:29:56 PST 2019  Tue Nov 19 09:41:38 PST 2019   \n",
       "1180000119_object  Tue Nov 19 09:28:19 PST 2019  Tue Nov 19 09:28:36 PST 2019   \n",
       "1180000119_object  Tue Nov 19 09:29:46 PST 2019  Tue Nov 19 09:30:53 PST 2019   \n",
       "\n",
       "                               AutoApprovalTime  ApprovalTime  RejectionTime  \\\n",
       "1180000035_object  Fri Nov 22 09:42:37 PST 2019           NaN            NaN   \n",
       "1180000035_object  Fri Nov 22 10:10:30 PST 2019           NaN            NaN   \n",
       "1180000035_object  Fri Nov 22 09:41:38 PST 2019           NaN            NaN   \n",
       "1180000119_object  Fri Nov 22 09:28:36 PST 2019           NaN            NaN   \n",
       "1180000119_object  Fri Nov 22 09:30:53 PST 2019           NaN            NaN   \n",
       "\n",
       "                   RequesterFeedback  WorkTimeInSeconds LifetimeApprovalRate  \\\n",
       "1180000035_object                NaN                578             0% (0/0)   \n",
       "1180000035_object                NaN               2304             0% (0/0)   \n",
       "1180000035_object                NaN                702             0% (0/0)   \n",
       "1180000119_object                NaN                 17             0% (0/0)   \n",
       "1180000119_object                NaN                 67             0% (0/0)   \n",
       "\n",
       "                  Last30DaysApprovalRate Last7DaysApprovalRate  \\\n",
       "1180000035_object               0% (0/0)              0% (0/0)   \n",
       "1180000035_object               0% (0/0)              0% (0/0)   \n",
       "1180000035_object               0% (0/0)              0% (0/0)   \n",
       "1180000119_object               0% (0/0)              0% (0/0)   \n",
       "1180000119_object               0% (0/0)              0% (0/0)   \n",
       "\n",
       "                                                  Input.image_native  \\\n",
       "1180000035_object  https://iip.smk.dk/iiif/jp2/KMS3682.tif.jp2/fu...   \n",
       "1180000035_object  https://iip.smk.dk/iiif/jp2/KMS3682.tif.jp2/fu...   \n",
       "1180000035_object  https://iip.smk.dk/iiif/jp2/KMS3682.tif.jp2/fu...   \n",
       "1180000119_object  https://iip.smk.dk/iiif/jp2/kksgb9125.tif.reco...   \n",
       "1180000119_object  https://iip.smk.dk/iiif/jp2/kksgb9125.tif.reco...   \n",
       "\n",
       "                  Answer.image-contains Answer.image-contains.label  Approve  \\\n",
       "1180000035_object                   NaN                          No      NaN   \n",
       "1180000035_object                   NaN                         Yes      NaN   \n",
       "1180000035_object                   NaN                          No      NaN   \n",
       "1180000119_object                   NaN                         Yes      NaN   \n",
       "1180000119_object                   NaN                         Yes      NaN   \n",
       "\n",
       "                   Reject  \n",
       "1180000035_object     NaN  \n",
       "1180000035_object     NaN  \n",
       "1180000035_object     NaN  \n",
       "1180000119_object     NaN  \n",
       "1180000119_object     NaN  "
      ]
     },
     "execution_count": 14,
     "metadata": {},
     "output_type": "execute_result"
    }
   ],
   "source": [
    "smk_results.head()"
   ]
  },
  {
   "cell_type": "markdown",
   "metadata": {},
   "source": [
    "The fact is that, due to how the join was done above, the key is not unique because each artwork had 3 assignments."
   ]
  },
  {
   "cell_type": "code",
   "execution_count": 16,
   "metadata": {},
   "outputs": [
    {
     "data": {
      "text/plain": [
       "False"
      ]
     },
     "execution_count": 16,
     "metadata": {},
     "output_type": "execute_result"
    }
   ],
   "source": [
    "smk_results.index.is_unique"
   ]
  },
  {
   "cell_type": "markdown",
   "metadata": {},
   "source": [
    "So grouping the items on artwork ID is a way to go. Each has 3 items."
   ]
  },
  {
   "cell_type": "code",
   "execution_count": 19,
   "metadata": {},
   "outputs": [
    {
     "data": {
      "text/plain": [
       "3    1000\n",
       "dtype: int64"
      ]
     },
     "execution_count": 19,
     "metadata": {},
     "output_type": "execute_result"
    }
   ],
   "source": [
    "smk_results.groupby(level=0).apply(len).value_counts()"
   ]
  },
  {
   "cell_type": "markdown",
   "metadata": {},
   "source": [
    "For convenience, since this was a binary task of asking whether there is person/people in a task, let's make a boolean columns for it."
   ]
  },
  {
   "cell_type": "code",
   "execution_count": 17,
   "metadata": {},
   "outputs": [],
   "source": [
    "smk_results['Answer.image-contains.people'] = smk_results['Answer.image-contains.label'].str.match('Yes')"
   ]
  },
  {
   "cell_type": "markdown",
   "metadata": {},
   "source": [
    "## Results\n",
    "\n",
    "How many images contain a person/people, how many do not? According to turkers in this task?"
   ]
  },
  {
   "cell_type": "code",
   "execution_count": 22,
   "metadata": {},
   "outputs": [
    {
     "data": {
      "text/plain": [
       "True     1727\n",
       "False    1272\n",
       "Name: Answer.image-contains.people, dtype: int64"
      ]
     },
     "execution_count": 22,
     "metadata": {},
     "output_type": "execute_result"
    }
   ],
   "source": [
    "smk_results['Answer.image-contains.people'].value_counts()"
   ]
  },
  {
   "cell_type": "markdown",
   "metadata": {},
   "source": [
    "## Annotator agreement characterized"
   ]
  },
  {
   "cell_type": "code",
   "execution_count": 23,
   "metadata": {},
   "outputs": [
    {
     "data": {
      "text/plain": [
       "0.5758586195398466"
      ]
     },
     "execution_count": 23,
     "metadata": {},
     "output_type": "execute_result"
    }
   ],
   "source": [
    "smk_results['Answer.image-contains.people'].mean()"
   ]
  },
  {
   "cell_type": "code",
   "execution_count": 26,
   "metadata": {},
   "outputs": [
    {
     "data": {
      "application/vnd.vegalite.v3+json": {
       "$schema": "https://vega.github.io/schema/vega-lite/v3.4.0.json",
       "config": {
        "axis": {
         "grid": false
        },
        "mark": {
         "tooltip": null
        },
        "view": {
         "height": 300,
         "width": 400
        }
       },
       "data": {
        "name": "data-20dfd7befb55cef9403a778c139eff26"
       },
       "datasets": {
        "data-20dfd7befb55cef9403a778c139eff26": [
         {
          "ann_aggreement": 0.3333333333333333,
          "index": "1180000035_object"
         },
         {
          "ann_aggreement": 1,
          "index": "1180000119_object"
         },
         {
          "ann_aggreement": 0,
          "index": "1180000369_object"
         },
         {
          "ann_aggreement": 1,
          "index": "1180000383_object"
         },
         {
          "ann_aggreement": 1,
          "index": "1180000426_object"
         },
         {
          "ann_aggreement": 0.3333333333333333,
          "index": "1180000428_object"
         },
         {
          "ann_aggreement": 1,
          "index": "1180000440_object"
         },
         {
          "ann_aggreement": 1,
          "index": "1180000445_object"
         },
         {
          "ann_aggreement": 0,
          "index": "1180000464_object"
         },
         {
          "ann_aggreement": 1,
          "index": "1180000535_object"
         },
         {
          "ann_aggreement": 1,
          "index": "1180000748_object"
         },
         {
          "ann_aggreement": 0,
          "index": "1180000782_object"
         },
         {
          "ann_aggreement": 0.3333333333333333,
          "index": "1180001066_object"
         },
         {
          "ann_aggreement": 1,
          "index": "1180001093_object"
         },
         {
          "ann_aggreement": 1,
          "index": "1180001150_object"
         },
         {
          "ann_aggreement": 0,
          "index": "1180001160_object"
         },
         {
          "ann_aggreement": 1,
          "index": "1180001192_object"
         },
         {
          "ann_aggreement": 1,
          "index": "1180001238_object"
         },
         {
          "ann_aggreement": 0.6666666666666666,
          "index": "1180001248_object"
         },
         {
          "ann_aggreement": 0,
          "index": "1180001298_object"
         },
         {
          "ann_aggreement": 1,
          "index": "1180001411_object"
         },
         {
          "ann_aggreement": 0.3333333333333333,
          "index": "1180001421_object"
         },
         {
          "ann_aggreement": 0.6666666666666666,
          "index": "1180001525_object"
         },
         {
          "ann_aggreement": 0,
          "index": "1180001562_object"
         },
         {
          "ann_aggreement": 1,
          "index": "1180001588_object"
         },
         {
          "ann_aggreement": 0,
          "index": "1180001627_object"
         },
         {
          "ann_aggreement": 0.6666666666666666,
          "index": "1180001676_object"
         },
         {
          "ann_aggreement": 1,
          "index": "1180001706_object"
         },
         {
          "ann_aggreement": 1,
          "index": "1180001769_object"
         },
         {
          "ann_aggreement": 0.6666666666666666,
          "index": "1180001997_object"
         },
         {
          "ann_aggreement": 0.3333333333333333,
          "index": "1180002056_object"
         },
         {
          "ann_aggreement": 0,
          "index": "1180002078_object"
         },
         {
          "ann_aggreement": 0.3333333333333333,
          "index": "1180002223_object"
         },
         {
          "ann_aggreement": 1,
          "index": "1180002296_object"
         },
         {
          "ann_aggreement": 1,
          "index": "1180002651_object"
         },
         {
          "ann_aggreement": 1,
          "index": "1180002779_object"
         },
         {
          "ann_aggreement": 0.3333333333333333,
          "index": "1180002781_object"
         },
         {
          "ann_aggreement": 0.3333333333333333,
          "index": "1180002989_object"
         },
         {
          "ann_aggreement": 0.6666666666666666,
          "index": "1180003002_object"
         },
         {
          "ann_aggreement": 1,
          "index": "1180003013_object"
         },
         {
          "ann_aggreement": 0,
          "index": "1180003081_object"
         },
         {
          "ann_aggreement": 0,
          "index": "1180003255_object"
         },
         {
          "ann_aggreement": 1,
          "index": "1180003385_object"
         },
         {
          "ann_aggreement": 0.3333333333333333,
          "index": "1180003441_object"
         },
         {
          "ann_aggreement": 1,
          "index": "1180003510_object"
         },
         {
          "ann_aggreement": 0.6666666666666666,
          "index": "1180003540_object"
         },
         {
          "ann_aggreement": 0,
          "index": "1180003651_object"
         },
         {
          "ann_aggreement": 0.3333333333333333,
          "index": "1180003690_object"
         },
         {
          "ann_aggreement": 0,
          "index": "1180003747_object"
         },
         {
          "ann_aggreement": 1,
          "index": "1180003748_object"
         },
         {
          "ann_aggreement": 1,
          "index": "1180003810_object"
         },
         {
          "ann_aggreement": 0,
          "index": "1180003812_object"
         },
         {
          "ann_aggreement": 1,
          "index": "1180004102_object"
         },
         {
          "ann_aggreement": 1,
          "index": "1180004204_object"
         },
         {
          "ann_aggreement": 0.3333333333333333,
          "index": "1180004273_object"
         },
         {
          "ann_aggreement": 0.6666666666666666,
          "index": "1180004353_object"
         },
         {
          "ann_aggreement": 0.6666666666666666,
          "index": "1180004369_object"
         },
         {
          "ann_aggreement": 0,
          "index": "1180004424_object"
         },
         {
          "ann_aggreement": 0,
          "index": "1180004430_object"
         },
         {
          "ann_aggreement": 1,
          "index": "1180004451_object"
         },
         {
          "ann_aggreement": 1,
          "index": "1180004474_object"
         },
         {
          "ann_aggreement": 1,
          "index": "1180004521_object"
         },
         {
          "ann_aggreement": 0.6666666666666666,
          "index": "1180004601_object"
         },
         {
          "ann_aggreement": 0.6666666666666666,
          "index": "1180004690_object"
         },
         {
          "ann_aggreement": 0.6666666666666666,
          "index": "1180004768_object"
         },
         {
          "ann_aggreement": 0.6666666666666666,
          "index": "1180004864_object"
         },
         {
          "ann_aggreement": 0,
          "index": "1180004865_object"
         },
         {
          "ann_aggreement": 1,
          "index": "1180004904_object"
         },
         {
          "ann_aggreement": 0.3333333333333333,
          "index": "1180004957_object"
         },
         {
          "ann_aggreement": 0.3333333333333333,
          "index": "1180004976_object"
         },
         {
          "ann_aggreement": 0,
          "index": "1180005035_object"
         },
         {
          "ann_aggreement": 0.6666666666666666,
          "index": "1180005077_object"
         },
         {
          "ann_aggreement": 1,
          "index": "1180005115_object"
         },
         {
          "ann_aggreement": 1,
          "index": "1180005195_object"
         },
         {
          "ann_aggreement": 1,
          "index": "1180005223_object"
         },
         {
          "ann_aggreement": 0.3333333333333333,
          "index": "1180005262_object"
         },
         {
          "ann_aggreement": 0.3333333333333333,
          "index": "1180005371_object"
         },
         {
          "ann_aggreement": 0.6666666666666666,
          "index": "1180005551_object"
         },
         {
          "ann_aggreement": 0.6666666666666666,
          "index": "1180005592_object"
         },
         {
          "ann_aggreement": 0.6666666666666666,
          "index": "1180005699_object"
         },
         {
          "ann_aggreement": 0,
          "index": "1180005796_object"
         },
         {
          "ann_aggreement": 1,
          "index": "1180005810_object"
         },
         {
          "ann_aggreement": 1,
          "index": "1180006005_object"
         },
         {
          "ann_aggreement": 0,
          "index": "1180006067_object"
         },
         {
          "ann_aggreement": 0.3333333333333333,
          "index": "1180006165_object"
         },
         {
          "ann_aggreement": 1,
          "index": "1180006251_object"
         },
         {
          "ann_aggreement": 0.3333333333333333,
          "index": "1180006372_object"
         },
         {
          "ann_aggreement": 0.3333333333333333,
          "index": "1180006388_object"
         },
         {
          "ann_aggreement": 0.3333333333333333,
          "index": "1180006612_object"
         },
         {
          "ann_aggreement": 0.3333333333333333,
          "index": "1180006737_object"
         },
         {
          "ann_aggreement": 0,
          "index": "1180006959_object"
         },
         {
          "ann_aggreement": 0,
          "index": "1180006972_object"
         },
         {
          "ann_aggreement": 0,
          "index": "1180006991_object"
         },
         {
          "ann_aggreement": 0.6666666666666666,
          "index": "1180007199_object"
         },
         {
          "ann_aggreement": 1,
          "index": "1180007403_object"
         },
         {
          "ann_aggreement": 1,
          "index": "1180007636_object"
         },
         {
          "ann_aggreement": 1,
          "index": "1180007658_object"
         },
         {
          "ann_aggreement": 1,
          "index": "1180007780_object"
         },
         {
          "ann_aggreement": 1,
          "index": "1180007787_object"
         },
         {
          "ann_aggreement": 1,
          "index": "1180007799_object"
         },
         {
          "ann_aggreement": 0,
          "index": "1180007821_object"
         },
         {
          "ann_aggreement": 0,
          "index": "1180007827_object"
         },
         {
          "ann_aggreement": 0.3333333333333333,
          "index": "1180007831_object"
         },
         {
          "ann_aggreement": 1,
          "index": "1180007870_object"
         },
         {
          "ann_aggreement": 1,
          "index": "1180007879_object"
         },
         {
          "ann_aggreement": 0.6666666666666666,
          "index": "1180007887_object"
         },
         {
          "ann_aggreement": 0.6666666666666666,
          "index": "1180008017_object"
         },
         {
          "ann_aggreement": 1,
          "index": "1180008019_object"
         },
         {
          "ann_aggreement": 0,
          "index": "1180008124_object"
         },
         {
          "ann_aggreement": 1,
          "index": "1180008146_object"
         },
         {
          "ann_aggreement": 0,
          "index": "1180008228_object"
         },
         {
          "ann_aggreement": 0.3333333333333333,
          "index": "1180008300_object"
         },
         {
          "ann_aggreement": 0.3333333333333333,
          "index": "1180008328_object"
         },
         {
          "ann_aggreement": 0,
          "index": "1180008371_object"
         },
         {
          "ann_aggreement": 0.3333333333333333,
          "index": "1180008420_object"
         },
         {
          "ann_aggreement": 1,
          "index": "1180008437_object"
         },
         {
          "ann_aggreement": 1,
          "index": "1180008789_object"
         },
         {
          "ann_aggreement": 0.3333333333333333,
          "index": "1180008791_object"
         },
         {
          "ann_aggreement": 0,
          "index": "1180008891_object"
         },
         {
          "ann_aggreement": 1,
          "index": "1180008954_object"
         },
         {
          "ann_aggreement": 0,
          "index": "1180008955_object"
         },
         {
          "ann_aggreement": 0,
          "index": "1180009103_object"
         },
         {
          "ann_aggreement": 1,
          "index": "1180009105_object"
         },
         {
          "ann_aggreement": 1,
          "index": "1180009267_object"
         },
         {
          "ann_aggreement": 0.3333333333333333,
          "index": "1180009390_object"
         },
         {
          "ann_aggreement": 0.3333333333333333,
          "index": "1180009483_object"
         },
         {
          "ann_aggreement": 0,
          "index": "1180009509_object"
         },
         {
          "ann_aggreement": 0,
          "index": "1180009625_object"
         },
         {
          "ann_aggreement": 0.3333333333333333,
          "index": "1180009735_object"
         },
         {
          "ann_aggreement": 1,
          "index": "1180009899_object"
         },
         {
          "ann_aggreement": 0,
          "index": "1180009936_object"
         },
         {
          "ann_aggreement": 0,
          "index": "1180010177_object"
         },
         {
          "ann_aggreement": 0,
          "index": "1180010440_object"
         },
         {
          "ann_aggreement": 0,
          "index": "1180010471_object"
         },
         {
          "ann_aggreement": 0,
          "index": "1180010472_object"
         },
         {
          "ann_aggreement": 1,
          "index": "1180010529_object"
         },
         {
          "ann_aggreement": 0.3333333333333333,
          "index": "1180010673_object"
         },
         {
          "ann_aggreement": 1,
          "index": "1180010732_object"
         },
         {
          "ann_aggreement": 0.3333333333333333,
          "index": "1180010754_object"
         },
         {
          "ann_aggreement": 1,
          "index": "1180010818_object"
         },
         {
          "ann_aggreement": 1,
          "index": "1180010819_object"
         },
         {
          "ann_aggreement": 0,
          "index": "1180010891_object"
         },
         {
          "ann_aggreement": 0,
          "index": "1180010970_object"
         },
         {
          "ann_aggreement": 1,
          "index": "1180010972_object"
         },
         {
          "ann_aggreement": 0,
          "index": "1180010973_object"
         },
         {
          "ann_aggreement": 0.3333333333333333,
          "index": "1180010985_object"
         },
         {
          "ann_aggreement": 0,
          "index": "1180011045_object"
         },
         {
          "ann_aggreement": 1,
          "index": "1180011223_object"
         },
         {
          "ann_aggreement": 1,
          "index": "1180011251_object"
         },
         {
          "ann_aggreement": 0.3333333333333333,
          "index": "1180011408_object"
         },
         {
          "ann_aggreement": 1,
          "index": "1180011555_object"
         },
         {
          "ann_aggreement": 0.3333333333333333,
          "index": "1180011664_object"
         },
         {
          "ann_aggreement": 0,
          "index": "1180011726_object"
         },
         {
          "ann_aggreement": 0.3333333333333333,
          "index": "1180011732_object"
         },
         {
          "ann_aggreement": 0.3333333333333333,
          "index": "1180012001_object"
         },
         {
          "ann_aggreement": 1,
          "index": "1180012019_object"
         },
         {
          "ann_aggreement": 0,
          "index": "1180012429_object"
         },
         {
          "ann_aggreement": 0.6666666666666666,
          "index": "1180012473_object"
         },
         {
          "ann_aggreement": 0,
          "index": "1180012487_object"
         },
         {
          "ann_aggreement": 1,
          "index": "1180012641_object"
         },
         {
          "ann_aggreement": 1,
          "index": "1180012736_object"
         },
         {
          "ann_aggreement": 0.3333333333333333,
          "index": "1180012860_object"
         },
         {
          "ann_aggreement": 0,
          "index": "1180012867_object"
         },
         {
          "ann_aggreement": 1,
          "index": "1180012928_object"
         },
         {
          "ann_aggreement": 1,
          "index": "1180012959_object"
         },
         {
          "ann_aggreement": 0.3333333333333333,
          "index": "1180013020_object"
         },
         {
          "ann_aggreement": 0.3333333333333333,
          "index": "1180013197_object"
         },
         {
          "ann_aggreement": 0.3333333333333333,
          "index": "1180013409_object"
         },
         {
          "ann_aggreement": 1,
          "index": "1180013460_object"
         },
         {
          "ann_aggreement": 0.3333333333333333,
          "index": "1180013475_object"
         },
         {
          "ann_aggreement": 0.6666666666666666,
          "index": "1180013557_object"
         },
         {
          "ann_aggreement": 0.6666666666666666,
          "index": "1180013563_object"
         },
         {
          "ann_aggreement": 0,
          "index": "1180013594_object"
         },
         {
          "ann_aggreement": 1,
          "index": "1180013598_object"
         },
         {
          "ann_aggreement": 0.6666666666666666,
          "index": "1180013845_object"
         },
         {
          "ann_aggreement": 1,
          "index": "1180013942_object"
         },
         {
          "ann_aggreement": 0.3333333333333333,
          "index": "1180013968_object"
         },
         {
          "ann_aggreement": 1,
          "index": "1180014001_object"
         },
         {
          "ann_aggreement": 1,
          "index": "1180014003_object"
         },
         {
          "ann_aggreement": 0,
          "index": "1180014020_object"
         },
         {
          "ann_aggreement": 0.3333333333333333,
          "index": "1180014044_object"
         },
         {
          "ann_aggreement": 0.3333333333333333,
          "index": "1180014161_object"
         },
         {
          "ann_aggreement": 1,
          "index": "1180014170_object"
         },
         {
          "ann_aggreement": 0.6666666666666666,
          "index": "1180014172_object"
         },
         {
          "ann_aggreement": 0.6666666666666666,
          "index": "1180014359_object"
         },
         {
          "ann_aggreement": 0,
          "index": "1180014434_object"
         },
         {
          "ann_aggreement": 0,
          "index": "1180014524_object"
         },
         {
          "ann_aggreement": 1,
          "index": "1180014597_object"
         },
         {
          "ann_aggreement": 1,
          "index": "1180014601_object"
         },
         {
          "ann_aggreement": 1,
          "index": "1180014669_object"
         },
         {
          "ann_aggreement": 0.3333333333333333,
          "index": "1180014729_object"
         },
         {
          "ann_aggreement": 0.6666666666666666,
          "index": "1180015019_object"
         },
         {
          "ann_aggreement": 0.6666666666666666,
          "index": "1180015029_object"
         },
         {
          "ann_aggreement": 0,
          "index": "1180015033_object"
         },
         {
          "ann_aggreement": 0.3333333333333333,
          "index": "1180015042_object"
         },
         {
          "ann_aggreement": 0.3333333333333333,
          "index": "1180015100_object"
         },
         {
          "ann_aggreement": 0,
          "index": "1180015136_object"
         },
         {
          "ann_aggreement": 1,
          "index": "1180015187_object"
         },
         {
          "ann_aggreement": 0.3333333333333333,
          "index": "1180015234_object"
         },
         {
          "ann_aggreement": 1,
          "index": "1180015266_object"
         },
         {
          "ann_aggreement": 0,
          "index": "1180015282_object"
         },
         {
          "ann_aggreement": 0.3333333333333333,
          "index": "1180015285_object"
         },
         {
          "ann_aggreement": 1,
          "index": "1180015300_object"
         },
         {
          "ann_aggreement": 1,
          "index": "1180015319_object"
         },
         {
          "ann_aggreement": 0.3333333333333333,
          "index": "1180015340_object"
         },
         {
          "ann_aggreement": 0,
          "index": "1180015531_object"
         },
         {
          "ann_aggreement": 0.6666666666666666,
          "index": "1180015994_object"
         },
         {
          "ann_aggreement": 0,
          "index": "1180016102_object"
         },
         {
          "ann_aggreement": 0.3333333333333333,
          "index": "1180016201_object"
         },
         {
          "ann_aggreement": 0,
          "index": "1180016206_object"
         },
         {
          "ann_aggreement": 0,
          "index": "1180016243_object"
         },
         {
          "ann_aggreement": 1,
          "index": "1180016321_object"
         },
         {
          "ann_aggreement": 1,
          "index": "1180016346_object"
         },
         {
          "ann_aggreement": 0.3333333333333333,
          "index": "1180016435_object"
         },
         {
          "ann_aggreement": 0.6666666666666666,
          "index": "1180016505_object"
         },
         {
          "ann_aggreement": 0,
          "index": "1180016565_object"
         },
         {
          "ann_aggreement": 0.6666666666666666,
          "index": "1180016571_object"
         },
         {
          "ann_aggreement": 1,
          "index": "1180016615_object"
         },
         {
          "ann_aggreement": 1,
          "index": "1180016697_object"
         },
         {
          "ann_aggreement": 0,
          "index": "1180016774_object"
         },
         {
          "ann_aggreement": 0.6666666666666666,
          "index": "1180016837_object"
         },
         {
          "ann_aggreement": 0.3333333333333333,
          "index": "1180016865_object"
         },
         {
          "ann_aggreement": 1,
          "index": "1180016910_object"
         },
         {
          "ann_aggreement": 0.3333333333333333,
          "index": "1180016954_object"
         },
         {
          "ann_aggreement": 0.6666666666666666,
          "index": "1180017199_object"
         },
         {
          "ann_aggreement": 0,
          "index": "1180017366_object"
         },
         {
          "ann_aggreement": 0,
          "index": "1180017496_object"
         },
         {
          "ann_aggreement": 1,
          "index": "1180017538_object"
         },
         {
          "ann_aggreement": 0,
          "index": "1180017704_object"
         },
         {
          "ann_aggreement": 1,
          "index": "1180017722_object"
         },
         {
          "ann_aggreement": 1,
          "index": "1180017777_object"
         },
         {
          "ann_aggreement": 0.3333333333333333,
          "index": "1180017963_object"
         },
         {
          "ann_aggreement": 1,
          "index": "1180017991_object"
         },
         {
          "ann_aggreement": 0.3333333333333333,
          "index": "1180018020_object"
         },
         {
          "ann_aggreement": 1,
          "index": "1180018105_object"
         },
         {
          "ann_aggreement": 0.3333333333333333,
          "index": "1180018141_object"
         },
         {
          "ann_aggreement": 0.6666666666666666,
          "index": "1180018165_object"
         },
         {
          "ann_aggreement": 1,
          "index": "1180018268_object"
         },
         {
          "ann_aggreement": 1,
          "index": "1180018368_object"
         },
         {
          "ann_aggreement": 0,
          "index": "1180018377_object"
         },
         {
          "ann_aggreement": 1,
          "index": "1180018449_object"
         },
         {
          "ann_aggreement": 0.6666666666666666,
          "index": "1180018506_object"
         },
         {
          "ann_aggreement": 1,
          "index": "1180018596_object"
         },
         {
          "ann_aggreement": 1,
          "index": "1180018672_object"
         },
         {
          "ann_aggreement": 0.6666666666666666,
          "index": "1180018733_object"
         },
         {
          "ann_aggreement": 0.6666666666666666,
          "index": "1180018845_object"
         },
         {
          "ann_aggreement": 0,
          "index": "1180018933_object"
         },
         {
          "ann_aggreement": 1,
          "index": "1180018958_object"
         },
         {
          "ann_aggreement": 1,
          "index": "1180018979_object"
         },
         {
          "ann_aggreement": 0,
          "index": "1180019064_object"
         },
         {
          "ann_aggreement": 0.3333333333333333,
          "index": "1180019291_object"
         },
         {
          "ann_aggreement": 1,
          "index": "1180019341_object"
         },
         {
          "ann_aggreement": 1,
          "index": "1180019453_object"
         },
         {
          "ann_aggreement": 0.6666666666666666,
          "index": "1180019455_object"
         },
         {
          "ann_aggreement": 0,
          "index": "1180019554_object"
         },
         {
          "ann_aggreement": 1,
          "index": "1180019641_object"
         },
         {
          "ann_aggreement": 0.6666666666666666,
          "index": "1180019686_object"
         },
         {
          "ann_aggreement": 0.6666666666666666,
          "index": "1180019697_object"
         },
         {
          "ann_aggreement": 0.3333333333333333,
          "index": "1180019742_object"
         },
         {
          "ann_aggreement": 1,
          "index": "1180019848_object"
         },
         {
          "ann_aggreement": 1,
          "index": "1180020084_object"
         },
         {
          "ann_aggreement": 0.6666666666666666,
          "index": "1180020085_object"
         },
         {
          "ann_aggreement": 1,
          "index": "1180020242_object"
         },
         {
          "ann_aggreement": 0,
          "index": "1180020440_object"
         },
         {
          "ann_aggreement": 0.3333333333333333,
          "index": "1180020551_object"
         },
         {
          "ann_aggreement": 0.6666666666666666,
          "index": "1180020634_object"
         },
         {
          "ann_aggreement": 0.6666666666666666,
          "index": "1180020692_object"
         },
         {
          "ann_aggreement": 0,
          "index": "1180020754_object"
         },
         {
          "ann_aggreement": 0.3333333333333333,
          "index": "1180020963_object"
         },
         {
          "ann_aggreement": 1,
          "index": "1180021051_object"
         },
         {
          "ann_aggreement": 0,
          "index": "1180021057_object"
         },
         {
          "ann_aggreement": 1,
          "index": "1180021127_object"
         },
         {
          "ann_aggreement": 0,
          "index": "1180021282_object"
         },
         {
          "ann_aggreement": 1,
          "index": "1180021309_object"
         },
         {
          "ann_aggreement": 0.6666666666666666,
          "index": "1180021386_object"
         },
         {
          "ann_aggreement": 1,
          "index": "1180021593_object"
         },
         {
          "ann_aggreement": 1,
          "index": "1180021676_object"
         },
         {
          "ann_aggreement": 1,
          "index": "1180021724_object"
         },
         {
          "ann_aggreement": 0.6666666666666666,
          "index": "1180021737_object"
         },
         {
          "ann_aggreement": 0.3333333333333333,
          "index": "1180021783_object"
         },
         {
          "ann_aggreement": 0.3333333333333333,
          "index": "1180021808_object"
         },
         {
          "ann_aggreement": 0,
          "index": "1180021966_object"
         },
         {
          "ann_aggreement": 0.3333333333333333,
          "index": "1180022128_object"
         },
         {
          "ann_aggreement": 0,
          "index": "1180022170_object"
         },
         {
          "ann_aggreement": 1,
          "index": "1180022338_object"
         },
         {
          "ann_aggreement": 0,
          "index": "1180022401_object"
         },
         {
          "ann_aggreement": 1,
          "index": "1180022515_object"
         },
         {
          "ann_aggreement": 0.6666666666666666,
          "index": "1180022669_object"
         },
         {
          "ann_aggreement": 0.6666666666666666,
          "index": "1180022687_object"
         },
         {
          "ann_aggreement": 0.6666666666666666,
          "index": "1180022718_object"
         },
         {
          "ann_aggreement": 0,
          "index": "1180022797_object"
         },
         {
          "ann_aggreement": 1,
          "index": "1180023136_object"
         },
         {
          "ann_aggreement": 1,
          "index": "1180023153_object"
         },
         {
          "ann_aggreement": 0,
          "index": "1180023248_object"
         },
         {
          "ann_aggreement": 1,
          "index": "1180023328_object"
         },
         {
          "ann_aggreement": 1,
          "index": "1180023339_object"
         },
         {
          "ann_aggreement": 0.3333333333333333,
          "index": "1180023405_object"
         },
         {
          "ann_aggreement": 1,
          "index": "1180023455_object"
         },
         {
          "ann_aggreement": 0.3333333333333333,
          "index": "1180023507_object"
         },
         {
          "ann_aggreement": 0.3333333333333333,
          "index": "1180023519_object"
         },
         {
          "ann_aggreement": 1,
          "index": "1180023642_object"
         },
         {
          "ann_aggreement": 0.6666666666666666,
          "index": "1180023756_object"
         },
         {
          "ann_aggreement": 0,
          "index": "1180023771_object"
         },
         {
          "ann_aggreement": 0.6666666666666666,
          "index": "1180023798_object"
         },
         {
          "ann_aggreement": 0.6666666666666666,
          "index": "1180024081_object"
         },
         {
          "ann_aggreement": 0.6666666666666666,
          "index": "1180024270_object"
         },
         {
          "ann_aggreement": 0.6666666666666666,
          "index": "1180024293_object"
         },
         {
          "ann_aggreement": 1,
          "index": "1180024445_object"
         },
         {
          "ann_aggreement": 1,
          "index": "1180024510_object"
         },
         {
          "ann_aggreement": 0.6666666666666666,
          "index": "1180024610_object"
         },
         {
          "ann_aggreement": 1,
          "index": "1180024652_object"
         },
         {
          "ann_aggreement": 0.6666666666666666,
          "index": "1180024709_object"
         },
         {
          "ann_aggreement": 0,
          "index": "1180024716_object"
         },
         {
          "ann_aggreement": 0.6666666666666666,
          "index": "1180024806_object"
         },
         {
          "ann_aggreement": 1,
          "index": "1180024876_object"
         },
         {
          "ann_aggreement": 1,
          "index": "1180024920_object"
         },
         {
          "ann_aggreement": 0.3333333333333333,
          "index": "1180024944_object"
         },
         {
          "ann_aggreement": 1,
          "index": "1180024951_object"
         },
         {
          "ann_aggreement": 0.6666666666666666,
          "index": "1180024981_object"
         },
         {
          "ann_aggreement": 0.3333333333333333,
          "index": "1180025056_object"
         },
         {
          "ann_aggreement": 0,
          "index": "1180025301_object"
         },
         {
          "ann_aggreement": 1,
          "index": "1180025374_object"
         },
         {
          "ann_aggreement": 1,
          "index": "1180025459_object"
         },
         {
          "ann_aggreement": 0.6666666666666666,
          "index": "1180025595_object"
         },
         {
          "ann_aggreement": 0,
          "index": "1180025675_object"
         },
         {
          "ann_aggreement": 0,
          "index": "1180025732_object"
         },
         {
          "ann_aggreement": 1,
          "index": "1180025862_object"
         },
         {
          "ann_aggreement": 0.3333333333333333,
          "index": "1180026022_object"
         },
         {
          "ann_aggreement": 0.3333333333333333,
          "index": "1180026069_object"
         },
         {
          "ann_aggreement": 0.3333333333333333,
          "index": "1180026196_object"
         },
         {
          "ann_aggreement": 0.3333333333333333,
          "index": "1180026217_object"
         },
         {
          "ann_aggreement": 0.3333333333333333,
          "index": "1180026377_object"
         },
         {
          "ann_aggreement": 1,
          "index": "1180026425_object"
         },
         {
          "ann_aggreement": 0.3333333333333333,
          "index": "1180026534_object"
         },
         {
          "ann_aggreement": 0.3333333333333333,
          "index": "1180026645_object"
         },
         {
          "ann_aggreement": 1,
          "index": "1180026696_object"
         },
         {
          "ann_aggreement": 0,
          "index": "1180026744_object"
         },
         {
          "ann_aggreement": 0.3333333333333333,
          "index": "1180026745_object"
         },
         {
          "ann_aggreement": 0,
          "index": "1180026878_object"
         },
         {
          "ann_aggreement": 1,
          "index": "1180026933_object"
         },
         {
          "ann_aggreement": 0.3333333333333333,
          "index": "1180027253_object"
         },
         {
          "ann_aggreement": 1,
          "index": "1180027352_object"
         },
         {
          "ann_aggreement": 0,
          "index": "1180027531_object"
         },
         {
          "ann_aggreement": 0.3333333333333333,
          "index": "1180027684_object"
         },
         {
          "ann_aggreement": 1,
          "index": "1180027731_object"
         },
         {
          "ann_aggreement": 1,
          "index": "1180027874_object"
         },
         {
          "ann_aggreement": 1,
          "index": "1180027909_object"
         },
         {
          "ann_aggreement": 0,
          "index": "1180027996_object"
         },
         {
          "ann_aggreement": 0.3333333333333333,
          "index": "1180028202_object"
         },
         {
          "ann_aggreement": 0,
          "index": "1180028240_object"
         },
         {
          "ann_aggreement": 0,
          "index": "1180028348_object"
         },
         {
          "ann_aggreement": 0,
          "index": "1180028422_object"
         },
         {
          "ann_aggreement": 0.3333333333333333,
          "index": "1180028492_object"
         },
         {
          "ann_aggreement": 0.3333333333333333,
          "index": "1180028516_object"
         },
         {
          "ann_aggreement": 0,
          "index": "1180028547_object"
         },
         {
          "ann_aggreement": 0.6666666666666666,
          "index": "1180028644_object"
         },
         {
          "ann_aggreement": 0.6666666666666666,
          "index": "1180029041_object"
         },
         {
          "ann_aggreement": 0.6666666666666666,
          "index": "1180029067_object"
         },
         {
          "ann_aggreement": 0,
          "index": "1180029104_object"
         },
         {
          "ann_aggreement": 0.6666666666666666,
          "index": "1180029151_object"
         },
         {
          "ann_aggreement": 0,
          "index": "1180029171_object"
         },
         {
          "ann_aggreement": 1,
          "index": "1180029174_object"
         },
         {
          "ann_aggreement": 0,
          "index": "1180029417_object"
         },
         {
          "ann_aggreement": 0.3333333333333333,
          "index": "1180029498_object"
         },
         {
          "ann_aggreement": 0.6666666666666666,
          "index": "1180029589_object"
         },
         {
          "ann_aggreement": 1,
          "index": "1180029702_object"
         },
         {
          "ann_aggreement": 0.6666666666666666,
          "index": "1180029708_object"
         },
         {
          "ann_aggreement": 0.6666666666666666,
          "index": "1180029715_object"
         },
         {
          "ann_aggreement": 0.6666666666666666,
          "index": "1180029732_object"
         },
         {
          "ann_aggreement": 0,
          "index": "1180029791_object"
         },
         {
          "ann_aggreement": 1,
          "index": "1180029820_object"
         },
         {
          "ann_aggreement": 0,
          "index": "1180029827_object"
         },
         {
          "ann_aggreement": 0,
          "index": "1180029883_object"
         },
         {
          "ann_aggreement": 0,
          "index": "1180029999_object"
         },
         {
          "ann_aggreement": 0,
          "index": "1180030065_object"
         },
         {
          "ann_aggreement": 0.3333333333333333,
          "index": "1180030113_object"
         },
         {
          "ann_aggreement": 0.6666666666666666,
          "index": "1180030272_object"
         },
         {
          "ann_aggreement": 1,
          "index": "1180030406_object"
         },
         {
          "ann_aggreement": 0.6666666666666666,
          "index": "1180030578_object"
         },
         {
          "ann_aggreement": 1,
          "index": "1180030695_object"
         },
         {
          "ann_aggreement": 1,
          "index": "1180030716_object"
         },
         {
          "ann_aggreement": 1,
          "index": "1180030737_object"
         },
         {
          "ann_aggreement": 0.6666666666666666,
          "index": "1180030769_object"
         },
         {
          "ann_aggreement": 1,
          "index": "1180030928_object"
         },
         {
          "ann_aggreement": 1,
          "index": "1180030940_object"
         },
         {
          "ann_aggreement": 1,
          "index": "1180030978_object"
         },
         {
          "ann_aggreement": 0.3333333333333333,
          "index": "1180031301_object"
         },
         {
          "ann_aggreement": 1,
          "index": "1180031426_object"
         },
         {
          "ann_aggreement": 0.6666666666666666,
          "index": "1180031804_object"
         },
         {
          "ann_aggreement": 1,
          "index": "1180031837_object"
         },
         {
          "ann_aggreement": 1,
          "index": "1180031862_object"
         },
         {
          "ann_aggreement": 0.6666666666666666,
          "index": "1180031886_object"
         },
         {
          "ann_aggreement": 0,
          "index": "1180031889_object"
         },
         {
          "ann_aggreement": 1,
          "index": "1180032127_object"
         },
         {
          "ann_aggreement": 0.3333333333333333,
          "index": "1180032133_object"
         },
         {
          "ann_aggreement": 1,
          "index": "1180032147_object"
         },
         {
          "ann_aggreement": 0.6666666666666666,
          "index": "1180032152_object"
         },
         {
          "ann_aggreement": 1,
          "index": "1180032244_object"
         },
         {
          "ann_aggreement": 0.3333333333333333,
          "index": "1180032356_object"
         },
         {
          "ann_aggreement": 1,
          "index": "1180032411_object"
         },
         {
          "ann_aggreement": 0,
          "index": "1180032529_object"
         },
         {
          "ann_aggreement": 1,
          "index": "1180032531_object"
         },
         {
          "ann_aggreement": 0,
          "index": "1180032674_object"
         },
         {
          "ann_aggreement": 0.6666666666666666,
          "index": "1180032710_object"
         },
         {
          "ann_aggreement": 0.6666666666666666,
          "index": "1180032995_object"
         },
         {
          "ann_aggreement": 0.6666666666666666,
          "index": "1180033203_object"
         },
         {
          "ann_aggreement": 0,
          "index": "1180033242_object"
         },
         {
          "ann_aggreement": 0.3333333333333333,
          "index": "1180033258_object"
         },
         {
          "ann_aggreement": 0.3333333333333333,
          "index": "1180033529_object"
         },
         {
          "ann_aggreement": 0,
          "index": "1180033576_object"
         },
         {
          "ann_aggreement": 1,
          "index": "1180033625_object"
         },
         {
          "ann_aggreement": 0.6666666666666666,
          "index": "1180033641_object"
         },
         {
          "ann_aggreement": 1,
          "index": "1180033791_object"
         },
         {
          "ann_aggreement": 0,
          "index": "1180033798_object"
         },
         {
          "ann_aggreement": 0.3333333333333333,
          "index": "1180033959_object"
         },
         {
          "ann_aggreement": 0.3333333333333333,
          "index": "1180034030_object"
         },
         {
          "ann_aggreement": 0.3333333333333333,
          "index": "1180034052_object"
         },
         {
          "ann_aggreement": 0,
          "index": "1180034091_object"
         },
         {
          "ann_aggreement": 1,
          "index": "1180034103_object"
         },
         {
          "ann_aggreement": 0.6666666666666666,
          "index": "1180034119_object"
         },
         {
          "ann_aggreement": 0,
          "index": "1180034138_object"
         },
         {
          "ann_aggreement": 0.3333333333333333,
          "index": "1180034205_object"
         },
         {
          "ann_aggreement": 0.3333333333333333,
          "index": "1180034315_object"
         },
         {
          "ann_aggreement": 1,
          "index": "1180034340_object"
         },
         {
          "ann_aggreement": 1,
          "index": "1180034542_object"
         },
         {
          "ann_aggreement": 0.6666666666666666,
          "index": "1180034612_object"
         },
         {
          "ann_aggreement": 0.3333333333333333,
          "index": "1180034680_object"
         },
         {
          "ann_aggreement": 0.3333333333333333,
          "index": "1180034807_object"
         },
         {
          "ann_aggreement": 1,
          "index": "1180034832_object"
         },
         {
          "ann_aggreement": 0.6666666666666666,
          "index": "1180034852_object"
         },
         {
          "ann_aggreement": 0.3333333333333333,
          "index": "1180034921_object"
         },
         {
          "ann_aggreement": 0.3333333333333333,
          "index": "1180034977_object"
         },
         {
          "ann_aggreement": 0,
          "index": "1180035047_object"
         },
         {
          "ann_aggreement": 0.6666666666666666,
          "index": "1180035112_object"
         },
         {
          "ann_aggreement": 0,
          "index": "1180035415_object"
         },
         {
          "ann_aggreement": 0.3333333333333333,
          "index": "1180035443_object"
         },
         {
          "ann_aggreement": 0.3333333333333333,
          "index": "1180035578_object"
         },
         {
          "ann_aggreement": 1,
          "index": "1180035697_object"
         },
         {
          "ann_aggreement": 0,
          "index": "1180035809_object"
         },
         {
          "ann_aggreement": 0,
          "index": "1180035848_object"
         },
         {
          "ann_aggreement": 1,
          "index": "1180035959_object"
         },
         {
          "ann_aggreement": 0.6666666666666666,
          "index": "1180036075_object"
         },
         {
          "ann_aggreement": 1,
          "index": "1180036155_object"
         },
         {
          "ann_aggreement": 1,
          "index": "1180036231_object"
         },
         {
          "ann_aggreement": 1,
          "index": "1180036342_object"
         },
         {
          "ann_aggreement": 0,
          "index": "1180036369_object"
         },
         {
          "ann_aggreement": 0.6666666666666666,
          "index": "1180036448_object"
         },
         {
          "ann_aggreement": 0.3333333333333333,
          "index": "1180036518_object"
         },
         {
          "ann_aggreement": 1,
          "index": "1180036580_object"
         },
         {
          "ann_aggreement": 1,
          "index": "1180036626_object"
         },
         {
          "ann_aggreement": 1,
          "index": "1180036655_object"
         },
         {
          "ann_aggreement": 0.6666666666666666,
          "index": "1180036682_object"
         },
         {
          "ann_aggreement": 0.3333333333333333,
          "index": "1180036683_object"
         },
         {
          "ann_aggreement": 1,
          "index": "1180036720_object"
         },
         {
          "ann_aggreement": 0.6666666666666666,
          "index": "1180036731_object"
         },
         {
          "ann_aggreement": 0.6666666666666666,
          "index": "1180036929_object"
         },
         {
          "ann_aggreement": 1,
          "index": "1180037074_object"
         },
         {
          "ann_aggreement": 0.3333333333333333,
          "index": "1180037130_object"
         },
         {
          "ann_aggreement": 1,
          "index": "1180037207_object"
         },
         {
          "ann_aggreement": 0.3333333333333333,
          "index": "1180037236_object"
         },
         {
          "ann_aggreement": 0.6666666666666666,
          "index": "1180037392_object"
         },
         {
          "ann_aggreement": 1,
          "index": "1180037400_object"
         },
         {
          "ann_aggreement": 0,
          "index": "1180037533_object"
         },
         {
          "ann_aggreement": 0.3333333333333333,
          "index": "1180037667_object"
         },
         {
          "ann_aggreement": 0.3333333333333333,
          "index": "1180037804_object"
         },
         {
          "ann_aggreement": 0.3333333333333333,
          "index": "1180037978_object"
         },
         {
          "ann_aggreement": 1,
          "index": "1180037995_object"
         },
         {
          "ann_aggreement": 0.3333333333333333,
          "index": "1180038039_object"
         },
         {
          "ann_aggreement": 1,
          "index": "1180038343_object"
         },
         {
          "ann_aggreement": 0.3333333333333333,
          "index": "1180038700_object"
         },
         {
          "ann_aggreement": 0.6666666666666666,
          "index": "1180038862_object"
         },
         {
          "ann_aggreement": 0,
          "index": "1180038906_object"
         },
         {
          "ann_aggreement": 1,
          "index": "1180038972_object"
         },
         {
          "ann_aggreement": 0,
          "index": "1180039042_object"
         },
         {
          "ann_aggreement": 0.3333333333333333,
          "index": "1180039115_object"
         },
         {
          "ann_aggreement": 1,
          "index": "1180039319_object"
         },
         {
          "ann_aggreement": 0.3333333333333333,
          "index": "1180039410_object"
         },
         {
          "ann_aggreement": 0.6666666666666666,
          "index": "1180039413_object"
         },
         {
          "ann_aggreement": 0,
          "index": "1180039427_object"
         },
         {
          "ann_aggreement": 1,
          "index": "1180039466_object"
         },
         {
          "ann_aggreement": 0.3333333333333333,
          "index": "1180039640_object"
         },
         {
          "ann_aggreement": 0.6666666666666666,
          "index": "1180039670_object"
         },
         {
          "ann_aggreement": 1,
          "index": "1180039699_object"
         },
         {
          "ann_aggreement": 0,
          "index": "1180039708_object"
         },
         {
          "ann_aggreement": 0.3333333333333333,
          "index": "1180039790_object"
         },
         {
          "ann_aggreement": 0.6666666666666666,
          "index": "1180039900_object"
         },
         {
          "ann_aggreement": 1,
          "index": "1180040009_object"
         },
         {
          "ann_aggreement": 0.6666666666666666,
          "index": "1180040080_object"
         },
         {
          "ann_aggreement": 1,
          "index": "1180040135_object"
         },
         {
          "ann_aggreement": 0.6666666666666666,
          "index": "1180040232_object"
         },
         {
          "ann_aggreement": 0,
          "index": "1180040261_object"
         },
         {
          "ann_aggreement": 0,
          "index": "1180040338_object"
         },
         {
          "ann_aggreement": 0.6666666666666666,
          "index": "1180040346_object"
         },
         {
          "ann_aggreement": 0.3333333333333333,
          "index": "1180040425_object"
         },
         {
          "ann_aggreement": 0,
          "index": "1180040451_object"
         },
         {
          "ann_aggreement": 0.6666666666666666,
          "index": "1180040497_object"
         },
         {
          "ann_aggreement": 0.3333333333333333,
          "index": "1180040544_object"
         },
         {
          "ann_aggreement": 1,
          "index": "1180040549_object"
         },
         {
          "ann_aggreement": 1,
          "index": "1180040807_object"
         },
         {
          "ann_aggreement": 0.6666666666666666,
          "index": "1180040989_object"
         },
         {
          "ann_aggreement": 1,
          "index": "1180041027_object"
         },
         {
          "ann_aggreement": 0,
          "index": "1180041281_object"
         },
         {
          "ann_aggreement": 0.6666666666666666,
          "index": "1180041643_object"
         },
         {
          "ann_aggreement": 0.3333333333333333,
          "index": "1180041670_object"
         },
         {
          "ann_aggreement": 1,
          "index": "1180041679_object"
         },
         {
          "ann_aggreement": 0.6666666666666666,
          "index": "1180041705_object"
         },
         {
          "ann_aggreement": 1,
          "index": "1180041827_object"
         },
         {
          "ann_aggreement": 0.3333333333333333,
          "index": "1180041972_object"
         },
         {
          "ann_aggreement": 0,
          "index": "1180042035_object"
         },
         {
          "ann_aggreement": 1,
          "index": "1180042143_object"
         },
         {
          "ann_aggreement": 1,
          "index": "1180042168_object"
         },
         {
          "ann_aggreement": 0.3333333333333333,
          "index": "1180042302_object"
         },
         {
          "ann_aggreement": 0,
          "index": "1180042311_object"
         },
         {
          "ann_aggreement": 1,
          "index": "1180042600_object"
         },
         {
          "ann_aggreement": 1,
          "index": "1180042606_object"
         },
         {
          "ann_aggreement": 1,
          "index": "1180042734_object"
         },
         {
          "ann_aggreement": 1,
          "index": "1180042801_object"
         },
         {
          "ann_aggreement": 0,
          "index": "1180042818_object"
         },
         {
          "ann_aggreement": 0.6666666666666666,
          "index": "1180042840_object"
         },
         {
          "ann_aggreement": 1,
          "index": "1180042933_object"
         },
         {
          "ann_aggreement": 0.3333333333333333,
          "index": "1180043100_object"
         },
         {
          "ann_aggreement": 1,
          "index": "1180043157_object"
         },
         {
          "ann_aggreement": 1,
          "index": "1180043183_object"
         },
         {
          "ann_aggreement": 0,
          "index": "1180043411_object"
         },
         {
          "ann_aggreement": 0,
          "index": "1180043612_object"
         },
         {
          "ann_aggreement": 1,
          "index": "1180043662_object"
         },
         {
          "ann_aggreement": 0.6666666666666666,
          "index": "1180043722_object"
         },
         {
          "ann_aggreement": 0.3333333333333333,
          "index": "1180043751_object"
         },
         {
          "ann_aggreement": 0,
          "index": "1180043806_object"
         },
         {
          "ann_aggreement": 0.6666666666666666,
          "index": "1180043868_object"
         },
         {
          "ann_aggreement": 0.6666666666666666,
          "index": "1180043913_object"
         },
         {
          "ann_aggreement": 0.3333333333333333,
          "index": "1180043968_object"
         },
         {
          "ann_aggreement": 0.6666666666666666,
          "index": "1180044207_object"
         },
         {
          "ann_aggreement": 0,
          "index": "1180044222_object"
         },
         {
          "ann_aggreement": 1,
          "index": "1180044316_object"
         },
         {
          "ann_aggreement": 0.6666666666666666,
          "index": "1180044372_object"
         },
         {
          "ann_aggreement": 1,
          "index": "1180044435_object"
         },
         {
          "ann_aggreement": 0.3333333333333333,
          "index": "1180044537_object"
         },
         {
          "ann_aggreement": 1,
          "index": "1180044538_object"
         },
         {
          "ann_aggreement": 0,
          "index": "1180044559_object"
         },
         {
          "ann_aggreement": 0.3333333333333333,
          "index": "1180044582_object"
         },
         {
          "ann_aggreement": 0.6666666666666666,
          "index": "1180044625_object"
         },
         {
          "ann_aggreement": 0.3333333333333333,
          "index": "1180044654_object"
         },
         {
          "ann_aggreement": 0,
          "index": "1180044702_object"
         },
         {
          "ann_aggreement": 1,
          "index": "1180044746_object"
         },
         {
          "ann_aggreement": 0.3333333333333333,
          "index": "1180044800_object"
         },
         {
          "ann_aggreement": 0.3333333333333333,
          "index": "1180044966_object"
         },
         {
          "ann_aggreement": 0,
          "index": "1180044985_object"
         },
         {
          "ann_aggreement": 0,
          "index": "1180045096_object"
         },
         {
          "ann_aggreement": 1,
          "index": "1180045178_object"
         },
         {
          "ann_aggreement": 0.6666666666666666,
          "index": "1180045249_object"
         },
         {
          "ann_aggreement": 0.3333333333333333,
          "index": "1180045453_object"
         },
         {
          "ann_aggreement": 1,
          "index": "1180045569_object"
         },
         {
          "ann_aggreement": 0,
          "index": "1180045604_object"
         },
         {
          "ann_aggreement": 1,
          "index": "1180045874_object"
         },
         {
          "ann_aggreement": 0.6666666666666666,
          "index": "1180045934_object"
         },
         {
          "ann_aggreement": 0.6666666666666666,
          "index": "1180045942_object"
         },
         {
          "ann_aggreement": 0.3333333333333333,
          "index": "1180046262_object"
         },
         {
          "ann_aggreement": 0,
          "index": "1180046460_object"
         },
         {
          "ann_aggreement": 1,
          "index": "1180046464_object"
         },
         {
          "ann_aggreement": 0,
          "index": "1180046473_object"
         },
         {
          "ann_aggreement": 0.6666666666666666,
          "index": "1180046559_object"
         },
         {
          "ann_aggreement": 1,
          "index": "1180046848_object"
         },
         {
          "ann_aggreement": 1,
          "index": "1180046851_object"
         },
         {
          "ann_aggreement": 1,
          "index": "1180046856_object"
         },
         {
          "ann_aggreement": 0.6666666666666666,
          "index": "1180046878_object"
         },
         {
          "ann_aggreement": 1,
          "index": "1180046889_object"
         },
         {
          "ann_aggreement": 0,
          "index": "1180046925_object"
         },
         {
          "ann_aggreement": 0.6666666666666666,
          "index": "1180046958_object"
         },
         {
          "ann_aggreement": 1,
          "index": "1180046993_object"
         },
         {
          "ann_aggreement": 1,
          "index": "1180047102_object"
         },
         {
          "ann_aggreement": 0.6666666666666666,
          "index": "1180047164_object"
         },
         {
          "ann_aggreement": 0.6666666666666666,
          "index": "1180047217_object"
         },
         {
          "ann_aggreement": 0.3333333333333333,
          "index": "1180047253_object"
         },
         {
          "ann_aggreement": 0.3333333333333333,
          "index": "1180047279_object"
         },
         {
          "ann_aggreement": 0.3333333333333333,
          "index": "1180047294_object"
         },
         {
          "ann_aggreement": 0.6666666666666666,
          "index": "1180047459_object"
         },
         {
          "ann_aggreement": 0,
          "index": "1180047511_object"
         },
         {
          "ann_aggreement": 0.6666666666666666,
          "index": "1180047516_object"
         },
         {
          "ann_aggreement": 1,
          "index": "1180047544_object"
         },
         {
          "ann_aggreement": 1,
          "index": "1180047622_object"
         },
         {
          "ann_aggreement": 1,
          "index": "1180047763_object"
         },
         {
          "ann_aggreement": 0.3333333333333333,
          "index": "1180047870_object"
         },
         {
          "ann_aggreement": 0.3333333333333333,
          "index": "1180047910_object"
         },
         {
          "ann_aggreement": 0.3333333333333333,
          "index": "1180047949_object"
         },
         {
          "ann_aggreement": 0,
          "index": "1180048180_object"
         },
         {
          "ann_aggreement": 1,
          "index": "1180048262_object"
         },
         {
          "ann_aggreement": 0,
          "index": "1180048291_object"
         },
         {
          "ann_aggreement": 0.6666666666666666,
          "index": "1180048355_object"
         },
         {
          "ann_aggreement": 1,
          "index": "1180048443_object"
         },
         {
          "ann_aggreement": 1,
          "index": "1180048482_object"
         },
         {
          "ann_aggreement": 0.3333333333333333,
          "index": "1180048696_object"
         },
         {
          "ann_aggreement": 0,
          "index": "1180049084_object"
         },
         {
          "ann_aggreement": 0.6666666666666666,
          "index": "1180049107_object"
         },
         {
          "ann_aggreement": 0.3333333333333333,
          "index": "1180049111_object"
         },
         {
          "ann_aggreement": 1,
          "index": "1180049347_object"
         },
         {
          "ann_aggreement": 0,
          "index": "1180049380_object"
         },
         {
          "ann_aggreement": 0.3333333333333333,
          "index": "1180049422_object"
         },
         {
          "ann_aggreement": 1,
          "index": "1180049449_object"
         },
         {
          "ann_aggreement": 0.3333333333333333,
          "index": "1180049506_object"
         },
         {
          "ann_aggreement": 0.3333333333333333,
          "index": "1180049512_object"
         },
         {
          "ann_aggreement": 1,
          "index": "1180049727_object"
         },
         {
          "ann_aggreement": 0,
          "index": "1180049805_object"
         },
         {
          "ann_aggreement": 0,
          "index": "1180049860_object"
         },
         {
          "ann_aggreement": 0,
          "index": "1180049867_object"
         },
         {
          "ann_aggreement": 0,
          "index": "1180050006_object"
         },
         {
          "ann_aggreement": 1,
          "index": "1180050009_object"
         },
         {
          "ann_aggreement": 0,
          "index": "1180050050_object"
         },
         {
          "ann_aggreement": 0,
          "index": "1180050135_object"
         },
         {
          "ann_aggreement": 0.3333333333333333,
          "index": "1180050227_object"
         },
         {
          "ann_aggreement": 1,
          "index": "1180050259_object"
         },
         {
          "ann_aggreement": 1,
          "index": "1180050325_object"
         },
         {
          "ann_aggreement": 0,
          "index": "1180050414_object"
         },
         {
          "ann_aggreement": 1,
          "index": "1180050433_object"
         },
         {
          "ann_aggreement": 1,
          "index": "1180050541_object"
         },
         {
          "ann_aggreement": 0.3333333333333333,
          "index": "1180050560_object"
         },
         {
          "ann_aggreement": 0.3333333333333333,
          "index": "1180050572_object"
         },
         {
          "ann_aggreement": 0.6666666666666666,
          "index": "1180050724_object"
         },
         {
          "ann_aggreement": 0.3333333333333333,
          "index": "1180050813_object"
         },
         {
          "ann_aggreement": 0.6666666666666666,
          "index": "1180050891_object"
         },
         {
          "ann_aggreement": 0,
          "index": "1180050925_object"
         },
         {
          "ann_aggreement": 1,
          "index": "1180051048_object"
         },
         {
          "ann_aggreement": 0.6666666666666666,
          "index": "1180051064_object"
         },
         {
          "ann_aggreement": 0.6666666666666666,
          "index": "1180051139_object"
         },
         {
          "ann_aggreement": 1,
          "index": "1180051223_object"
         },
         {
          "ann_aggreement": 0.6666666666666666,
          "index": "1180051336_object"
         },
         {
          "ann_aggreement": 0,
          "index": "1180051359_object"
         },
         {
          "ann_aggreement": 0.3333333333333333,
          "index": "1180051487_object"
         },
         {
          "ann_aggreement": 0.3333333333333333,
          "index": "1180051505_object"
         },
         {
          "ann_aggreement": 0.6666666666666666,
          "index": "1180051615_object"
         },
         {
          "ann_aggreement": 1,
          "index": "1180051623_object"
         },
         {
          "ann_aggreement": 1,
          "index": "1180051628_object"
         },
         {
          "ann_aggreement": 0.6666666666666666,
          "index": "1180051740_object"
         },
         {
          "ann_aggreement": 0,
          "index": "1180051781_object"
         },
         {
          "ann_aggreement": 1,
          "index": "1180051783_object"
         },
         {
          "ann_aggreement": 0.6666666666666666,
          "index": "1180051853_object"
         },
         {
          "ann_aggreement": 0.3333333333333333,
          "index": "1180051890_object"
         },
         {
          "ann_aggreement": 1,
          "index": "1180051925_object"
         },
         {
          "ann_aggreement": 0.3333333333333333,
          "index": "1180051932_object"
         },
         {
          "ann_aggreement": 0,
          "index": "1180051962_object"
         },
         {
          "ann_aggreement": 1,
          "index": "1180052089_object"
         },
         {
          "ann_aggreement": 0.6666666666666666,
          "index": "1180052102_object"
         },
         {
          "ann_aggreement": 1,
          "index": "1180052110_object"
         },
         {
          "ann_aggreement": 0,
          "index": "1180052175_object"
         },
         {
          "ann_aggreement": 1,
          "index": "1180052178_object"
         },
         {
          "ann_aggreement": 1,
          "index": "1180052323_object"
         },
         {
          "ann_aggreement": 0.3333333333333333,
          "index": "1180052326_object"
         },
         {
          "ann_aggreement": 0.6666666666666666,
          "index": "1180052375_object"
         },
         {
          "ann_aggreement": 0.6666666666666666,
          "index": "1180052412_object"
         },
         {
          "ann_aggreement": 0.3333333333333333,
          "index": "1180052497_object"
         },
         {
          "ann_aggreement": 0,
          "index": "1180052618_object"
         },
         {
          "ann_aggreement": 0.6666666666666666,
          "index": "1180052653_object"
         },
         {
          "ann_aggreement": 1,
          "index": "1180052702_object"
         },
         {
          "ann_aggreement": 1,
          "index": "1180052726_object"
         },
         {
          "ann_aggreement": 1,
          "index": "1180052733_object"
         },
         {
          "ann_aggreement": 1,
          "index": "1180052759_object"
         },
         {
          "ann_aggreement": 0.6666666666666666,
          "index": "1180052801_object"
         },
         {
          "ann_aggreement": 0.6666666666666666,
          "index": "1180052819_object"
         },
         {
          "ann_aggreement": 1,
          "index": "1180052854_object"
         },
         {
          "ann_aggreement": 1,
          "index": "1180052991_object"
         },
         {
          "ann_aggreement": 0.6666666666666666,
          "index": "1180053063_object"
         },
         {
          "ann_aggreement": 1,
          "index": "1180053456_object"
         },
         {
          "ann_aggreement": 0.6666666666666666,
          "index": "1180053627_object"
         },
         {
          "ann_aggreement": 0.6666666666666666,
          "index": "1180053774_object"
         },
         {
          "ann_aggreement": 0.6666666666666666,
          "index": "1180053827_object"
         },
         {
          "ann_aggreement": 0,
          "index": "1180053893_object"
         },
         {
          "ann_aggreement": 1,
          "index": "1180053920_object"
         },
         {
          "ann_aggreement": 0,
          "index": "1180054349_object"
         },
         {
          "ann_aggreement": 1,
          "index": "1180054362_object"
         },
         {
          "ann_aggreement": 1,
          "index": "1180054422_object"
         },
         {
          "ann_aggreement": 0.3333333333333333,
          "index": "1180054446_object"
         },
         {
          "ann_aggreement": 1,
          "index": "1180054486_object"
         },
         {
          "ann_aggreement": 0,
          "index": "1180054532_object"
         },
         {
          "ann_aggreement": 0.3333333333333333,
          "index": "1180054611_object"
         },
         {
          "ann_aggreement": 0.3333333333333333,
          "index": "1180054667_object"
         },
         {
          "ann_aggreement": 0,
          "index": "1180054822_object"
         },
         {
          "ann_aggreement": 0.3333333333333333,
          "index": "1180054846_object"
         },
         {
          "ann_aggreement": 0.3333333333333333,
          "index": "1180054917_object"
         },
         {
          "ann_aggreement": 0.6666666666666666,
          "index": "1180054935_object"
         },
         {
          "ann_aggreement": 0.6666666666666666,
          "index": "1180055272_object"
         },
         {
          "ann_aggreement": 1,
          "index": "1180055366_object"
         },
         {
          "ann_aggreement": 1,
          "index": "1180055428_object"
         },
         {
          "ann_aggreement": 0,
          "index": "1180055540_object"
         },
         {
          "ann_aggreement": 0.6666666666666666,
          "index": "1180055564_object"
         },
         {
          "ann_aggreement": 0.6666666666666666,
          "index": "1180055915_object"
         },
         {
          "ann_aggreement": 0,
          "index": "1180055980_object"
         },
         {
          "ann_aggreement": 0.6666666666666666,
          "index": "1180056244_object"
         },
         {
          "ann_aggreement": 0.3333333333333333,
          "index": "1180056268_object"
         },
         {
          "ann_aggreement": 0.6666666666666666,
          "index": "1180056271_object"
         },
         {
          "ann_aggreement": 0.6666666666666666,
          "index": "1180056422_object"
         },
         {
          "ann_aggreement": 1,
          "index": "1180056447_object"
         },
         {
          "ann_aggreement": 0.6666666666666666,
          "index": "1180056582_object"
         },
         {
          "ann_aggreement": 0,
          "index": "1180056640_object"
         },
         {
          "ann_aggreement": 1,
          "index": "1180056720_object"
         },
         {
          "ann_aggreement": 0.6666666666666666,
          "index": "1180056777_object"
         },
         {
          "ann_aggreement": 0.6666666666666666,
          "index": "1180056819_object"
         },
         {
          "ann_aggreement": 0.6666666666666666,
          "index": "1180056900_object"
         },
         {
          "ann_aggreement": 0.3333333333333333,
          "index": "1180056929_object"
         },
         {
          "ann_aggreement": 0.3333333333333333,
          "index": "1180056982_object"
         },
         {
          "ann_aggreement": 1,
          "index": "1180057010_object"
         },
         {
          "ann_aggreement": 1,
          "index": "1180057011_object"
         },
         {
          "ann_aggreement": 0.6666666666666666,
          "index": "1180057062_object"
         },
         {
          "ann_aggreement": 0,
          "index": "1180057067_object"
         },
         {
          "ann_aggreement": 0.6666666666666666,
          "index": "1180057158_object"
         },
         {
          "ann_aggreement": 0.3333333333333333,
          "index": "1180057249_object"
         },
         {
          "ann_aggreement": 1,
          "index": "1180057251_object"
         },
         {
          "ann_aggreement": 0.6666666666666666,
          "index": "1180057345_object"
         },
         {
          "ann_aggreement": 0.3333333333333333,
          "index": "1180057486_object"
         },
         {
          "ann_aggreement": 1,
          "index": "1180057578_object"
         },
         {
          "ann_aggreement": 0,
          "index": "1180057580_object"
         },
         {
          "ann_aggreement": 0.6666666666666666,
          "index": "1180057587_object"
         },
         {
          "ann_aggreement": 1,
          "index": "1180057617_object"
         },
         {
          "ann_aggreement": 0,
          "index": "1180057630_object"
         },
         {
          "ann_aggreement": 1,
          "index": "1180057631_object"
         },
         {
          "ann_aggreement": 0,
          "index": "1180057790_object"
         },
         {
          "ann_aggreement": 1,
          "index": "1180057910_object"
         },
         {
          "ann_aggreement": 0.6666666666666666,
          "index": "1180058092_object"
         },
         {
          "ann_aggreement": 0,
          "index": "1180058232_object"
         },
         {
          "ann_aggreement": 0.3333333333333333,
          "index": "1180058649_object"
         },
         {
          "ann_aggreement": 0.6666666666666666,
          "index": "1180058810_object"
         },
         {
          "ann_aggreement": 0.3333333333333333,
          "index": "1180058867_object"
         },
         {
          "ann_aggreement": 0.6666666666666666,
          "index": "1180058900_object"
         },
         {
          "ann_aggreement": 0.6666666666666666,
          "index": "1180058904_object"
         },
         {
          "ann_aggreement": 0.6666666666666666,
          "index": "1180058952_object"
         },
         {
          "ann_aggreement": 0.3333333333333333,
          "index": "1180058987_object"
         },
         {
          "ann_aggreement": 0.6666666666666666,
          "index": "1180059015_object"
         },
         {
          "ann_aggreement": 1,
          "index": "1180059017_object"
         },
         {
          "ann_aggreement": 0,
          "index": "1180059029_object"
         },
         {
          "ann_aggreement": 0.6666666666666666,
          "index": "1180059097_object"
         },
         {
          "ann_aggreement": 0.6666666666666666,
          "index": "1180059120_object"
         },
         {
          "ann_aggreement": 0.6666666666666666,
          "index": "1180059199_object"
         },
         {
          "ann_aggreement": 1,
          "index": "1180059240_object"
         },
         {
          "ann_aggreement": 0.3333333333333333,
          "index": "1180059299_object"
         },
         {
          "ann_aggreement": 1,
          "index": "1180059315_object"
         },
         {
          "ann_aggreement": 0.3333333333333333,
          "index": "1180059325_object"
         },
         {
          "ann_aggreement": 0,
          "index": "1180059397_object"
         },
         {
          "ann_aggreement": 0.6666666666666666,
          "index": "1180059433_object"
         },
         {
          "ann_aggreement": 0,
          "index": "1180059473_object"
         },
         {
          "ann_aggreement": 1,
          "index": "1180059595_object"
         },
         {
          "ann_aggreement": 0.3333333333333333,
          "index": "1180059648_object"
         },
         {
          "ann_aggreement": 0.6666666666666666,
          "index": "1180059838_object"
         },
         {
          "ann_aggreement": 0.3333333333333333,
          "index": "1180059983_object"
         },
         {
          "ann_aggreement": 1,
          "index": "1180060169_object"
         },
         {
          "ann_aggreement": 1,
          "index": "1180060267_object"
         },
         {
          "ann_aggreement": 1,
          "index": "1180060295_object"
         },
         {
          "ann_aggreement": 0.6666666666666666,
          "index": "1180060324_object"
         },
         {
          "ann_aggreement": 0.3333333333333333,
          "index": "1180060489_object"
         },
         {
          "ann_aggreement": 1,
          "index": "1180060498_object"
         },
         {
          "ann_aggreement": 0.3333333333333333,
          "index": "1180060504_object"
         },
         {
          "ann_aggreement": 0.6666666666666666,
          "index": "1180060525_object"
         },
         {
          "ann_aggreement": 1,
          "index": "1180060551_object"
         },
         {
          "ann_aggreement": 0.3333333333333333,
          "index": "1180060557_object"
         },
         {
          "ann_aggreement": 1,
          "index": "1180060560_object"
         },
         {
          "ann_aggreement": 0.6666666666666666,
          "index": "1180060589_object"
         },
         {
          "ann_aggreement": 0.3333333333333333,
          "index": "1180060674_object"
         },
         {
          "ann_aggreement": 0.6666666666666666,
          "index": "1180060715_object"
         },
         {
          "ann_aggreement": 0,
          "index": "1180060722_object"
         },
         {
          "ann_aggreement": 0,
          "index": "1180060821_object"
         },
         {
          "ann_aggreement": 1,
          "index": "1180060967_object"
         },
         {
          "ann_aggreement": 0.6666666666666666,
          "index": "1180061097_object"
         },
         {
          "ann_aggreement": 1,
          "index": "1180061210_object"
         },
         {
          "ann_aggreement": 1,
          "index": "1180061220_object"
         },
         {
          "ann_aggreement": 0.6666666666666666,
          "index": "1180061363_object"
         },
         {
          "ann_aggreement": 1,
          "index": "1180061418_object"
         },
         {
          "ann_aggreement": 1,
          "index": "1180061631_object"
         },
         {
          "ann_aggreement": 1,
          "index": "1180061771_object"
         },
         {
          "ann_aggreement": 0.3333333333333333,
          "index": "1180061856_object"
         },
         {
          "ann_aggreement": 1,
          "index": "1180062062_object"
         },
         {
          "ann_aggreement": 0.6666666666666666,
          "index": "1180062169_object"
         },
         {
          "ann_aggreement": 0,
          "index": "1180062177_object"
         },
         {
          "ann_aggreement": 1,
          "index": "1180062263_object"
         },
         {
          "ann_aggreement": 0.3333333333333333,
          "index": "1180062360_object"
         },
         {
          "ann_aggreement": 0.6666666666666666,
          "index": "1180062455_object"
         },
         {
          "ann_aggreement": 1,
          "index": "1180062469_object"
         },
         {
          "ann_aggreement": 0.3333333333333333,
          "index": "1180062583_object"
         },
         {
          "ann_aggreement": 0.6666666666666666,
          "index": "1180062589_object"
         },
         {
          "ann_aggreement": 0.6666666666666666,
          "index": "1180062591_object"
         },
         {
          "ann_aggreement": 0.6666666666666666,
          "index": "1180062677_object"
         },
         {
          "ann_aggreement": 1,
          "index": "1180062701_object"
         },
         {
          "ann_aggreement": 1,
          "index": "1180062863_object"
         },
         {
          "ann_aggreement": 0,
          "index": "1180062965_object"
         },
         {
          "ann_aggreement": 1,
          "index": "1180062974_object"
         },
         {
          "ann_aggreement": 0,
          "index": "1180063131_object"
         },
         {
          "ann_aggreement": 0.6666666666666666,
          "index": "1180063206_object"
         },
         {
          "ann_aggreement": 0,
          "index": "1180063358_object"
         },
         {
          "ann_aggreement": 0.3333333333333333,
          "index": "1180063377_object"
         },
         {
          "ann_aggreement": 0,
          "index": "1180063512_object"
         },
         {
          "ann_aggreement": 0.6666666666666666,
          "index": "1180063534_object"
         },
         {
          "ann_aggreement": 0.6666666666666666,
          "index": "1180063668_object"
         },
         {
          "ann_aggreement": 0,
          "index": "1180063719_object"
         },
         {
          "ann_aggreement": 1,
          "index": "1180063802_object"
         },
         {
          "ann_aggreement": 1,
          "index": "1180063957_object"
         },
         {
          "ann_aggreement": 1,
          "index": "1180063973_object"
         },
         {
          "ann_aggreement": 0.6666666666666666,
          "index": "1180064038_object"
         },
         {
          "ann_aggreement": 1,
          "index": "1180064078_object"
         },
         {
          "ann_aggreement": 1,
          "index": "1180064184_object"
         },
         {
          "ann_aggreement": 0.6666666666666666,
          "index": "1180064325_object"
         },
         {
          "ann_aggreement": 0.6666666666666666,
          "index": "1180064607_object"
         },
         {
          "ann_aggreement": 0.6666666666666666,
          "index": "1180064680_object"
         },
         {
          "ann_aggreement": 1,
          "index": "1180064734_object"
         },
         {
          "ann_aggreement": 0.3333333333333333,
          "index": "1180064934_object"
         },
         {
          "ann_aggreement": 0.6666666666666666,
          "index": "1180064954_object"
         },
         {
          "ann_aggreement": 1,
          "index": "1180065099_object"
         },
         {
          "ann_aggreement": 0,
          "index": "1180065157_object"
         },
         {
          "ann_aggreement": 0,
          "index": "1180065257_object"
         },
         {
          "ann_aggreement": 0.6666666666666666,
          "index": "1180065375_object"
         },
         {
          "ann_aggreement": 1,
          "index": "1180065422_object"
         },
         {
          "ann_aggreement": 0.6666666666666666,
          "index": "1180065560_object"
         },
         {
          "ann_aggreement": 0.3333333333333333,
          "index": "1180066036_object"
         },
         {
          "ann_aggreement": 0.6666666666666666,
          "index": "1180066063_object"
         },
         {
          "ann_aggreement": 1,
          "index": "1180066307_object"
         },
         {
          "ann_aggreement": 0.6666666666666666,
          "index": "1180066323_object"
         },
         {
          "ann_aggreement": 1,
          "index": "1180066368_object"
         },
         {
          "ann_aggreement": 1,
          "index": "1180066590_object"
         },
         {
          "ann_aggreement": 0.6666666666666666,
          "index": "1180066633_object"
         },
         {
          "ann_aggreement": 0.6666666666666666,
          "index": "1180066664_object"
         },
         {
          "ann_aggreement": 0.3333333333333333,
          "index": "1180066733_object"
         },
         {
          "ann_aggreement": 0.6666666666666666,
          "index": "1180066755_object"
         },
         {
          "ann_aggreement": 0.3333333333333333,
          "index": "1180066768_object"
         },
         {
          "ann_aggreement": 0.3333333333333333,
          "index": "1180066908_object"
         },
         {
          "ann_aggreement": 0,
          "index": "1180067110_object"
         },
         {
          "ann_aggreement": 0.3333333333333333,
          "index": "1180067308_object"
         },
         {
          "ann_aggreement": 0.6666666666666666,
          "index": "1180067355_object"
         },
         {
          "ann_aggreement": 1,
          "index": "1180067460_object"
         },
         {
          "ann_aggreement": 0.3333333333333333,
          "index": "1180067519_object"
         },
         {
          "ann_aggreement": 0.3333333333333333,
          "index": "1180067658_object"
         },
         {
          "ann_aggreement": 0.3333333333333333,
          "index": "1180067799_object"
         },
         {
          "ann_aggreement": 0.3333333333333333,
          "index": "1180067830_object"
         },
         {
          "ann_aggreement": 0,
          "index": "1180068089_object"
         },
         {
          "ann_aggreement": 0.3333333333333333,
          "index": "1180068107_object"
         },
         {
          "ann_aggreement": 0,
          "index": "1180068108_object"
         },
         {
          "ann_aggreement": 1,
          "index": "1180068183_object"
         },
         {
          "ann_aggreement": 1,
          "index": "1180068257_object"
         },
         {
          "ann_aggreement": 1,
          "index": "1180068261_object"
         },
         {
          "ann_aggreement": 0,
          "index": "1180068336_object"
         },
         {
          "ann_aggreement": 1,
          "index": "1180068478_object"
         },
         {
          "ann_aggreement": 0.6666666666666666,
          "index": "1180068545_object"
         },
         {
          "ann_aggreement": 1,
          "index": "1180068547_object"
         },
         {
          "ann_aggreement": 0.6666666666666666,
          "index": "1180068555_object"
         },
         {
          "ann_aggreement": 0.6666666666666666,
          "index": "1180068654_object"
         },
         {
          "ann_aggreement": 1,
          "index": "1180068752_object"
         },
         {
          "ann_aggreement": 0.6666666666666666,
          "index": "1180068945_object"
         },
         {
          "ann_aggreement": 0.6666666666666666,
          "index": "1180069065_object"
         },
         {
          "ann_aggreement": 1,
          "index": "1180069123_object"
         },
         {
          "ann_aggreement": 0,
          "index": "1180069138_object"
         },
         {
          "ann_aggreement": 0.3333333333333333,
          "index": "1180069140_object"
         },
         {
          "ann_aggreement": 1,
          "index": "1180069207_object"
         },
         {
          "ann_aggreement": 0,
          "index": "1180069216_object"
         },
         {
          "ann_aggreement": 1,
          "index": "1180069538_object"
         },
         {
          "ann_aggreement": 0.6666666666666666,
          "index": "1180069599_object"
         },
         {
          "ann_aggreement": 1,
          "index": "1180069677_object"
         },
         {
          "ann_aggreement": 0.3333333333333333,
          "index": "1180069739_object"
         },
         {
          "ann_aggreement": 0.3333333333333333,
          "index": "1180069795_object"
         },
         {
          "ann_aggreement": 1,
          "index": "1180069860_object"
         },
         {
          "ann_aggreement": 0.3333333333333333,
          "index": "1180069926_object"
         },
         {
          "ann_aggreement": 1,
          "index": "1180070105_object"
         },
         {
          "ann_aggreement": 0.6666666666666666,
          "index": "1180070205_object"
         },
         {
          "ann_aggreement": 0.3333333333333333,
          "index": "1180070225_object"
         },
         {
          "ann_aggreement": 0.6666666666666666,
          "index": "1180070328_object"
         },
         {
          "ann_aggreement": 1,
          "index": "1180070530_object"
         },
         {
          "ann_aggreement": 0.6666666666666666,
          "index": "1180070563_object"
         },
         {
          "ann_aggreement": 0.6666666666666666,
          "index": "1180070945_object"
         },
         {
          "ann_aggreement": 0.6666666666666666,
          "index": "1180071082_object"
         },
         {
          "ann_aggreement": 1,
          "index": "1180071296_object"
         },
         {
          "ann_aggreement": 1,
          "index": "1180071317_object"
         },
         {
          "ann_aggreement": 0.6666666666666666,
          "index": "1180071382_object"
         },
         {
          "ann_aggreement": 1,
          "index": "1180071738_object"
         },
         {
          "ann_aggreement": 0,
          "index": "1180071794_object"
         },
         {
          "ann_aggreement": 0.6666666666666666,
          "index": "1180071841_object"
         },
         {
          "ann_aggreement": 0.6666666666666666,
          "index": "1180071882_object"
         },
         {
          "ann_aggreement": 1,
          "index": "1180072116_object"
         },
         {
          "ann_aggreement": 1,
          "index": "1180072289_object"
         },
         {
          "ann_aggreement": 1,
          "index": "1180072452_object"
         },
         {
          "ann_aggreement": 1,
          "index": "1180072478_object"
         },
         {
          "ann_aggreement": 0.6666666666666666,
          "index": "1180072496_object"
         },
         {
          "ann_aggreement": 0.3333333333333333,
          "index": "1180072564_object"
         },
         {
          "ann_aggreement": 0,
          "index": "1180072573_object"
         },
         {
          "ann_aggreement": 1,
          "index": "1180072801_object"
         },
         {
          "ann_aggreement": 0.3333333333333333,
          "index": "1180072819_object"
         },
         {
          "ann_aggreement": 1,
          "index": "1180072961_object"
         },
         {
          "ann_aggreement": 1,
          "index": "1180072994_object"
         },
         {
          "ann_aggreement": 1,
          "index": "1180073025_object"
         },
         {
          "ann_aggreement": 0,
          "index": "1180073035_object"
         },
         {
          "ann_aggreement": 1,
          "index": "1180073083_object"
         },
         {
          "ann_aggreement": 1,
          "index": "1180073205_object"
         },
         {
          "ann_aggreement": 0.6666666666666666,
          "index": "1180073251_object"
         },
         {
          "ann_aggreement": 0,
          "index": "1180073305_object"
         },
         {
          "ann_aggreement": 1,
          "index": "1180073369_object"
         },
         {
          "ann_aggreement": 1,
          "index": "1180073496_object"
         },
         {
          "ann_aggreement": 1,
          "index": "1180073498_object"
         },
         {
          "ann_aggreement": 0,
          "index": "1180073563_object"
         },
         {
          "ann_aggreement": 0.3333333333333333,
          "index": "1180073879_object"
         },
         {
          "ann_aggreement": 0.6666666666666666,
          "index": "1180073957_object"
         },
         {
          "ann_aggreement": 0.6666666666666666,
          "index": "1180074008_object"
         },
         {
          "ann_aggreement": 0,
          "index": "1180074060_object"
         },
         {
          "ann_aggreement": 1,
          "index": "1180074125_object"
         },
         {
          "ann_aggreement": 1,
          "index": "1180074202_object"
         },
         {
          "ann_aggreement": 0.3333333333333333,
          "index": "1180074242_object"
         },
         {
          "ann_aggreement": 0.6666666666666666,
          "index": "1180074269_object"
         },
         {
          "ann_aggreement": 0.3333333333333333,
          "index": "1180074271_object"
         },
         {
          "ann_aggreement": 0,
          "index": "1180074285_object"
         },
         {
          "ann_aggreement": 0.6666666666666666,
          "index": "1180074410_object"
         },
         {
          "ann_aggreement": 0.3333333333333333,
          "index": "1180074443_object"
         },
         {
          "ann_aggreement": 0.3333333333333333,
          "index": "1180074474_object"
         },
         {
          "ann_aggreement": 1,
          "index": "1180074484_object"
         },
         {
          "ann_aggreement": 0.6666666666666666,
          "index": "1180074639_object"
         },
         {
          "ann_aggreement": 1,
          "index": "1180074693_object"
         },
         {
          "ann_aggreement": 0.6666666666666666,
          "index": "1180074705_object"
         },
         {
          "ann_aggreement": 0.6666666666666666,
          "index": "1180074857_object"
         },
         {
          "ann_aggreement": 1,
          "index": "1180074878_object"
         },
         {
          "ann_aggreement": 0.6666666666666666,
          "index": "1180074942_object"
         },
         {
          "ann_aggreement": 0.3333333333333333,
          "index": "1180075169_object"
         },
         {
          "ann_aggreement": 0.6666666666666666,
          "index": "1180075185_object"
         },
         {
          "ann_aggreement": 0.6666666666666666,
          "index": "1180075239_object"
         },
         {
          "ann_aggreement": 1,
          "index": "1180075243_object"
         },
         {
          "ann_aggreement": 0.6666666666666666,
          "index": "1180075338_object"
         },
         {
          "ann_aggreement": 0.6666666666666666,
          "index": "1180075362_object"
         },
         {
          "ann_aggreement": 1,
          "index": "1180075576_object"
         },
         {
          "ann_aggreement": 0.3333333333333333,
          "index": "1180075688_object"
         },
         {
          "ann_aggreement": 0.3333333333333333,
          "index": "1180075750_object"
         },
         {
          "ann_aggreement": 0,
          "index": "1180075773_object"
         },
         {
          "ann_aggreement": 1,
          "index": "1180075857_object"
         },
         {
          "ann_aggreement": 1,
          "index": "1180075893_object"
         },
         {
          "ann_aggreement": 1,
          "index": "1180075998_object"
         },
         {
          "ann_aggreement": 0.3333333333333333,
          "index": "1180076163_object"
         },
         {
          "ann_aggreement": 1,
          "index": "1180076179_object"
         },
         {
          "ann_aggreement": 0.3333333333333333,
          "index": "1180076315_object"
         },
         {
          "ann_aggreement": 0.3333333333333333,
          "index": "1180076316_object"
         },
         {
          "ann_aggreement": 1,
          "index": "1180076342_object"
         },
         {
          "ann_aggreement": 1,
          "index": "1180076505_object"
         },
         {
          "ann_aggreement": 0.3333333333333333,
          "index": "1180076512_object"
         },
         {
          "ann_aggreement": 0,
          "index": "1180076647_object"
         },
         {
          "ann_aggreement": 1,
          "index": "1180076720_object"
         },
         {
          "ann_aggreement": 1,
          "index": "1180076735_object"
         },
         {
          "ann_aggreement": 1,
          "index": "1180076844_object"
         },
         {
          "ann_aggreement": 0.3333333333333333,
          "index": "1180076956_object"
         },
         {
          "ann_aggreement": 0,
          "index": "1180077170_object"
         },
         {
          "ann_aggreement": 0.6666666666666666,
          "index": "1180077211_object"
         },
         {
          "ann_aggreement": 0,
          "index": "1180077321_object"
         },
         {
          "ann_aggreement": 1,
          "index": "1180077512_object"
         },
         {
          "ann_aggreement": 0.3333333333333333,
          "index": "1180077561_object"
         },
         {
          "ann_aggreement": 1,
          "index": "1180077600_object"
         },
         {
          "ann_aggreement": 0,
          "index": "1180077756_object"
         },
         {
          "ann_aggreement": 1,
          "index": "1180077828_object"
         },
         {
          "ann_aggreement": 0.6666666666666666,
          "index": "1180077860_object"
         },
         {
          "ann_aggreement": 1,
          "index": "1180077936_object"
         },
         {
          "ann_aggreement": 1,
          "index": "1180078079_object"
         },
         {
          "ann_aggreement": 0.6666666666666666,
          "index": "1180078101_object"
         },
         {
          "ann_aggreement": 0.3333333333333333,
          "index": "1180078131_object"
         },
         {
          "ann_aggreement": 0,
          "index": "1180078161_object"
         },
         {
          "ann_aggreement": 1,
          "index": "1180078191_object"
         },
         {
          "ann_aggreement": 0,
          "index": "1180078276_object"
         },
         {
          "ann_aggreement": 1,
          "index": "1180078462_object"
         },
         {
          "ann_aggreement": 0.6666666666666666,
          "index": "1180078578_object"
         },
         {
          "ann_aggreement": 1,
          "index": "1180078740_object"
         },
         {
          "ann_aggreement": 0,
          "index": "1180078775_object"
         },
         {
          "ann_aggreement": 0.3333333333333333,
          "index": "1180079051_object"
         },
         {
          "ann_aggreement": 0.6666666666666666,
          "index": "1180079149_object"
         },
         {
          "ann_aggreement": 0.6666666666666666,
          "index": "1180079254_object"
         },
         {
          "ann_aggreement": 0,
          "index": "1180079301_object"
         },
         {
          "ann_aggreement": 0.6666666666666666,
          "index": "1180079425_object"
         },
         {
          "ann_aggreement": 0.6666666666666666,
          "index": "1180079809_object"
         },
         {
          "ann_aggreement": 0.3333333333333333,
          "index": "1180079830_object"
         },
         {
          "ann_aggreement": 0.3333333333333333,
          "index": "1180079954_object"
         },
         {
          "ann_aggreement": 0,
          "index": "1180080020_object"
         },
         {
          "ann_aggreement": 1,
          "index": "1180080024_object"
         },
         {
          "ann_aggreement": 1,
          "index": "1180080038_object"
         },
         {
          "ann_aggreement": 0,
          "index": "1180080089_object"
         },
         {
          "ann_aggreement": 0.6666666666666666,
          "index": "1180080140_object"
         },
         {
          "ann_aggreement": 0.6666666666666666,
          "index": "1180080425_object"
         },
         {
          "ann_aggreement": 0.6666666666666666,
          "index": "1180080491_object"
         },
         {
          "ann_aggreement": 1,
          "index": "1180080499_object"
         },
         {
          "ann_aggreement": 0,
          "index": "1180080534_object"
         },
         {
          "ann_aggreement": 0.3333333333333333,
          "index": "1180080586_object"
         },
         {
          "ann_aggreement": 0.6666666666666666,
          "index": "1180080632_object"
         },
         {
          "ann_aggreement": 1,
          "index": "1180080666_object"
         },
         {
          "ann_aggreement": 0.6666666666666666,
          "index": "1180080792_object"
         },
         {
          "ann_aggreement": 1,
          "index": "1180080801_object"
         },
         {
          "ann_aggreement": 0.6666666666666666,
          "index": "1180080857_object"
         },
         {
          "ann_aggreement": 0.6666666666666666,
          "index": "1180080898_object"
         },
         {
          "ann_aggreement": 1,
          "index": "1180081208_object"
         },
         {
          "ann_aggreement": 1,
          "index": "1180081410_object"
         },
         {
          "ann_aggreement": 1,
          "index": "1180081497_object"
         },
         {
          "ann_aggreement": 1,
          "index": "1180081596_object"
         },
         {
          "ann_aggreement": 0.3333333333333333,
          "index": "1180081666_object"
         },
         {
          "ann_aggreement": 1,
          "index": "1180081698_object"
         },
         {
          "ann_aggreement": 1,
          "index": "1180081832_object"
         },
         {
          "ann_aggreement": 0,
          "index": "1180081842_object"
         },
         {
          "ann_aggreement": 0.6666666666666666,
          "index": "1180081846_object"
         },
         {
          "ann_aggreement": 1,
          "index": "1180082047_object"
         },
         {
          "ann_aggreement": 0,
          "index": "1180082071_object"
         },
         {
          "ann_aggreement": 0,
          "index": "1180082075_object"
         },
         {
          "ann_aggreement": 0.6666666666666666,
          "index": "1180082122_object"
         },
         {
          "ann_aggreement": 0,
          "index": "1180082273_object"
         },
         {
          "ann_aggreement": 0.6666666666666666,
          "index": "1180082345_object"
         },
         {
          "ann_aggreement": 0.6666666666666666,
          "index": "1180082365_object"
         },
         {
          "ann_aggreement": 0.6666666666666666,
          "index": "1180082433_object"
         },
         {
          "ann_aggreement": 1,
          "index": "1180082434_object"
         },
         {
          "ann_aggreement": 0,
          "index": "1180082548_object"
         },
         {
          "ann_aggreement": 0.6666666666666666,
          "index": "1180082614_object"
         }
        ]
       },
       "encoding": {
        "x": {
         "axis": {
          "values": [
           0,
           0.33,
           0.66,
           1
          ]
         },
         "field": "ann_aggreement",
         "type": "quantitative"
        },
        "y": {
         "aggregate": "count",
         "field": "index",
         "scale": {
          "domain": [
           0,
           1000
          ]
         },
         "stack": true,
         "type": "nominal"
        }
       },
       "height": 150,
       "mark": {
        "type": "bar",
        "width": 20
       },
       "title": "Annotator Agreement on AMT (n=1000)",
       "width": 150
      },
      "image/png": "[encoded data removed]",
      "text/plain": [
       "<VegaLite 3 object>\n",
       "\n",
       "If you see this message, it means the renderer has not been properly enabled\n",
       "for the frontend that you are using. For more information, see\n",
       "https://altair-viz.github.io/user_guide/troubleshooting.html\n"
      ]
     },
     "execution_count": 26,
     "metadata": {},
     "output_type": "execute_result"
    }
   ],
   "source": [
    "alt.Chart(pd.DataFrame({'ann_aggreement': smk_results.groupby(level=0)['Answer.image-contains.people'].apply(pd.np.mean)}).reset_index(),\n",
    "          title=f\"Annotator Agreement on AMT (n={len(smk_results.groupby(level=0))})\",\n",
    "          width=150,\n",
    "          height=150).mark_bar(width=20).encode(\n",
    "    x=alt.X('ann_aggreement', axis=alt.Axis(values=[0, .33, .66, 1])),\n",
    "    y=alt.Y('count(index)', scale=alt.Scale(domain=[0, 1000]), stack=True)\n",
    ").configure_axis(\n",
    "    grid=False\n",
    ")"
   ]
  },
  {
   "cell_type": "markdown",
   "metadata": {},
   "source": [
    "The above in numbers"
   ]
  },
  {
   "cell_type": "code",
   "execution_count": 32,
   "metadata": {},
   "outputs": [
    {
     "data": {
      "text/plain": [
       "1.000000    349\n",
       "0.666667    235\n",
       "0.333333    211\n",
       "0.000000    205\n",
       "Name: Answer.image-contains.people, dtype: int64"
      ]
     },
     "execution_count": 32,
     "metadata": {},
     "output_type": "execute_result"
    }
   ],
   "source": [
    "smk_results.groupby(level=0)['Answer.image-contains.people'].apply(pd.np.mean).value_counts()"
   ]
  },
  {
   "cell_type": "markdown",
   "metadata": {},
   "source": [
    "The above reads symmetrically, so that $\\frac{1}{3}$ does not necessarily mean that one person disagreed with the two others, but; the statement to which the data responds to is \"is there a person/people in this image\", and not a gold standard truthfulness."
   ]
  },
  {
   "cell_type": "markdown",
   "metadata": {},
   "source": [
    "## Images split by level of annotator agreement\n",
    "\n",
    "Let's make a copy of the dataset, splitting the four values to separate folders.\n",
    "\n",
    "The directory `data/amt_results/bam-stratified-sample1000/agreement` was made."
   ]
  },
  {
   "cell_type": "code",
   "execution_count": 33,
   "metadata": {},
   "outputs": [
    {
     "name": "stderr",
     "output_type": "stream",
     "text": [
      "100%|██████████| 1000/1000 [00:20<00:00, 47.87it/s]\n"
     ]
    }
   ],
   "source": [
    "for aid, data in tqdm(smk_results.groupby(level=0)):\n",
    "    obj = data.head(1)['object_names'][0][0]['name']\n",
    "    aa = data['Answer.image-contains.people'].mean().round(2)\n",
    "    \n",
    "    try:\n",
    "        shutil.copy(f'data/images/bam-stratified-sample1000/{obj}/{aid}.jpg',\n",
    "                    f'data/amt_results/bam-stratified-sample1000/agreement/{aa}')\n",
    "    except FileExistsError:\n",
    "        ..."
   ]
  },
  {
   "cell_type": "markdown",
   "metadata": {},
   "source": [
    "The above image folders are available on ownCloud."
   ]
  }
 ],
 "metadata": {
  "kernelspec": {
   "display_name": "Python 3",
   "language": "python",
   "name": "python3"
  },
  "language_info": {
   "codemirror_mode": {
    "name": "ipython",
    "version": 3
   },
   "file_extension": ".py",
   "mimetype": "text/x-python",
   "name": "python",
   "nbconvert_exporter": "python",
   "pygments_lexer": "ipython3",
   "version": "3.7.2"
  }
 },
 "nbformat": 4,
 "nbformat_minor": 4
}
