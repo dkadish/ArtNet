{
 "cells": [
  {
   "cell_type": "markdown",
   "metadata": {},
   "source": [
    "# A look at the results of the rest of SMK images person/people classification AMT batches\n",
    "\n",
    "On 2020-01-20 we ran 7 more batches of images in the *SMK does image contain a person or people? with thumbnails and less pay* project, using as data the from `datasources.Smk.get_sample('the-rest-after-next5000-not-on-iip-smk-dk')`. This is the rest of the Open Data SMK images in the Public Domain, excluding the first 1000 and the next 5000 images, and additionally filtering out images which SMK serves from the server *iip.smk.dk* because it was causing issues earlier."
   ]
  },
  {
   "cell_type": "code",
   "execution_count": null,
   "metadata": {},
   "outputs": [],
   "source": [
    "import pandas as pd\n",
    "import altair as alt\n",
    "from datasources import Smk"
   ]
  },
  {
   "cell_type": "code",
   "execution_count": null,
   "metadata": {},
   "outputs": [],
   "source": [
    "smk = Smk()"
   ]
  },
  {
   "cell_type": "code",
   "execution_count": null,
   "metadata": {},
   "outputs": [],
   "source": [
    "%time\n",
    "sample = smk.get_sample('the-rest-after-next5000-not-on-iip-smk-dk')\n",
    "sample.shape"
   ]
  },
  {
   "cell_type": "code",
   "execution_count": null,
   "metadata": {},
   "outputs": [],
   "source": [
    "amt_result_dir = 'data/amt_results/the-rest-of-smk-excluding-iip-smk-server/'\n",
    "amt_result_files = ['Batch_3895760_batch_results.csv',\n",
    "                    'Batch_3895771_batch_results.csv',\n",
    "                    'Batch_3895772_batch_results.csv',\n",
    "                    'Batch_3895786_batch_results.csv',\n",
    "                    'Batch_3895787_batch_results.csv',\n",
    "                    'Batch_3895789_batch_results.csv',\n",
    "                    'Batch_3895791_batch_results.csv']"
   ]
  },
  {
   "cell_type": "code",
   "execution_count": null,
   "metadata": {},
   "outputs": [],
   "source": [
    "amt_results = pd.read_csv(f\"{amt_result_dir}/{amt_result_files[0]}\")"
   ]
  },
  {
   "cell_type": "code",
   "execution_count": null,
   "metadata": {},
   "outputs": [],
   "source": [
    "%time\n",
    "amt_results = pd.DataFrame()\n",
    "for file in amt_result_files:\n",
    "    amt_results = amt_results.append(pd.read_csv(f\"{amt_result_dir}/{file}\", index_col='HITId'))\n",
    "\n",
    "amt_results.shape"
   ]
  },
  {
   "cell_type": "code",
   "execution_count": null,
   "metadata": {},
   "outputs": [],
   "source": [
    "amt_results.columns"
   ]
  },
  {
   "cell_type": "markdown",
   "metadata": {},
   "source": [
    "Whoop Altair is going to have issues if column names have dots in them; this is a JSON issue on Vega-Lite side of things as the dot is for objects. So rename them."
   ]
  },
  {
   "cell_type": "code",
   "execution_count": null,
   "metadata": {},
   "outputs": [],
   "source": [
    "amt_results = amt_results.rename(columns=lambda l: l.replace('.', '_'))"
   ]
  },
  {
   "cell_type": "markdown",
   "metadata": {},
   "source": [
    "Might be a good idea also to rename the hyphens. Anyway, data parsing looks ready."
   ]
  },
  {
   "cell_type": "code",
   "execution_count": null,
   "metadata": {},
   "outputs": [],
   "source": [
    "amt_results.head(2)"
   ]
  },
  {
   "cell_type": "markdown",
   "metadata": {},
   "source": [
    "### Sanity checks on the data"
   ]
  },
  {
   "cell_type": "markdown",
   "metadata": {},
   "source": [
    "The project has 3 assignments per HIT, so there should be three lines per image in the sample. These could go to our tests module."
   ]
  },
  {
   "cell_type": "code",
   "execution_count": null,
   "metadata": {},
   "outputs": [],
   "source": [
    "assert len(sample) * 3 == len(amt_results), \"Should have as many images as assignments.\"\n",
    "assert len(sample) == amt_results.index.unique().size, \"Should have as many images as unique HITs\"\n",
    "assert (amt_results.groupby('Input_id').size() == 3).all(), \"Should have 3 assignments for each image.\"\n",
    "assert sample.index.difference(amt_results.set_index('Input_id').index).empty, \"Should have empty intersection of sample ids and HIT ids \""
   ]
  },
  {
   "cell_type": "markdown",
   "metadata": {},
   "source": [
    "# Results summary"
   ]
  },
  {
   "cell_type": "code",
   "execution_count": null,
   "metadata": {},
   "outputs": [],
   "source": [
    "alt.data_transformers.disable_max_rows()"
   ]
  },
  {
   "cell_type": "code",
   "execution_count": null,
   "metadata": {},
   "outputs": [],
   "source": [
    "alt.Chart(amt_results).mark_bar().encode(\n",
    "    x='count()',\n",
    "    y='Answer_image-contains_label',\n",
    ")"
   ]
  },
  {
   "cell_type": "markdown",
   "metadata": {},
   "source": [
    "What about annotation agreement?"
   ]
  },
  {
   "cell_type": "markdown",
   "metadata": {},
   "source": [
    "First let's make a numeric, binomial 1/0 variable out of the Yes' and Nos, which we can also use for calculations."
   ]
  },
  {
   "cell_type": "code",
   "execution_count": null,
   "metadata": {},
   "outputs": [],
   "source": [
    "amt_results['Answer_has-people'] = amt_results['Answer_image-contains_label'].replace({'Yes': 1, 'No': 0})"
   ]
  },
  {
   "cell_type": "code",
   "execution_count": null,
   "metadata": {},
   "outputs": [],
   "source": [
    "alt.Chart(amt_results.groupby('Input_id')['Answer_has-people'].mean().reset_index(), width=100, height=200).mark_bar(width=15).encode(\n",
    "    x=alt.X('Answer_has-people', scale=alt.Scale(domain=[0, 1])),\n",
    "    y='count()'\n",
    ")"
   ]
  },
  {
   "cell_type": "markdown",
   "metadata": {},
   "source": [
    "Good, it is well out of uniform distribution."
   ]
  },
  {
   "cell_type": "code",
   "execution_count": null,
   "metadata": {},
   "outputs": [],
   "source": [
    "alt.Chart(amt_results, width=700).transform_density(\n",
    "    'WorkTimeInSeconds',\n",
    "    as_=['WorkTimeInSeconds', 'density']\n",
    ").mark_line(opacity=0.6).encode(\n",
    "    x='WorkTimeInSeconds:Q',\n",
    "    y='density:Q'\n",
    ")"
   ]
  }
 ],
 "metadata": {
  "kernelspec": {
   "display_name": "Python 3",
   "language": "python",
   "name": "python3"
  },
  "language_info": {
   "codemirror_mode": {
    "name": "ipython",
    "version": 3
   },
   "file_extension": ".py",
   "mimetype": "text/x-python",
   "name": "python",
   "nbconvert_exporter": "python",
   "pygments_lexer": "ipython3",
   "version": "3.7.2"
  }
 },
 "nbformat": 4,
 "nbformat_minor": 4
}
