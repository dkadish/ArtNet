{
 "cells": [
  {
   "cell_type": "code",
   "execution_count": 1,
   "metadata": {},
   "outputs": [],
   "source": [
    "import glob\n",
    "import random"
   ]
  },
  {
   "cell_type": "code",
   "execution_count": 5,
   "metadata": {},
   "outputs": [
    {
     "data": {
      "text/plain": [
       "(345, 238, 30, 77)"
      ]
     },
     "execution_count": 5,
     "metadata": {},
     "output_type": "execute_result"
    }
   ],
   "source": [
    "files = glob.glob(\"../ArtNet_Data/Annotations/*.xml\")\n",
    "all_images =[]\n",
    "train = []\n",
    "val =[]\n",
    "test =[] \n",
    "for file in files:\n",
    "    name = file.split('/')[3].split('.')[0]\n",
    "    all_images.append(name)\n",
    "    rand_number = random.random()\n",
    "    if(rand_number <0.7): \n",
    "        train.append(name)\n",
    "    elif(rand_number<0.9):\n",
    "        val.append(name)\n",
    "    else:\n",
    "        test.append(name)\n",
    "\n",
    "def Write_Data(file, fileNames):   \n",
    "    text_file = open(\"../ArtNet_Data/ImageSets/Main/\"+file, \"w+\")\n",
    "    for name in fileNames:\n",
    "        text_file.write(name + '\\n')\n",
    "    text_file.close()\n",
    "\n",
    "Write_Data('train.txt', train)\n",
    "Write_Data('trainval.txt', val)\n",
    "Write_Data('val.txt', val)\n",
    "Write_Data('test.txt', test)\n",
    "\n",
    "len(all_images), len(train), len(test), len(val)\n",
    "    "
   ]
  }
 ],
 "metadata": {
  "kernelspec": {
   "display_name": "Python 3.6",
   "language": "python",
   "name": "python3"
  },
  "language_info": {
   "codemirror_mode": {
    "name": "ipython",
    "version": 3
   },
   "file_extension": ".py",
   "mimetype": "text/x-python",
   "name": "python",
   "nbconvert_exporter": "python",
   "pygments_lexer": "ipython3",
   "version": "3.6.8"
  }
 },
 "nbformat": 4,
 "nbformat_minor": 2
}
