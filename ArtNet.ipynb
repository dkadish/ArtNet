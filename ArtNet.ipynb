{
 "cells": [
  {
   "cell_type": "code",
   "execution_count": 4,
   "metadata": {},
   "outputs": [],
   "source": [
    "import pandas as pd\n",
    "import requests\n",
    "import json\n",
    "from PIL import Image\n",
    "from io import BytesIO"
   ]
  },
  {
   "cell_type": "markdown",
   "metadata": {},
   "source": [
    "#import requests\n",
    "#import json\n",
    "#response = requests.get(\"https://api.smk.dk/api/v1/\")\n",
    "#response.status_code\n",
    "\n",
    "Would not use the api"
   ]
  },
  {
   "cell_type": "code",
   "execution_count": 5,
   "metadata": {},
   "outputs": [
    {
     "name": "stderr",
     "output_type": "stream",
     "text": [
      "/Users/larispardo/Library/Python/3.7/lib/python/site-packages/IPython/core/interactiveshell.py:3058: DtypeWarning: Columns (8,37,48,49,86,88,89,106) have mixed types. Specify dtype option on import or set low_memory=False.\n",
      "  interactivity=interactivity, compiler=compiler, result=result)\n"
     ]
    }
   ],
   "source": [
    "df_json = pd.read_json('smk_all_artworks.json')\n",
    "df_csv = pd.read_csv('smk_all_artworks.csv')\n",
    "df_all = pd.read_csv('smk_all.csv')"
   ]
  },
  {
   "cell_type": "code",
   "execution_count": 13,
   "metadata": {},
   "outputs": [
    {
     "data": {
      "text/plain": [
       "((22397, 53), (22397, 33), (84671, 115))"
      ]
     },
     "execution_count": 13,
     "metadata": {},
     "output_type": "execute_result"
    }
   ],
   "source": [
    "df_json.shape, df_csv.shape, df_all.shape"
   ]
  },
  {
   "cell_type": "code",
   "execution_count": 14,
   "metadata": {},
   "outputs": [],
   "source": [
    "df_csv = df_csv[df_csv.image_iiif_info.notnull() & df_csv.public_domain ]\n",
    "df_json = df_json[df_json.image_iiif_info.notnull() & df_json.public_domain ]"
   ]
  },
  {
   "cell_type": "code",
   "execution_count": 15,
   "metadata": {},
   "outputs": [
    {
     "data": {
      "text/plain": [
       "((22397, 53), (22397, 33))"
      ]
     },
     "execution_count": 15,
     "metadata": {},
     "output_type": "execute_result"
    }
   ],
   "source": [
    "df_json.shape, df_csv.shape"
   ]
  },
  {
   "cell_type": "markdown",
   "metadata": {},
   "source": [
    "warning columns (all dataset):\n",
    "1. acq_reason :: coment on art work, not many full (54 of 84k)\n",
    "2. dimention_weight :: coments on weight? many repeated only 23 of 84k\n",
    "3. inscription_stoebemaerke :: \"for nylig!\" 21 of 84k\n",
    "4. inscription_stoebenummer :: \" mange √•r senere\" (same pictures as the ones from inscription_stoebemaerke.\n",
    "5. other_numbers_beckett :: random numbers sometimes with letters on the end \" ville v√¶re i stand til i h√∏jere grad at dechifrere denne samling rekvisitter\" (1.6k of 84k)\n",
    "6. other_numbers_gernsheim :: random numbers sometimes with letters. \" da lignende genstande havde vist sig i bygden s√• mange √•r tilbage.;--;KMS8553/8;--;sibling;-;Syv fors√∏g p√• at skabe passende apparatur til almindelige familier. Fors√∏g nr. 1. For mange √•r siden dukkede der pludselig en dag disse groft udformede tingester med bandagelignende komponenter op i bygden. De l√¶nede sig op ad en husgavl her og der!\" (2k of 84k)\n",
    "7. other_numbers_sidetal :: numbers sometimes words, most common: \" og med deres indbundne elementer\" (1k out of 84k)\n",
    "8. techniquearticle :: diferent phrases (30 of 84k)\n",
    "\n",
    "recommended actions, do not care and delete this columns from final data frame."
   ]
  },
  {
   "cell_type": "markdown",
   "metadata": {},
   "source": [
    "object type and type main seem to be the same thing.\n",
    "\n",
    "1. has image = medium_image_url (44k out of 84k)\n",
    "2. image_native or iiif (does not exist in the current dataset).\n",
    "3. Public domain = copyright, none are labeled as public domain, but 55k have nothing written on them. (31 k blank and url)\n",
    "4. object_names = object_type_en and object_type_main_en (seem to be always the same)\n",
    "5. production_date = object_production_date_text_en seem to be very inconsistent on how they save dates."
   ]
  },
  {
   "cell_type": "markdown",
   "metadata": {},
   "source": [
    "Reproduction variable is null everywhere.\n"
   ]
  },
  {
   "cell_type": "code",
   "execution_count": 16,
   "metadata": {},
   "outputs": [
    {
     "data": {
      "text/plain": [
       "(21,\n",
       " ['colors',\n",
       "  'current_location_date',\n",
       "  'created',\n",
       "  'work_status',\n",
       "  'parts',\n",
       "  'inscriptions',\n",
       "  'part_of',\n",
       "  'related_objects',\n",
       "  'collection',\n",
       "  'rights',\n",
       "  'labels',\n",
       "  'notes',\n",
       "  'credit_line',\n",
       "  'content_description',\n",
       "  'image_type',\n",
       "  'distinguishing_features',\n",
       "  'production_dates_notes',\n",
       "  'content_person',\n",
       "  'frame_notes',\n",
       "  'acquisition_date',\n",
       "  'current_location_name'])"
      ]
     },
     "execution_count": 16,
     "metadata": {},
     "output_type": "execute_result"
    }
   ],
   "source": [
    "#df['has_image']\n",
    "#df.columns[[8,37,48,49,86,88,89,106]]\n",
    "dif_list = list(set(df_json.columns)-set(df_csv.columns))\n",
    "len(dif_list),dif_list"
   ]
  },
  {
   "cell_type": "markdown",
   "metadata": {},
   "source": [
    "There is one  column that csv has that json"
   ]
  },
  {
   "cell_type": "code",
   "execution_count": 17,
   "metadata": {},
   "outputs": [
    {
     "data": {
      "text/plain": [
       "{'reproduction'}"
      ]
     },
     "execution_count": 17,
     "metadata": {},
     "output_type": "execute_result"
    }
   ],
   "source": [
    "set(df_csv.columns)-set(df_json.columns)"
   ]
  },
  {
   "cell_type": "code",
   "execution_count": 18,
   "metadata": {},
   "outputs": [
    {
     "data": {
      "text/plain": [
       "count    0.0\n",
       "mean     NaN\n",
       "std      NaN\n",
       "min      NaN\n",
       "25%      NaN\n",
       "50%      NaN\n",
       "75%      NaN\n",
       "max      NaN\n",
       "Name: reproduction, dtype: float64"
      ]
     },
     "execution_count": 18,
     "metadata": {},
     "output_type": "execute_result"
    }
   ],
   "source": [
    "df_csv.reproduction.describe() # All Nan's"
   ]
  },
  {
   "cell_type": "markdown",
   "metadata": {},
   "source": [
    "After checking it is empty"
   ]
  },
  {
   "cell_type": "markdown",
   "metadata": {},
   "source": [
    "Now let's check the 21 columns if any is empty"
   ]
  },
  {
   "cell_type": "markdown",
   "metadata": {},
   "source": [
    "number 3 is problematic, we should remove."
   ]
  },
  {
   "cell_type": "code",
   "execution_count": 19,
   "metadata": {},
   "outputs": [
    {
     "data": {
      "text/plain": [
       "count               6793\n",
       "unique                64\n",
       "top       [del af serie]\n",
       "freq                1978\n",
       "Name: work_status, dtype: object"
      ]
     },
     "execution_count": 19,
     "metadata": {},
     "output_type": "execute_result"
    }
   ],
   "source": [
    "df_json[dif_list[3]].describe()"
   ]
  },
  {
   "cell_type": "code",
   "execution_count": 20,
   "metadata": {},
   "outputs": [],
   "source": [
    "del dif_list[3]"
   ]
  },
  {
   "cell_type": "code",
   "execution_count": 34,
   "metadata": {},
   "outputs": [],
   "source": [
    "descrip = df_json[dif_list].describe()"
   ]
  },
  {
   "cell_type": "code",
   "execution_count": null,
   "metadata": {},
   "outputs": [],
   "source": []
  },
  {
   "cell_type": "code",
   "execution_count": 37,
   "metadata": {},
   "outputs": [
    {
     "data": {
      "text/plain": [
       "count                 22397\n",
       "unique                22397\n",
       "top       1180077002_object\n",
       "freq                      1\n",
       "Name: id, dtype: object"
      ]
     },
     "execution_count": 37,
     "metadata": {},
     "output_type": "execute_result"
    }
   ],
   "source": [
    "df_json.id.describe()"
   ]
  },
  {
   "cell_type": "code",
   "execution_count": 22,
   "metadata": {},
   "outputs": [],
   "source": [
    "df = df_csv"
   ]
  },
  {
   "cell_type": "code",
   "execution_count": 23,
   "metadata": {},
   "outputs": [],
   "source": [
    "numeric_fields = ['image_height','number_of_parts','image_width','reproduction','image_size']\n",
    "categoric_fields = list(set(df.columns)-set(numeric_fields))"
   ]
  },
  {
   "cell_type": "code",
   "execution_count": 24,
   "metadata": {},
   "outputs": [
    {
     "data": {
      "text/html": [
       "<div>\n",
       "<style scoped>\n",
       "    .dataframe tbody tr th:only-of-type {\n",
       "        vertical-align: middle;\n",
       "    }\n",
       "\n",
       "    .dataframe tbody tr th {\n",
       "        vertical-align: top;\n",
       "    }\n",
       "\n",
       "    .dataframe thead th {\n",
       "        text-align: right;\n",
       "    }\n",
       "</style>\n",
       "<table border=\"1\" class=\"dataframe\">\n",
       "  <thead>\n",
       "    <tr style=\"text-align: right;\">\n",
       "      <th></th>\n",
       "      <th>image_height</th>\n",
       "      <th>number_of_parts</th>\n",
       "      <th>image_width</th>\n",
       "      <th>reproduction</th>\n",
       "      <th>image_size</th>\n",
       "    </tr>\n",
       "  </thead>\n",
       "  <tbody>\n",
       "    <tr>\n",
       "      <th>count</th>\n",
       "      <td>22397.000000</td>\n",
       "      <td>15484.000000</td>\n",
       "      <td>22397.000000</td>\n",
       "      <td>0.0</td>\n",
       "      <td>2.223600e+04</td>\n",
       "    </tr>\n",
       "    <tr>\n",
       "      <th>mean</th>\n",
       "      <td>3709.919409</td>\n",
       "      <td>30.200982</td>\n",
       "      <td>3563.228781</td>\n",
       "      <td>NaN</td>\n",
       "      <td>2.846717e+07</td>\n",
       "    </tr>\n",
       "    <tr>\n",
       "      <th>std</th>\n",
       "      <td>1321.359699</td>\n",
       "      <td>84.945399</td>\n",
       "      <td>1260.025523</td>\n",
       "      <td>NaN</td>\n",
       "      <td>3.573088e+07</td>\n",
       "    </tr>\n",
       "    <tr>\n",
       "      <th>min</th>\n",
       "      <td>636.000000</td>\n",
       "      <td>0.000000</td>\n",
       "      <td>548.000000</td>\n",
       "      <td>NaN</td>\n",
       "      <td>2.555500e+05</td>\n",
       "    </tr>\n",
       "    <tr>\n",
       "      <th>25%</th>\n",
       "      <td>2879.000000</td>\n",
       "      <td>1.000000</td>\n",
       "      <td>2798.000000</td>\n",
       "      <td>NaN</td>\n",
       "      <td>1.557097e+07</td>\n",
       "    </tr>\n",
       "    <tr>\n",
       "      <th>50%</th>\n",
       "      <td>3542.000000</td>\n",
       "      <td>1.000000</td>\n",
       "      <td>3390.000000</td>\n",
       "      <td>NaN</td>\n",
       "      <td>2.190360e+07</td>\n",
       "    </tr>\n",
       "    <tr>\n",
       "      <th>75%</th>\n",
       "      <td>4293.000000</td>\n",
       "      <td>6.000000</td>\n",
       "      <td>4080.000000</td>\n",
       "      <td>NaN</td>\n",
       "      <td>3.181878e+07</td>\n",
       "    </tr>\n",
       "    <tr>\n",
       "      <th>max</th>\n",
       "      <td>24134.000000</td>\n",
       "      <td>1191.000000</td>\n",
       "      <td>20124.000000</td>\n",
       "      <td>NaN</td>\n",
       "      <td>1.457062e+09</td>\n",
       "    </tr>\n",
       "  </tbody>\n",
       "</table>\n",
       "</div>"
      ],
      "text/plain": [
       "       image_height  number_of_parts   image_width  reproduction    image_size\n",
       "count  22397.000000     15484.000000  22397.000000           0.0  2.223600e+04\n",
       "mean    3709.919409        30.200982   3563.228781           NaN  2.846717e+07\n",
       "std     1321.359699        84.945399   1260.025523           NaN  3.573088e+07\n",
       "min      636.000000         0.000000    548.000000           NaN  2.555500e+05\n",
       "25%     2879.000000         1.000000   2798.000000           NaN  1.557097e+07\n",
       "50%     3542.000000         1.000000   3390.000000           NaN  2.190360e+07\n",
       "75%     4293.000000         6.000000   4080.000000           NaN  3.181878e+07\n",
       "max    24134.000000      1191.000000  20124.000000           NaN  1.457062e+09"
      ]
     },
     "execution_count": 24,
     "metadata": {},
     "output_type": "execute_result"
    }
   ],
   "source": [
    "df[numeric_fields].describe()"
   ]
  },
  {
   "cell_type": "code",
   "execution_count": 25,
   "metadata": {},
   "outputs": [
    {
     "data": {
      "text/html": [
       "<div>\n",
       "<style scoped>\n",
       "    .dataframe tbody tr th:only-of-type {\n",
       "        vertical-align: middle;\n",
       "    }\n",
       "\n",
       "    .dataframe tbody tr th {\n",
       "        vertical-align: top;\n",
       "    }\n",
       "\n",
       "    .dataframe thead th {\n",
       "        text-align: right;\n",
       "    }\n",
       "</style>\n",
       "<table border=\"1\" class=\"dataframe\">\n",
       "  <thead>\n",
       "    <tr style=\"text-align: right;\">\n",
       "      <th></th>\n",
       "      <th>image_native</th>\n",
       "      <th>modified</th>\n",
       "      <th>has_image</th>\n",
       "      <th>dimensions</th>\n",
       "      <th>titles</th>\n",
       "      <th>production_date</th>\n",
       "      <th>materials</th>\n",
       "      <th>image_iiif_id</th>\n",
       "      <th>documentation</th>\n",
       "      <th>image_cropped</th>\n",
       "      <th>...</th>\n",
       "      <th>acquisition_date_precision</th>\n",
       "      <th>exhibitions</th>\n",
       "      <th>production</th>\n",
       "      <th>id</th>\n",
       "      <th>object_number</th>\n",
       "      <th>image_mime_type</th>\n",
       "      <th>on_display</th>\n",
       "      <th>iiif_manifest</th>\n",
       "      <th>public_domain</th>\n",
       "      <th>image_iiif_info</th>\n",
       "    </tr>\n",
       "  </thead>\n",
       "  <tbody>\n",
       "    <tr>\n",
       "      <th>count</th>\n",
       "      <td>22397</td>\n",
       "      <td>22397</td>\n",
       "      <td>22397</td>\n",
       "      <td>22210</td>\n",
       "      <td>22384</td>\n",
       "      <td>22393</td>\n",
       "      <td>2429</td>\n",
       "      <td>22397</td>\n",
       "      <td>12686</td>\n",
       "      <td>18680</td>\n",
       "      <td>...</td>\n",
       "      <td>22064</td>\n",
       "      <td>3098</td>\n",
       "      <td>22393</td>\n",
       "      <td>22397</td>\n",
       "      <td>22397</td>\n",
       "      <td>22397</td>\n",
       "      <td>22397</td>\n",
       "      <td>22397</td>\n",
       "      <td>22397</td>\n",
       "      <td>22397</td>\n",
       "    </tr>\n",
       "    <tr>\n",
       "      <th>unique</th>\n",
       "      <td>21833</td>\n",
       "      <td>2522</td>\n",
       "      <td>1</td>\n",
       "      <td>16163</td>\n",
       "      <td>17749</td>\n",
       "      <td>4949</td>\n",
       "      <td>230</td>\n",
       "      <td>22026</td>\n",
       "      <td>9655</td>\n",
       "      <td>2</td>\n",
       "      <td>...</td>\n",
       "      <td>1079</td>\n",
       "      <td>1069</td>\n",
       "      <td>4189</td>\n",
       "      <td>22397</td>\n",
       "      <td>22397</td>\n",
       "      <td>1</td>\n",
       "      <td>2</td>\n",
       "      <td>22397</td>\n",
       "      <td>1</td>\n",
       "      <td>22026</td>\n",
       "    </tr>\n",
       "    <tr>\n",
       "      <th>top</th>\n",
       "      <td>https://iip.smk.dk/iiif/jp2/kksgb5041_8.tif.re...</td>\n",
       "      <td>2019-08-12T09:22:04Z</td>\n",
       "      <td>True</td>\n",
       "      <td>[{'part': 'bladmaal', 'type': 'hojde', 'notes'...</td>\n",
       "      <td>[{'type': 'ARTIST', 'title': 'Udklip på papir ...</td>\n",
       "      <td>[{'period': '1743-1809', 'start': '1743-01-01T...</td>\n",
       "      <td>[{'material': 'lærred'}, {'material': 'olie'}]</td>\n",
       "      <td>https://iip.smk.dk/iiif/jp2/pc4-21-06-05_092.t...</td>\n",
       "      <td>[{'shelfmark': 'C 28423', 'author': 'unknown',...</td>\n",
       "      <td>True</td>\n",
       "      <td>...</td>\n",
       "      <td>1887-01-01</td>\n",
       "      <td>[{'exhibition': \"What's Happening?\", 'date_sta...</td>\n",
       "      <td>[{'creator': 'Lundbye, Johan Thomas', 'creator...</td>\n",
       "      <td>1180077002_object</td>\n",
       "      <td>KKSgb4061</td>\n",
       "      <td>image/tiff</td>\n",
       "      <td>False</td>\n",
       "      <td>https://api.smk.dk/api/v1/iiif/manifest/?id=kk...</td>\n",
       "      <td>True</td>\n",
       "      <td>https://iip.smk.dk/iiif/jp2/pc4-21-06-05_092.t...</td>\n",
       "    </tr>\n",
       "    <tr>\n",
       "      <th>freq</th>\n",
       "      <td>3</td>\n",
       "      <td>21</td>\n",
       "      <td>22397</td>\n",
       "      <td>354</td>\n",
       "      <td>354</td>\n",
       "      <td>453</td>\n",
       "      <td>1195</td>\n",
       "      <td>3</td>\n",
       "      <td>337</td>\n",
       "      <td>18679</td>\n",
       "      <td>...</td>\n",
       "      <td>3410</td>\n",
       "      <td>383</td>\n",
       "      <td>879</td>\n",
       "      <td>1</td>\n",
       "      <td>1</td>\n",
       "      <td>22397</td>\n",
       "      <td>21852</td>\n",
       "      <td>1</td>\n",
       "      <td>22397</td>\n",
       "      <td>3</td>\n",
       "    </tr>\n",
       "  </tbody>\n",
       "</table>\n",
       "<p>4 rows × 28 columns</p>\n",
       "</div>"
      ],
      "text/plain": [
       "                                             image_native  \\\n",
       "count                                               22397   \n",
       "unique                                              21833   \n",
       "top     https://iip.smk.dk/iiif/jp2/kksgb5041_8.tif.re...   \n",
       "freq                                                    3   \n",
       "\n",
       "                    modified has_image  \\\n",
       "count                  22397     22397   \n",
       "unique                  2522         1   \n",
       "top     2019-08-12T09:22:04Z      True   \n",
       "freq                      21     22397   \n",
       "\n",
       "                                               dimensions  \\\n",
       "count                                               22210   \n",
       "unique                                              16163   \n",
       "top     [{'part': 'bladmaal', 'type': 'hojde', 'notes'...   \n",
       "freq                                                  354   \n",
       "\n",
       "                                                   titles  \\\n",
       "count                                               22384   \n",
       "unique                                              17749   \n",
       "top     [{'type': 'ARTIST', 'title': 'Udklip på papir ...   \n",
       "freq                                                  354   \n",
       "\n",
       "                                          production_date  \\\n",
       "count                                               22393   \n",
       "unique                                               4949   \n",
       "top     [{'period': '1743-1809', 'start': '1743-01-01T...   \n",
       "freq                                                  453   \n",
       "\n",
       "                                             materials  \\\n",
       "count                                             2429   \n",
       "unique                                             230   \n",
       "top     [{'material': 'lærred'}, {'material': 'olie'}]   \n",
       "freq                                              1195   \n",
       "\n",
       "                                            image_iiif_id  \\\n",
       "count                                               22397   \n",
       "unique                                              22026   \n",
       "top     https://iip.smk.dk/iiif/jp2/pc4-21-06-05_092.t...   \n",
       "freq                                                    3   \n",
       "\n",
       "                                            documentation image_cropped  ...  \\\n",
       "count                                               12686         18680  ...   \n",
       "unique                                               9655             2  ...   \n",
       "top     [{'shelfmark': 'C 28423', 'author': 'unknown',...          True  ...   \n",
       "freq                                                  337         18679  ...   \n",
       "\n",
       "       acquisition_date_precision  \\\n",
       "count                       22064   \n",
       "unique                       1079   \n",
       "top                    1887-01-01   \n",
       "freq                         3410   \n",
       "\n",
       "                                              exhibitions  \\\n",
       "count                                                3098   \n",
       "unique                                               1069   \n",
       "top     [{'exhibition': \"What's Happening?\", 'date_sta...   \n",
       "freq                                                  383   \n",
       "\n",
       "                                               production                 id  \\\n",
       "count                                               22393              22397   \n",
       "unique                                               4189              22397   \n",
       "top     [{'creator': 'Lundbye, Johan Thomas', 'creator...  1180077002_object   \n",
       "freq                                                  879                  1   \n",
       "\n",
       "       object_number image_mime_type on_display  \\\n",
       "count          22397           22397      22397   \n",
       "unique         22397               1          2   \n",
       "top        KKSgb4061      image/tiff      False   \n",
       "freq               1           22397      21852   \n",
       "\n",
       "                                            iiif_manifest public_domain  \\\n",
       "count                                               22397         22397   \n",
       "unique                                              22397             1   \n",
       "top     https://api.smk.dk/api/v1/iiif/manifest/?id=kk...          True   \n",
       "freq                                                    1         22397   \n",
       "\n",
       "                                          image_iiif_info  \n",
       "count                                               22397  \n",
       "unique                                              22026  \n",
       "top     https://iip.smk.dk/iiif/jp2/pc4-21-06-05_092.t...  \n",
       "freq                                                    3  \n",
       "\n",
       "[4 rows x 28 columns]"
      ]
     },
     "execution_count": 25,
     "metadata": {},
     "output_type": "execute_result"
    }
   ],
   "source": [
    "df[categoric_fields].describe()"
   ]
  },
  {
   "cell_type": "code",
   "execution_count": 42,
   "metadata": {},
   "outputs": [],
   "source": [
    "repeated_images = set([x for x in df.image_native if list(df.image_native).count(x) > 1])"
   ]
  },
  {
   "cell_type": "code",
   "execution_count": 58,
   "metadata": {},
   "outputs": [
    {
     "data": {
      "text/html": [
       "<div>\n",
       "<style scoped>\n",
       "    .dataframe tbody tr th:only-of-type {\n",
       "        vertical-align: middle;\n",
       "    }\n",
       "\n",
       "    .dataframe tbody tr th {\n",
       "        vertical-align: top;\n",
       "    }\n",
       "\n",
       "    .dataframe thead th {\n",
       "        text-align: right;\n",
       "    }\n",
       "</style>\n",
       "<table border=\"1\" class=\"dataframe\">\n",
       "  <thead>\n",
       "    <tr style=\"text-align: right;\">\n",
       "      <th></th>\n",
       "      <th>image_iiif_info</th>\n",
       "      <th>materials</th>\n",
       "      <th>production</th>\n",
       "      <th>modified</th>\n",
       "      <th>id</th>\n",
       "      <th>object_history_note</th>\n",
       "      <th>image_orientation</th>\n",
       "      <th>object_number</th>\n",
       "      <th>production_date</th>\n",
       "      <th>image_height</th>\n",
       "      <th>...</th>\n",
       "      <th>content_subject</th>\n",
       "      <th>image_width</th>\n",
       "      <th>reproduction</th>\n",
       "      <th>image_size</th>\n",
       "      <th>public_domain</th>\n",
       "      <th>dimensions</th>\n",
       "      <th>image_mime_type</th>\n",
       "      <th>iiif_manifest</th>\n",
       "      <th>acquisition_date_precision</th>\n",
       "      <th>image_cropped</th>\n",
       "    </tr>\n",
       "  </thead>\n",
       "  <tbody>\n",
       "    <tr>\n",
       "      <th>5</th>\n",
       "      <td>https://iip.smk.dk/iiif/jp2/pc4-15-03-2005_-_0...</td>\n",
       "      <td>NaN</td>\n",
       "      <td>[{'creator': 'Abildgaard, Nicolai', 'creator_d...</td>\n",
       "      <td>2019-08-12T09:21:24Z</td>\n",
       "      <td>1180000006_object</td>\n",
       "      <td>NaN</td>\n",
       "      <td>landscape</td>\n",
       "      <td>KKSgb4085</td>\n",
       "      <td>[{'period': 'Ca. 1800', 'start': '1798-01-01T0...</td>\n",
       "      <td>2002.0</td>\n",
       "      <td>...</td>\n",
       "      <td>NaN</td>\n",
       "      <td>2842.0</td>\n",
       "      <td>NaN</td>\n",
       "      <td>14652080.0</td>\n",
       "      <td>True</td>\n",
       "      <td>[{'part': 'bladmaal', 'type': 'hojde', 'notes'...</td>\n",
       "      <td>image/tiff</td>\n",
       "      <td>https://api.smk.dk/api/v1/iiif/manifest/?id=kk...</td>\n",
       "      <td>1887-01-01</td>\n",
       "      <td>True</td>\n",
       "    </tr>\n",
       "    <tr>\n",
       "      <th>7</th>\n",
       "      <td>https://iip.smk.dk/iiif/jp2/pc4-15-02-05_-_019...</td>\n",
       "      <td>NaN</td>\n",
       "      <td>[{'creator': 'Abildgaard, Nicolai', 'creator_d...</td>\n",
       "      <td>2019-08-12T09:21:24Z</td>\n",
       "      <td>1180000008_object</td>\n",
       "      <td>NaN</td>\n",
       "      <td>landscape</td>\n",
       "      <td>KKSgb3953</td>\n",
       "      <td>[{'period': '1743-1809', 'start': '1743-01-01T...</td>\n",
       "      <td>2104.0</td>\n",
       "      <td>...</td>\n",
       "      <td>NaN</td>\n",
       "      <td>3864.0</td>\n",
       "      <td>NaN</td>\n",
       "      <td>17744534.0</td>\n",
       "      <td>True</td>\n",
       "      <td>[{'part': 'bladmaal', 'type': 'hojde', 'notes'...</td>\n",
       "      <td>image/tiff</td>\n",
       "      <td>https://api.smk.dk/api/v1/iiif/manifest/?id=kk...</td>\n",
       "      <td>1887-01-01</td>\n",
       "      <td>True</td>\n",
       "    </tr>\n",
       "    <tr>\n",
       "      <th>8</th>\n",
       "      <td>https://iip.smk.dk/iiif/jp2/pc4-07-09-04_-_011...</td>\n",
       "      <td>NaN</td>\n",
       "      <td>[{'creator': 'Bendz, Wilhelm', 'creator_date_o...</td>\n",
       "      <td>2019-08-12T09:21:24Z</td>\n",
       "      <td>1180000009_object</td>\n",
       "      <td>NaN</td>\n",
       "      <td>portrait</td>\n",
       "      <td>KKSgb6349</td>\n",
       "      <td>[{'period': '1832', 'start': '1832-01-01T00:00...</td>\n",
       "      <td>3014.0</td>\n",
       "      <td>...</td>\n",
       "      <td>NaN</td>\n",
       "      <td>2554.0</td>\n",
       "      <td>NaN</td>\n",
       "      <td>15521912.0</td>\n",
       "      <td>True</td>\n",
       "      <td>[{'part': 'bladmaal', 'type': 'hojde', 'notes'...</td>\n",
       "      <td>image/tiff</td>\n",
       "      <td>https://api.smk.dk/api/v1/iiif/manifest/?id=kk...</td>\n",
       "      <td>1885-12-31</td>\n",
       "      <td>True</td>\n",
       "    </tr>\n",
       "    <tr>\n",
       "      <th>14</th>\n",
       "      <td>https://iip.smk.dk/iiif/jp2/KKSgb10055.tif.jp2...</td>\n",
       "      <td>NaN</td>\n",
       "      <td>[{'creator_nationality': 'tysk', 'creator': 'F...</td>\n",
       "      <td>2019-08-12T09:21:24Z</td>\n",
       "      <td>1180000015_object</td>\n",
       "      <td>NaN</td>\n",
       "      <td>portrait</td>\n",
       "      <td>KKSgb10055</td>\n",
       "      <td>[{'period': '1737', 'start': '1737-01-01T00:00...</td>\n",
       "      <td>6144.0</td>\n",
       "      <td>...</td>\n",
       "      <td>NaN</td>\n",
       "      <td>4096.0</td>\n",
       "      <td>NaN</td>\n",
       "      <td>75532972.0</td>\n",
       "      <td>True</td>\n",
       "      <td>[{'part': 'bladmaal', 'type': 'hojde', 'notes'...</td>\n",
       "      <td>image/tiff</td>\n",
       "      <td>https://api.smk.dk/api/v1/iiif/manifest/?id=kk...</td>\n",
       "      <td>1887-01-01</td>\n",
       "      <td>NaN</td>\n",
       "    </tr>\n",
       "    <tr>\n",
       "      <th>16</th>\n",
       "      <td>https://iip.smk.dk/iiif/jp2/kksgb4943.tif.jp2/...</td>\n",
       "      <td>NaN</td>\n",
       "      <td>[{'creator_qualifier': 'tilskrevet', 'creator_...</td>\n",
       "      <td>2019-08-12T09:21:24Z</td>\n",
       "      <td>1180000017_object</td>\n",
       "      <td>['Gammel bestand']</td>\n",
       "      <td>portrait</td>\n",
       "      <td>KKSgb4943</td>\n",
       "      <td>[{'period': 'Ca. 1662', 'start': '1660-01-01T0...</td>\n",
       "      <td>3537.0</td>\n",
       "      <td>...</td>\n",
       "      <td>NaN</td>\n",
       "      <td>2226.0</td>\n",
       "      <td>NaN</td>\n",
       "      <td>7888404.0</td>\n",
       "      <td>True</td>\n",
       "      <td>[{'part': 'bladmaal', 'type': 'hojde', 'notes'...</td>\n",
       "      <td>image/tiff</td>\n",
       "      <td>https://api.smk.dk/api/v1/iiif/manifest/?id=kk...</td>\n",
       "      <td>1887-01-01</td>\n",
       "      <td>NaN</td>\n",
       "    </tr>\n",
       "  </tbody>\n",
       "</table>\n",
       "<p>5 rows × 33 columns</p>\n",
       "</div>"
      ],
      "text/plain": [
       "                                      image_iiif_info materials  \\\n",
       "5   https://iip.smk.dk/iiif/jp2/pc4-15-03-2005_-_0...       NaN   \n",
       "7   https://iip.smk.dk/iiif/jp2/pc4-15-02-05_-_019...       NaN   \n",
       "8   https://iip.smk.dk/iiif/jp2/pc4-07-09-04_-_011...       NaN   \n",
       "14  https://iip.smk.dk/iiif/jp2/KKSgb10055.tif.jp2...       NaN   \n",
       "16  https://iip.smk.dk/iiif/jp2/kksgb4943.tif.jp2/...       NaN   \n",
       "\n",
       "                                           production              modified  \\\n",
       "5   [{'creator': 'Abildgaard, Nicolai', 'creator_d...  2019-08-12T09:21:24Z   \n",
       "7   [{'creator': 'Abildgaard, Nicolai', 'creator_d...  2019-08-12T09:21:24Z   \n",
       "8   [{'creator': 'Bendz, Wilhelm', 'creator_date_o...  2019-08-12T09:21:24Z   \n",
       "14  [{'creator_nationality': 'tysk', 'creator': 'F...  2019-08-12T09:21:24Z   \n",
       "16  [{'creator_qualifier': 'tilskrevet', 'creator_...  2019-08-12T09:21:24Z   \n",
       "\n",
       "                   id object_history_note image_orientation object_number  \\\n",
       "5   1180000006_object                 NaN         landscape     KKSgb4085   \n",
       "7   1180000008_object                 NaN         landscape     KKSgb3953   \n",
       "8   1180000009_object                 NaN          portrait     KKSgb6349   \n",
       "14  1180000015_object                 NaN          portrait    KKSgb10055   \n",
       "16  1180000017_object  ['Gammel bestand']          portrait     KKSgb4943   \n",
       "\n",
       "                                      production_date  image_height  ...  \\\n",
       "5   [{'period': 'Ca. 1800', 'start': '1798-01-01T0...        2002.0  ...   \n",
       "7   [{'period': '1743-1809', 'start': '1743-01-01T...        2104.0  ...   \n",
       "8   [{'period': '1832', 'start': '1832-01-01T00:00...        3014.0  ...   \n",
       "14  [{'period': '1737', 'start': '1737-01-01T00:00...        6144.0  ...   \n",
       "16  [{'period': 'Ca. 1662', 'start': '1660-01-01T0...        3537.0  ...   \n",
       "\n",
       "   content_subject  image_width reproduction  image_size public_domain  \\\n",
       "5              NaN       2842.0          NaN  14652080.0          True   \n",
       "7              NaN       3864.0          NaN  17744534.0          True   \n",
       "8              NaN       2554.0          NaN  15521912.0          True   \n",
       "14             NaN       4096.0          NaN  75532972.0          True   \n",
       "16             NaN       2226.0          NaN   7888404.0          True   \n",
       "\n",
       "                                           dimensions  image_mime_type  \\\n",
       "5   [{'part': 'bladmaal', 'type': 'hojde', 'notes'...       image/tiff   \n",
       "7   [{'part': 'bladmaal', 'type': 'hojde', 'notes'...       image/tiff   \n",
       "8   [{'part': 'bladmaal', 'type': 'hojde', 'notes'...       image/tiff   \n",
       "14  [{'part': 'bladmaal', 'type': 'hojde', 'notes'...       image/tiff   \n",
       "16  [{'part': 'bladmaal', 'type': 'hojde', 'notes'...       image/tiff   \n",
       "\n",
       "                                        iiif_manifest  \\\n",
       "5   https://api.smk.dk/api/v1/iiif/manifest/?id=kk...   \n",
       "7   https://api.smk.dk/api/v1/iiif/manifest/?id=kk...   \n",
       "8   https://api.smk.dk/api/v1/iiif/manifest/?id=kk...   \n",
       "14  https://api.smk.dk/api/v1/iiif/manifest/?id=kk...   \n",
       "16  https://api.smk.dk/api/v1/iiif/manifest/?id=kk...   \n",
       "\n",
       "   acquisition_date_precision image_cropped  \n",
       "5                  1887-01-01          True  \n",
       "7                  1887-01-01          True  \n",
       "8                  1885-12-31          True  \n",
       "14                 1887-01-01           NaN  \n",
       "16                 1887-01-01           NaN  \n",
       "\n",
       "[5 rows x 33 columns]"
      ]
     },
     "execution_count": 58,
     "metadata": {},
     "output_type": "execute_result"
    }
   ],
   "source": [
    "df.head()"
   ]
  },
  {
   "cell_type": "markdown",
   "metadata": {},
   "source": [
    "Get image"
   ]
  },
  {
   "cell_type": "code",
   "execution_count": 63,
   "metadata": {},
   "outputs": [],
   "source": [
    "df_sampled = df[['id','image_native']].sample(100)"
   ]
  },
  {
   "cell_type": "markdown",
   "metadata": {},
   "source": [
    "### Save images"
   ]
  },
  {
   "cell_type": "code",
   "execution_count": 66,
   "metadata": {},
   "outputs": [
    {
     "name": "stderr",
     "output_type": "stream",
     "text": [
      "/Users/larispardo/Library/Python/3.7/lib/python/site-packages/PIL/Image.py:2731: DecompressionBombWarning: Image size (150355200 pixels) exceeds limit of 89478485 pixels, could be decompression bomb DOS attack.\n",
      "  DecompressionBombWarning,\n"
     ]
    }
   ],
   "source": [
    "for i in range(len(df_sampled.id)):\n",
    "    response = requests.get(df_sampled.image_native.iloc[i])\n",
    "    img = Image.open(BytesIO(response.content))\n",
    "    img.save('images/'+df_sampled.id.iloc[i]+'.jpg')"
   ]
  },
  {
   "cell_type": "code",
   "execution_count": 26,
   "metadata": {},
   "outputs": [],
   "source": []
  },
  {
   "cell_type": "code",
   "execution_count": 27,
   "metadata": {},
   "outputs": [],
   "source": []
  },
  {
   "cell_type": "code",
   "execution_count": 30,
   "metadata": {},
   "outputs": [],
   "source": []
  },
  {
   "cell_type": "code",
   "execution_count": 189,
   "metadata": {},
   "outputs": [],
   "source": []
  },
  {
   "cell_type": "code",
   "execution_count": 60,
   "metadata": {},
   "outputs": [],
   "source": []
  }
 ],
 "metadata": {
  "kernelspec": {
   "display_name": "Python 3",
   "language": "python",
   "name": "python3"
  },
  "language_info": {
   "codemirror_mode": {
    "name": "ipython",
    "version": 3
   },
   "file_extension": ".py",
   "mimetype": "text/x-python",
   "name": "python",
   "nbconvert_exporter": "python",
   "pygments_lexer": "ipython3",
   "version": "3.7.3"
  }
 },
 "nbformat": 4,
 "nbformat_minor": 2
}
